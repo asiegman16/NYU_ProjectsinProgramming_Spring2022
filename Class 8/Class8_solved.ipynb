{
  "nbformat": 4,
  "nbformat_minor": 0,
  "metadata": {
    "kernelspec": {
      "display_name": "Python 3",
      "language": "python",
      "name": "python3"
    },
    "language_info": {
      "codemirror_mode": {
        "name": "ipython",
        "version": 3
      },
      "file_extension": ".py",
      "mimetype": "text/x-python",
      "name": "python",
      "nbconvert_exporter": "python",
      "pygments_lexer": "ipython3",
      "version": "3.7.6"
    },
    "colab": {
      "name": "Class8_solved.ipynb",
      "provenance": []
    }
  },
  "cells": [
    {
      "cell_type": "markdown",
      "metadata": {
        "id": "U17mtdB0_Ld8"
      },
      "source": [
        "# Web APIs"
      ]
    },
    {
      "cell_type": "markdown",
      "metadata": {
        "id": "VQ3Ngm-d_Ld9"
      },
      "source": [
        "---"
      ]
    },
    {
      "cell_type": "markdown",
      "metadata": {
        "id": "Z3pWK8g2_Ld-"
      },
      "source": [
        "What even is an API (Application Programming Interface)? \n",
        "\n",
        "Think about what happens when I visit NYT.com..."
      ]
    },
    {
      "cell_type": "markdown",
      "metadata": {
        "id": "eppGDWpi_Ld_"
      },
      "source": [
        "1. I as the \"Person\" go to https://www.nytimes.com in my browser (known as the \"Client\"), <br>\n",
        "<br>\n",
        "2. The client makes a request to the NYT Website (known as the \"Server\") – think of this server as a warehouse with all of the NYT content, <br>\n",
        "<br>\n",
        "3. The server responds to the client request with HTML, CSS, images, and other assets. The browser then combines those assets and displays them on the webpage. <br>\n",
        "\n",
        "An API is what allows the Server to \"talk to\" the Client, and vice-versa. "
      ]
    },
    {
      "cell_type": "markdown",
      "metadata": {
        "id": "3R0wUnzQ_Ld_"
      },
      "source": [
        "---"
      ]
    },
    {
      "cell_type": "markdown",
      "metadata": {
        "id": "C7GKI8uu_LeA"
      },
      "source": [
        "## `Request-Response Cycle`\n",
        "\n",
        "To understand what's happening here, it's important to understand the \"Request-Response Cycle.\" As we've seen, this involves the client sending a request to the server (via an API) and the server responding (also via an API). \n",
        "\n",
        "Behind the scenes, to make this cycle possible, you need: \n",
        "\n",
        "1. a URL, \n",
        "2. a Method, \n",
        "3. a list of Headers,\n",
        "4. a Body"
      ]
    },
    {
      "cell_type": "markdown",
      "metadata": {
        "id": "yOhNVF-W_LeB"
      },
      "source": [
        "### *The URL*\n",
        "\n",
        "> HTTP (Hyper-Text Transfer Protocol) is exactly what it sounds like, a protocol. It allows for a common language that enables the client and server to speak with one another. \n",
        "\n",
        "### *The Method*\n",
        "\n",
        "> The four most common methods are GET (ask the server to retrieve something), POST (ask the server to create something), PUT (ask the server to edit something), and DELETE (ask the server to delete something). \n",
        "\n",
        "### *Headers*\n",
        "\n",
        "> Headers provide meatdata about a request, such as the time a request was sent. \n",
        "\n",
        "### *Body*\n",
        "\n",
        "> The body contains the data the client wants sent to the server. "
      ]
    },
    {
      "cell_type": "markdown",
      "metadata": {
        "id": "k63aDEV1_LeB"
      },
      "source": [
        "## Let's see it in action:"
      ]
    },
    {
      "cell_type": "markdown",
      "metadata": {
        "id": "aSCjiYfO_LeC"
      },
      "source": [
        "**First, let's check the NYT homepage and go to Developer > Developer Tools in our browser**"
      ]
    },
    {
      "cell_type": "markdown",
      "metadata": {
        "id": "_j9CHCPU_LeC"
      },
      "source": [
        "**Then, click \"Network\"** "
      ]
    },
    {
      "cell_type": "markdown",
      "metadata": {
        "id": "GzK3W3Qr_LeD"
      },
      "source": [
        "**Now we can click on the article of interest (the first article on teir homepage, in this case) and see what happens when we request that information.**"
      ]
    },
    {
      "cell_type": "markdown",
      "metadata": {
        "id": "-wK1oh3r_LeE"
      },
      "source": [
        "**We can then select \"Img\" to see all of the images loaded**"
      ]
    },
    {
      "cell_type": "markdown",
      "metadata": {
        "id": "0pu2Xl8s_LeE"
      },
      "source": [
        "**And we can see the request URL for the first image on the article:**"
      ]
    },
    {
      "cell_type": "markdown",
      "metadata": {
        "id": "raDNQLWU_LeF"
      },
      "source": [
        "**Last but not least, when we go to that URL, we see our image!** (Looks like it's being stored in GCS)"
      ]
    },
    {
      "cell_type": "markdown",
      "metadata": {
        "id": "hPPtaBK1oJHH"
      },
      "source": [
        "---"
      ]
    },
    {
      "cell_type": "markdown",
      "source": [
        "# ⭕ **QUESTIONS?**"
      ],
      "metadata": {
        "id": "nkfg_Y0yoJHP"
      }
    },
    {
      "cell_type": "markdown",
      "metadata": {
        "id": "Eh3TeuhOoJHQ"
      },
      "source": [
        "---"
      ]
    },
    {
      "cell_type": "markdown",
      "metadata": {
        "id": "iphVPloi_LeG"
      },
      "source": [
        "## Example 2: GeoIP resolution"
      ]
    },
    {
      "cell_type": "markdown",
      "metadata": {
        "id": "JpI7H9gf_LeG"
      },
      "source": [
        "We will start with an example that is doing a \"geoIP\" resolution: it takes the IP of a computer and returns back its location."
      ]
    },
    {
      "cell_type": "code",
      "metadata": {
        "id": "AgboKnFs_LeH",
        "outputId": "28dfd02e-eb24-4e37-ef47-4bf3aac22c32",
        "colab": {
          "base_uri": "https://localhost:8080/"
        }
      },
      "source": [
        "# https://ipstack.com/\n",
        "\n",
        "import requests\n",
        "\n",
        "url = 'http://api.ipstack.com/check?access_key=dd4cbbbe9d6b9f2709e5f0533644e547'\n",
        "resp = requests.get(url)\n",
        "\n",
        "resp # the 'response' of the server\n",
        "\n",
        "# 200 means things went well\n",
        "# 404 means the URL wasn't found\n",
        "# 5xx means something, somehow, somewhere went wrong "
      ],
      "execution_count": null,
      "outputs": [
        {
          "output_type": "execute_result",
          "data": {
            "text/plain": [
              "<Response [200]>"
            ]
          },
          "metadata": {},
          "execution_count": 1
        }
      ]
    },
    {
      "cell_type": "code",
      "metadata": {
        "id": "k7BaJaOH_LeK",
        "outputId": "877f502f-adf5-43d4-d864-c42f0bf37fb9",
        "colab": {
          "base_uri": "https://localhost:8080/",
          "height": 105
        }
      },
      "source": [
        "# let's see the content of the response\n",
        "\n",
        "data = resp.text\n",
        "data"
      ],
      "execution_count": null,
      "outputs": [
        {
          "output_type": "execute_result",
          "data": {
            "application/vnd.google.colaboratory.intrinsic+json": {
              "type": "string"
            },
            "text/plain": [
              "'{\"ip\": \"35.230.57.99\", \"type\": \"ipv4\", \"continent_code\": \"NA\", \"continent_name\": \"North America\", \"country_code\": \"US\", \"country_name\": \"United States\", \"region_code\": \"OR\", \"region_name\": \"Oregon\", \"city\": \"The Dalles\", \"zip\": \"97058\", \"latitude\": 45.55424880981445, \"longitude\": -121.18699645996094, \"location\": {\"geoname_id\": 5756304, \"capital\": \"Washington D.C.\", \"languages\": [{\"code\": \"en\", \"name\": \"English\", \"native\": \"English\"}], \"country_flag\": \"https://assets.ipstack.com/flags/us.svg\", \"country_flag_emoji\": \"\\\\ud83c\\\\uddfa\\\\ud83c\\\\uddf8\", \"country_flag_emoji_unicode\": \"U+1F1FA U+1F1F8\", \"calling_code\": \"1\", \"is_eu\": false}}'"
            ]
          },
          "metadata": {},
          "execution_count": 5
        }
      ]
    },
    {
      "cell_type": "code",
      "metadata": {
        "id": "Yb00leoc_LeM",
        "outputId": "33be7f2b-6e36-45d9-a23d-71fb2d8c80e3",
        "colab": {
          "base_uri": "https://localhost:8080/"
        }
      },
      "source": [
        "# last but not least, let's transofrm the JSON file into a Python dictionary object using .json\n",
        "\n",
        "data = resp.json()\n",
        "\n",
        "data"
      ],
      "execution_count": null,
      "outputs": [
        {
          "output_type": "execute_result",
          "data": {
            "text/plain": [
              "{'city': 'The Dalles',\n",
              " 'continent_code': 'NA',\n",
              " 'continent_name': 'North America',\n",
              " 'country_code': 'US',\n",
              " 'country_name': 'United States',\n",
              " 'ip': '35.230.57.99',\n",
              " 'latitude': 45.55424880981445,\n",
              " 'location': {'calling_code': '1',\n",
              "  'capital': 'Washington D.C.',\n",
              "  'country_flag': 'https://assets.ipstack.com/flags/us.svg',\n",
              "  'country_flag_emoji': '🇺🇸',\n",
              "  'country_flag_emoji_unicode': 'U+1F1FA U+1F1F8',\n",
              "  'geoname_id': 5756304,\n",
              "  'is_eu': False,\n",
              "  'languages': [{'code': 'en', 'name': 'English', 'native': 'English'}]},\n",
              " 'longitude': -121.18699645996094,\n",
              " 'region_code': 'OR',\n",
              " 'region_name': 'Oregon',\n",
              " 'type': 'ipv4',\n",
              " 'zip': '97058'}"
            ]
          },
          "metadata": {},
          "execution_count": 6
        }
      ]
    },
    {
      "cell_type": "code",
      "metadata": {
        "id": "2bF209bV_LeO",
        "outputId": "b7b9e0c2-6082-409b-c178-7fcd24e77df6",
        "colab": {
          "base_uri": "https://localhost:8080/"
        }
      },
      "source": [
        "# now we can access the fields of the JSON as we normally access Python dictionary entries\n",
        "\n",
        "print(\"Lon:\", data[\"longitude\"], \"Lat:\", data[\"latitude\"])"
      ],
      "execution_count": null,
      "outputs": [
        {
          "output_type": "stream",
          "name": "stdout",
          "text": [
            "Lon: -121.18699645996094 Lat: 45.55424880981445\n"
          ]
        }
      ]
    },
    {
      "cell_type": "markdown",
      "metadata": {
        "id": "f7lw0_g7_LeR"
      },
      "source": [
        "Alltogether now:"
      ]
    },
    {
      "cell_type": "code",
      "metadata": {
        "id": "225vK2aE_LeR",
        "outputId": "520441a5-3b84-47db-8635-bfe0cb3e6077",
        "colab": {
          "base_uri": "https://localhost:8080/"
        }
      },
      "source": [
        "import requests\n",
        "url = 'http://api.ipstack.com/check?access_key=dd4cbbbe9d6b9f2709e5f0533644e547'\n",
        "resp = requests.get(url)\n",
        "data = resp.json()\n",
        "print(\"Lon:\", data[\"longitude\"], \"Lat:\", data[\"latitude\"])"
      ],
      "execution_count": null,
      "outputs": [
        {
          "output_type": "stream",
          "name": "stdout",
          "text": [
            "Lon: -121.18699645996094 Lat: 45.55424880981445\n"
          ]
        }
      ]
    },
    {
      "cell_type": "markdown",
      "metadata": {
        "id": "OXeiUU4SoUpx"
      },
      "source": [
        "---"
      ]
    },
    {
      "cell_type": "markdown",
      "source": [
        "# ⭕ **QUESTIONS?**"
      ],
      "metadata": {
        "id": "kUqJ7xXzoUp5"
      }
    },
    {
      "cell_type": "markdown",
      "metadata": {
        "id": "8-_nYCCNoUp5"
      },
      "source": [
        "---"
      ]
    },
    {
      "cell_type": "markdown",
      "metadata": {
        "id": "ai0zbkrZ_LeU"
      },
      "source": [
        "## Using Parameters with API Calls\n"
      ]
    },
    {
      "cell_type": "markdown",
      "metadata": {
        "id": "5l7YwQFI_LeV"
      },
      "source": [
        "The first API call that we tried was very simple. We just fetched a URL. Now let's see a URL that accepts as input a set of **parameters**. We have already seen this concept with functions; the parameters of the API calls are the exact equivalent but for Web APIs, which are, at their core, functions that we call over the web. "
      ]
    },
    {
      "cell_type": "markdown",
      "metadata": {
        "id": "PLfaoMO9_LeV"
      },
      "source": [
        "## Example 3: OpenWeatherMap"
      ]
    },
    {
      "cell_type": "markdown",
      "metadata": {
        "id": "3EHMceyc_LeW"
      },
      "source": [
        "Let's try to query OpenWeatherMap now, to get data about the weather. [Documentation here](http://openweathermap.org/current#geo). \n",
        "\n",
        "Below you can find the URL that you can copy and paste in your browser to get the weather for New York. You will notice that it contains parameters as part of the URL, including an `appid` which is a key that is used to limit the number of calls that can be issued by a single application. \n",
        "\n",
        "Try the URL in your browser. Also try to change the query parameter `q` and change it from `New%20York,NY` to something different. (Note: The `%20` is a transformation for the space (` `) character in URLs.)"
      ]
    },
    {
      "cell_type": "markdown",
      "metadata": {
        "id": "bcV9iLV7_LeW"
      },
      "source": [
        "http://api.openweathermap.org/data/2.5/weather?q=New%20York,NY,USA&units=imperial&mode=json&appid=ffb7b9808e07c9135bdcc7d1e867253d"
      ]
    },
    {
      "cell_type": "markdown",
      "metadata": {
        "id": "U--K4V5I_LeX"
      },
      "source": [
        "Below you can find the same code, but now we have a Python dictionary to organize and list the parameters."
      ]
    },
    {
      "cell_type": "code",
      "metadata": {
        "id": "lF7whC-u_LeX",
        "outputId": "92777d16-637d-44c5-f36f-d89a3bdbde38",
        "colab": {
          "base_uri": "https://localhost:8080/"
        }
      },
      "source": [
        "import requests\n",
        "\n",
        "openweathermap_url = \"http://api.openweathermap.org/data/2.5/weather\"\n",
        "\n",
        "parameters = {\n",
        "    'q'     : 'New York, NY, USA',\n",
        "    'units' : 'imperial',\n",
        "    'mode'  : 'json',\n",
        "    'appid' : 'ffb7b9808e07c9135bdcc7d1e867253d'\n",
        "}\n",
        "\n",
        "resp = requests.get(openweathermap_url, params=parameters)\n",
        "data = resp.json()\n",
        "data"
      ],
      "execution_count": null,
      "outputs": [
        {
          "output_type": "execute_result",
          "data": {
            "text/plain": [
              "{'base': 'stations',\n",
              " 'clouds': {'all': 75},\n",
              " 'cod': 200,\n",
              " 'coord': {'lat': 40.7306, 'lon': -73.9866},\n",
              " 'dt': 1646660848,\n",
              " 'id': 5128581,\n",
              " 'main': {'feels_like': 56.84,\n",
              "  'humidity': 72,\n",
              "  'pressure': 1012,\n",
              "  'temp': 57.96,\n",
              "  'temp_max': 64.45,\n",
              "  'temp_min': 50.85},\n",
              " 'name': 'New York',\n",
              " 'sys': {'country': 'US',\n",
              "  'id': 4610,\n",
              "  'sunrise': 1646652044,\n",
              "  'sunset': 1646693609,\n",
              "  'type': 1},\n",
              " 'timezone': -18000,\n",
              " 'visibility': 10000,\n",
              " 'weather': [{'description': 'broken clouds',\n",
              "   'icon': '04d',\n",
              "   'id': 803,\n",
              "   'main': 'Clouds'}],\n",
              " 'wind': {'deg': 80, 'speed': 6.91}}"
            ]
          },
          "metadata": {},
          "execution_count": 9
        }
      ]
    },
    {
      "cell_type": "markdown",
      "metadata": {
        "id": "sW-WLPLNwhl4"
      },
      "source": [
        "---"
      ]
    },
    {
      "cell_type": "markdown",
      "source": [
        "# ⭕ **QUESTIONS?**"
      ],
      "metadata": {
        "id": "Cl5dInjNwhl_"
      }
    },
    {
      "cell_type": "markdown",
      "metadata": {
        "id": "MvmEFNfPwhmA"
      },
      "source": [
        "---"
      ]
    },
    {
      "cell_type": "markdown",
      "metadata": {
        "id": "jDyj3Nqo_LeZ"
      },
      "source": [
        "# Exercise 1: Extract the current temperature from the returned JSON response."
      ]
    },
    {
      "cell_type": "code",
      "metadata": {
        "id": "7HzzrM21_Lea"
      },
      "source": [
        "# your code here"
      ],
      "execution_count": null,
      "outputs": []
    },
    {
      "cell_type": "markdown",
      "metadata": {
        "id": "L2fWFRE7_Lec"
      },
      "source": [
        "# Solution"
      ]
    },
    {
      "cell_type": "code",
      "metadata": {
        "solution2": "hidden",
        "id": "kQ-JngCH_Led",
        "outputId": "b479b795-dfa8-4d3f-92d2-8dcd991335a3",
        "colab": {
          "base_uri": "https://localhost:8080/"
        }
      },
      "source": [
        "print(f\"Temperature: {data['main']['temp']}F\")\n",
        "      \n",
        "# note, the 'f' in front is what's known as an 'f-string'; it allows us to avoid using % formatting "
      ],
      "execution_count": null,
      "outputs": [
        {
          "output_type": "stream",
          "name": "stdout",
          "text": [
            "Temperature: 57.96F\n"
          ]
        }
      ]
    },
    {
      "cell_type": "markdown",
      "metadata": {
        "id": "PKrPDv0Vo2_0"
      },
      "source": [
        "---"
      ]
    },
    {
      "cell_type": "markdown",
      "source": [
        "# ⭕ **QUESTIONS?**"
      ],
      "metadata": {
        "id": "sMwKd0TCo2_0"
      }
    },
    {
      "cell_type": "markdown",
      "metadata": {
        "id": "HMb66d1bo2_0"
      },
      "source": [
        "---"
      ]
    },
    {
      "cell_type": "markdown",
      "metadata": {
        "id": "uzYOY8YQ_Lef"
      },
      "source": [
        "# Exercise 2: Extract the description of the current weather"
      ]
    },
    {
      "cell_type": "code",
      "metadata": {
        "id": "IXl9I2eF_Lef"
      },
      "source": [
        "# your code here"
      ],
      "execution_count": null,
      "outputs": []
    },
    {
      "cell_type": "markdown",
      "metadata": {
        "id": "SaFP_ikT_Leh"
      },
      "source": [
        "# Solution"
      ]
    },
    {
      "cell_type": "code",
      "metadata": {
        "solution2": "hidden",
        "id": "RpeYMnpo_Lei",
        "outputId": "91630a78-e002-4bb4-9f38-82a5b2c8e29f",
        "colab": {
          "base_uri": "https://localhost:8080/"
        }
      },
      "source": [
        "print(f\"Description: {data['weather'][0]['description']}\")"
      ],
      "execution_count": null,
      "outputs": [
        {
          "output_type": "stream",
          "name": "stdout",
          "text": [
            "Description: broken clouds\n"
          ]
        }
      ]
    },
    {
      "cell_type": "markdown",
      "metadata": {
        "id": "guEMkCjKo2ZL"
      },
      "source": [
        "---"
      ]
    },
    {
      "cell_type": "markdown",
      "source": [
        "# ⭕ **QUESTIONS?**"
      ],
      "metadata": {
        "id": "hly2nzdqo2ZL"
      }
    },
    {
      "cell_type": "markdown",
      "metadata": {
        "id": "9jW6VHf7o2ZL"
      },
      "source": [
        "---"
      ]
    },
    {
      "cell_type": "markdown",
      "metadata": {
        "id": "q5jJBBOD_Lek"
      },
      "source": [
        "# Exercise 3: Try to change the units to `metric` and repeat\n"
      ]
    },
    {
      "cell_type": "code",
      "metadata": {
        "id": "A79nyv08_Lek"
      },
      "source": [
        "# your code here"
      ],
      "execution_count": null,
      "outputs": []
    },
    {
      "cell_type": "markdown",
      "metadata": {
        "id": "KlBX0GzQ_Lem"
      },
      "source": [
        "# Solution"
      ]
    },
    {
      "cell_type": "code",
      "metadata": {
        "solution2": "hidden",
        "id": "pptVYbPj_Len",
        "outputId": "73c2db1a-4f1f-4f54-8e8e-0dd70a376a51",
        "colab": {
          "base_uri": "https://localhost:8080/"
        }
      },
      "source": [
        "openweathermap_url = \"http://api.openweathermap.org/data/2.5/weather\"\n",
        "parameters = {\n",
        "    'q'     : 'New York, NY, USA',\n",
        "    'units' : 'metric',\n",
        "    'mode'  : 'json',\n",
        "    'appid' : 'ffb7b9808e07c9135bdcc7d1e867253d'\n",
        "}\n",
        "resp = requests.get(openweathermap_url, params=parameters)\n",
        "data = resp.json()\n",
        "print(f\"Temperature in {data['name']}: {data['main']['temp']}C\")\n",
        "print(f\"Description: {data['weather'][0]['description']}\")     "
      ],
      "execution_count": null,
      "outputs": [
        {
          "output_type": "stream",
          "name": "stdout",
          "text": [
            "Temperature in New York: 14.41C\n",
            "Description: broken clouds\n"
          ]
        }
      ]
    },
    {
      "cell_type": "markdown",
      "metadata": {
        "id": "XJFpH7Ogo12O"
      },
      "source": [
        "---"
      ]
    },
    {
      "cell_type": "markdown",
      "source": [
        "# ⭕ **QUESTIONS?**"
      ],
      "metadata": {
        "id": "wcsVwH_so12O"
      }
    },
    {
      "cell_type": "markdown",
      "metadata": {
        "id": "0YPUeFD2o12O"
      },
      "source": [
        "---"
      ]
    },
    {
      "cell_type": "markdown",
      "metadata": {
        "id": "2xAakSCD_Lep"
      },
      "source": [
        "# Exercise 4: Get the weather for San Francisco, CA\n",
        "\n"
      ]
    },
    {
      "cell_type": "code",
      "metadata": {
        "id": "MDRJgGq4_Leq"
      },
      "source": [
        "# your code here"
      ],
      "execution_count": null,
      "outputs": []
    },
    {
      "cell_type": "markdown",
      "metadata": {
        "id": "uw7eDVG4_Les"
      },
      "source": [
        "# Solution"
      ]
    },
    {
      "cell_type": "code",
      "metadata": {
        "solution2": "hidden",
        "id": "q1Lei-Q6_Les",
        "outputId": "d2e887a8-4d97-4e3f-d657-460f723de542",
        "colab": {
          "base_uri": "https://localhost:8080/"
        }
      },
      "source": [
        "openweathermap_url = \"http://api.openweathermap.org/data/2.5/weather\"\n",
        "parameters = {\n",
        "    'q'     : 'San Francisco, CA, USA',\n",
        "    'units' : 'imperial',\n",
        "    'mode'  : 'json',\n",
        "    'appid' : 'ffb7b9808e07c9135bdcc7d1e867253d'\n",
        "}\n",
        "resp = requests.get(openweathermap_url, params=parameters)\n",
        "data = resp.json()\n",
        "print(f\"Temperature in {data['name']}: {data['main']['temp']}C\")\n",
        "print(f\"Description: {data['weather'][0]['description']}\")     "
      ],
      "execution_count": null,
      "outputs": [
        {
          "output_type": "stream",
          "name": "stdout",
          "text": [
            "Temperature in San Francisco: 55.89C\n",
            "Description: overcast clouds\n"
          ]
        }
      ]
    },
    {
      "cell_type": "markdown",
      "metadata": {
        "id": "vmVl2O4soyML"
      },
      "source": [
        "---"
      ]
    },
    {
      "cell_type": "markdown",
      "source": [
        "# ⭕ **QUESTIONS?**"
      ],
      "metadata": {
        "id": "5XmkiSNooyMT"
      }
    },
    {
      "cell_type": "markdown",
      "metadata": {
        "id": "GY2RnRW9oyMT"
      },
      "source": [
        "---"
      ]
    },
    {
      "cell_type": "markdown",
      "metadata": {
        "id": "_9yqyOwY_Lev"
      },
      "source": [
        "# Exercise 5: Study the documentation of the API ([Documentation](http://openweathermap.org/current#geo)). Change the API call to use the longitute and latitude rather than city name."
      ]
    },
    {
      "cell_type": "code",
      "metadata": {
        "id": "1lreQnvW_Lev"
      },
      "source": [
        "# your code here"
      ],
      "execution_count": null,
      "outputs": []
    },
    {
      "cell_type": "markdown",
      "metadata": {
        "id": "sRl1KEwL_Lex"
      },
      "source": [
        "# Solution"
      ]
    },
    {
      "cell_type": "code",
      "metadata": {
        "scrolled": true,
        "solution2": "hidden",
        "id": "DyDqA0WF_Lex",
        "outputId": "5bacfc51-3272-4a76-f1c1-4da27fae7aac",
        "colab": {
          "base_uri": "https://localhost:8080/",
          "height": 476
        }
      },
      "source": [
        "openweathermap_url = \"http://api.openweathermap.org/data/2.5/weather\"\n",
        "parameters = {\n",
        "    'lat'   : 40.7288962,\n",
        "    'lon'   : -73.9966509,\n",
        "    'units' : 'imperial',\n",
        "    'mode'  : 'json',\n",
        "    'appid' : 'ffb7b9808e07c9135bdcc7d1e867253d'\n",
        "}\n",
        "resp = requests.get(openweathermap_url, params=parameters)\n",
        "data = resp.json()\n",
        "data"
      ],
      "execution_count": null,
      "outputs": [
        {
          "output_type": "execute_result",
          "data": {
            "text/plain": [
              "{'base': 'stations',\n",
              " 'clouds': {'all': 90},\n",
              " 'cod': 200,\n",
              " 'coord': {'lat': 40.73, 'lon': -74},\n",
              " 'dt': 1602861962,\n",
              " 'id': 5128581,\n",
              " 'main': {'feels_like': 52.79,\n",
              "  'humidity': 87,\n",
              "  'pressure': 1019,\n",
              "  'temp': 55.02,\n",
              "  'temp_max': 57.2,\n",
              "  'temp_min': 53.6},\n",
              " 'name': 'New York',\n",
              " 'rain': {'1h': 5.01},\n",
              " 'sys': {'country': 'US',\n",
              "  'id': 4610,\n",
              "  'sunrise': 1602846516,\n",
              "  'sunset': 1602886437,\n",
              "  'type': 1},\n",
              " 'timezone': -14400,\n",
              " 'visibility': 4023,\n",
              " 'weather': [{'description': 'heavy intensity rain',\n",
              "   'icon': '10d',\n",
              "   'id': 502,\n",
              "   'main': 'Rain'},\n",
              "  {'description': 'mist', 'icon': '50d', 'id': 701, 'main': 'Mist'}],\n",
              " 'wind': {'deg': 0, 'speed': 4.7}}"
            ]
          },
          "metadata": {
            "tags": []
          },
          "execution_count": 18
        }
      ]
    },
    {
      "cell_type": "markdown",
      "metadata": {
        "id": "MVO6WXTto4mw"
      },
      "source": [
        "---"
      ]
    },
    {
      "cell_type": "markdown",
      "source": [
        "# ⭕ **QUESTIONS?**"
      ],
      "metadata": {
        "id": "7wSsLXX-o4mw"
      }
    },
    {
      "cell_type": "markdown",
      "metadata": {
        "id": "dqlrrABOo4mw"
      },
      "source": [
        "---"
      ]
    },
    {
      "cell_type": "markdown",
      "metadata": {
        "id": "Ih-j0wrr_Lez"
      },
      "source": [
        "# Exercise 6: Read the location of your computer using the GeoIP API. Then use the OpenWeatherMap to query the API and fetch the temperature for the location returned by the GeoIP API. For this exercise, you will need to learn to read variables from a Web API (geoip) and use them as input in another (openweathermap)\n",
        "\n"
      ]
    },
    {
      "cell_type": "code",
      "metadata": {
        "id": "swEc1_5n_Le0"
      },
      "source": [
        "#your code here"
      ],
      "execution_count": null,
      "outputs": []
    },
    {
      "cell_type": "markdown",
      "metadata": {
        "id": "gpYz9R06_Le3"
      },
      "source": [
        "# Solution"
      ]
    },
    {
      "cell_type": "code",
      "metadata": {
        "scrolled": true,
        "solution2": "hidden",
        "id": "qFizbyOX_Le4",
        "outputId": "f4f6db04-a2ab-4d7d-d6fd-7f09f600d215",
        "colab": {
          "base_uri": "https://localhost:8080/"
        }
      },
      "source": [
        "import requests\n",
        "geoip_url = 'http://api.ipstack.com/check?access_key=dd4cbbbe9d6b9f2709e5f0533644e547'\n",
        "resp = requests.get(geoip_url)\n",
        "data = resp.json()\n",
        "lon = data[\"longitude\"]\n",
        "lat = data[\"latitude\"]\n",
        "\n",
        "openweathermap_url = \"http://api.openweathermap.org/data/2.5/weather\"\n",
        "parameters = {\n",
        "    'lat'   : str(lat),\n",
        "    'lon'   : str(lon),\n",
        "    'units' : 'imperial',\n",
        "    'mode'  : 'json',\n",
        "    'appid' : 'ffb7b9808e07c9135bdcc7d1e867253d'\n",
        "}\n",
        "resp = requests.get(openweathermap_url, params=parameters)\n",
        "data = resp.json()\n",
        "print(\"Location:\", data['name'])\n",
        "print(\"Weather:\", data['weather'][0]['description'])\n",
        "print(\"Temperature:\", data['main']['temp'])"
      ],
      "execution_count": null,
      "outputs": [
        {
          "output_type": "stream",
          "name": "stdout",
          "text": [
            "Location: The Dalles\n",
            "Weather: clear sky\n",
            "Temperature: 36.03\n"
          ]
        }
      ]
    },
    {
      "cell_type": "markdown",
      "metadata": {
        "id": "88FzoQXOo7ll"
      },
      "source": [
        "---"
      ]
    },
    {
      "cell_type": "markdown",
      "source": [
        "# ⭕ **QUESTIONS?**"
      ],
      "metadata": {
        "id": "MLgBSd_Ko7ll"
      }
    },
    {
      "cell_type": "markdown",
      "metadata": {
        "id": "owKeZnB0o7ll"
      },
      "source": [
        "---"
      ]
    },
    {
      "cell_type": "markdown",
      "metadata": {
        "id": "Kg3WAC3R_Lfc"
      },
      "source": [
        "## Flask\n",
        "\n",
        "Now, let's build our own API using Flask! https://flask.palletsprojects.com/en/1.1.x/"
      ]
    },
    {
      "cell_type": "markdown",
      "metadata": {
        "id": "Zu9EfJBf_Lfe"
      },
      "source": [
        "In your terminal: \n",
        "\n",
        "1. \\> {navigate to desired directory}\n",
        "2. `mkdir app`\n",
        "3. `cd app`\n",
        "4. `touch hello.py`"
      ]
    },
    {
      "cell_type": "markdown",
      "metadata": {
        "id": "BoeCKPka_Lfe"
      },
      "source": [
        "In `hello.py`, enter the following: \n",
        "\n",
        "```python \n",
        "\n",
        "from flask import Flask\n",
        "app = Flask(__name__)\n",
        "\n",
        "@app.route('/')\n",
        "def hello_world():\n",
        "    return 'Hello, World!'\n",
        "\n",
        "```"
      ]
    },
    {
      "cell_type": "markdown",
      "metadata": {
        "id": "hiDhooWr_Lff"
      },
      "source": [
        "Last but not least, in your terminal: \n",
        "\n",
        "1. `export FLASK_APP=hello.py`\n",
        "2. `flask run`\n",
        "\n",
        "Then visit http://127.0.0.1:5000/ and volia! Your first Flask app!"
      ]
    },
    {
      "cell_type": "markdown",
      "metadata": {
        "id": "IMs3RNHI_Lff"
      },
      "source": [
        "---"
      ]
    },
    {
      "cell_type": "markdown",
      "metadata": {
        "id": "F-BrKhOb_Lfg"
      },
      "source": [
        "# Exercise 5\n",
        "\n",
        "Create a Flask app that takes a user's IP address as input and outputs their location, weather, and temperature."
      ]
    },
    {
      "cell_type": "markdown",
      "metadata": {
        "id": "EmJD2vQo_Lfg"
      },
      "source": [
        "# Solution"
      ]
    },
    {
      "cell_type": "markdown",
      "metadata": {
        "id": "bfVqnyAd_Lfh"
      },
      "source": [
        "1. Navigate to desired directory\n",
        "2. `mkdir weather_app`\n",
        "3. `cd weather_app`\n",
        "4. `touch weather.py`"
      ]
    },
    {
      "cell_type": "markdown",
      "source": [
        "Note: You may need to try the following: \n",
        "\n",
        "```python\n",
        "sudo pip install flask \n",
        "sudo pip install requests\n",
        "\n",
        "```"
      ],
      "metadata": {
        "id": "7qzrpcDO2NMd"
      }
    },
    {
      "cell_type": "markdown",
      "source": [
        "And, if you are getting a \"port already in use\" error, try the following: \n",
        "\n",
        "```python\n",
        "sudo lsof -i:5000\n",
        "```\n",
        "\n",
        "Then, use: \n",
        "```python \n",
        "kill -9 {PID} \n",
        "```"
      ],
      "metadata": {
        "id": "gVgoOgm02U7G"
      }
    },
    {
      "cell_type": "markdown",
      "metadata": {
        "id": "OyRGcc3K_Lfh"
      },
      "source": [
        "```python \n",
        "from flask import Flask\n",
        "\n",
        "app = Flask(__name__)\n",
        "@app.route('/weather')\n",
        "\n",
        "def my_weather():\n",
        "\n",
        "    import requests\n",
        "\n",
        "    geoip_url = 'http://api.ipstack.com/check?access_key=dd4cbbbe9d6b9f2709e5f0533644e547'\n",
        "    resp = requests.get(geoip_url)\n",
        "    data = resp.json()\n",
        "    lon = data[\"longitude\"]\n",
        "    lat = data[\"latitude\"]\n",
        "\n",
        "    openweathermap_url = \"http://api.openweathermap.org/data/2.5/weather\"\n",
        "    parameters = {\n",
        "        'lat'   : str(lat),\n",
        "        'lon'   : str(lon),\n",
        "        'units' : 'imperial',\n",
        "        'mode'  : 'json',\n",
        "        'appid' : 'ffb7b9808e07c9135bdcc7d1e867253d'\n",
        "    }\n",
        "    \n",
        "    resp = requests.get(openweathermap_url, params=parameters)\n",
        "    data = resp.json()\n",
        "\n",
        "    location = data['name']\n",
        "    weather = data['weather'][0]['description']\n",
        "    temp = str(data['main']['temp'])\n",
        "\n",
        "    return 'Location: {}, Weather: {}, Temp: {}'.format(location, weather, temp)\n",
        "\n",
        "```"
      ]
    },
    {
      "cell_type": "markdown",
      "metadata": {
        "id": "xs6UEsau_Lfh"
      },
      "source": [
        "5. `export FLASK_APP=weather.py`\n",
        "6. `flask run`\n",
        "\n",
        "`http://127.0.0.1:5000/weather`"
      ]
    },
    {
      "cell_type": "markdown",
      "metadata": {
        "id": "HD1wB2pcpOfr"
      },
      "source": [
        "---"
      ]
    },
    {
      "cell_type": "markdown",
      "source": [
        "# ⭕ **QUESTIONS?**"
      ],
      "metadata": {
        "id": "RHxWTsH7pOfy"
      }
    },
    {
      "cell_type": "markdown",
      "metadata": {
        "id": "w2HOUz7qpOfy"
      },
      "source": [
        "---"
      ]
    }
  ]
}