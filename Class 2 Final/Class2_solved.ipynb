{
  "cells": [
    {
      "cell_type": "markdown",
      "metadata": {
        "id": "E0odeRpxSuTH"
      },
      "source": [
        "# Data Analysis with Python and Pandas "
      ]
    },
    {
      "cell_type": "markdown",
      "source": [
        "Pandas is a Python package that [\"allows for fast, flexible, and expressive data structures designed to make working with 'relational' or 'labeled' data both easy and intuitive.](https://pandas.pydata.org/pandas-docs/stable/getting_started/overview.html)"
      ],
      "metadata": {
        "id": "OqVIr8w0dpze"
      }
    },
    {
      "cell_type": "code",
      "metadata": {
        "id": "F7ebCLi_SuTJ"
      },
      "source": [
        "import pandas as pd # importing the Pandas library"
      ],
      "execution_count": null,
      "outputs": []
    },
    {
      "cell_type": "markdown",
      "source": [
        "In this course, we will be using Pandas to do _a lot_. Today, we will use it for some preliminary data analysis. "
      ],
      "metadata": {
        "id": "OXOrHMXmd4vz"
      }
    },
    {
      "cell_type": "markdown",
      "metadata": {
        "id": "_O-WZw-JSuTN"
      },
      "source": [
        "# Data Upload\n",
        "\n",
        "The first step of data analysis is to actually get your data in the right place. Remember that using Colab is like borrowing someone else's computer. So, in order to upload our csv (called \"SternTechUserData.csv\") we need to: \n",
        "\n",
        "1. *Download the .zip file from Brightspace to your own computer,*\n",
        "\n",
        "2. *In Colab, click on the file icon on the left-hand side of the screen, then on the upload icon below \"Files\" again on the left-hand side of the screen.*\n",
        "\n",
        "3. *Upload the unzipped SternTechUserData.csv file.*"
      ]
    },
    {
      "cell_type": "markdown",
      "metadata": {
        "id": "ooYkrvKtSuTO"
      },
      "source": [
        "This dataset contains fake data that I created randomly to illustrate the basic tenants of data analysis using Python and Pandas. \n",
        "\n",
        "In order to read this dataset using Pandas, below we are setting our dataset equal to the variable 'df' (a commonplace variable name, standing for 'data frame'):"
      ]
    },
    {
      "cell_type": "code",
      "metadata": {
        "id": "q2KSgr5SSuTP"
      },
      "source": [
        "df = pd.read_csv('./SternTechUserData.csv',encoding='utf-8') # read in the csv\n",
        "\n",
        "# you can ignore the 'encoding' piece for now, we'll get to that later on when we talk about web scraping. "
      ],
      "execution_count": null,
      "outputs": []
    },
    {
      "cell_type": "markdown",
      "metadata": {
        "id": "Uy06siIeGRZM"
      },
      "source": [
        "---"
      ]
    },
    {
      "cell_type": "markdown",
      "source": [
        "# ⭕ **QUESTIONS?**"
      ],
      "metadata": {
        "id": "4GZojYnLW3O4"
      }
    },
    {
      "cell_type": "markdown",
      "metadata": {
        "id": "Bv9DsLKxUy5i"
      },
      "source": [
        "---"
      ]
    },
    {
      "cell_type": "markdown",
      "metadata": {
        "id": "oEnTuqitSuTR"
      },
      "source": [
        "# Primary Analysis of our Data"
      ]
    },
    {
      "cell_type": "markdown",
      "metadata": {
        "id": "jJ-mJHNLSuTV"
      },
      "source": [
        "### `df.head()` \n",
        "will give us the first five rows of our data frame \n",
        "\n",
        "### `df.tail()` \n",
        "will give us the last five rows \n",
        "\n",
        "### `df.head(15)` \n",
        "will give us the first fifteen rows <br>"
      ]
    },
    {
      "cell_type": "code",
      "metadata": {
        "id": "oNEpTyitSuTV"
      },
      "source": [
        "df.head() "
      ],
      "execution_count": null,
      "outputs": []
    },
    {
      "cell_type": "markdown",
      "metadata": {
        "id": "HY_qhgFVSuTY"
      },
      "source": [
        "### `df.columns` \n",
        "will give us a list of all the column names in our data frame"
      ]
    },
    {
      "cell_type": "code",
      "metadata": {
        "id": "tCU-IcRBSuTY"
      },
      "source": [
        "df.columns "
      ],
      "execution_count": null,
      "outputs": []
    },
    {
      "cell_type": "markdown",
      "metadata": {
        "id": "mJg-yATuSuTa"
      },
      "source": [
        "### `df.dtypes` \n",
        "is going to tell us how the computer is interpreting our data (for instance, as a string, integer, float, et. cetera). Please note that in Pandas, \"object\" is, for all intents and purposes, the same as a \"string\" in Python."
      ]
    },
    {
      "cell_type": "code",
      "metadata": {
        "id": "qMnC4u1uSuTb"
      },
      "source": [
        "df.dtypes "
      ],
      "execution_count": null,
      "outputs": []
    },
    {
      "cell_type": "markdown",
      "metadata": {
        "id": "Yeu0RgamSuTe"
      },
      "source": [
        "Let's drop that \"unnamed\" column because it's not going to do us any good."
      ]
    },
    {
      "cell_type": "code",
      "metadata": {
        "id": "ibQxOWIESuTe"
      },
      "source": [
        "df = df.drop(df.columns[0],axis=1)\n",
        "\n",
        "# this is saying, \"drop the first column (the 0th index)\" Remember, in Python, we start counting at 0!\n",
        "# \"axis=1\" specifies that we want to drop a column. If we used \"axis=0\" we would be specifying a row to drop\n",
        "\n",
        "# to drop columns, you could also say: \"df = df.drop(columns=[\"Unnamed: 0\"]"
      ],
      "execution_count": null,
      "outputs": []
    },
    {
      "cell_type": "code",
      "source": [
        "df.head()"
      ],
      "metadata": {
        "id": "cYDCffSnPrmJ"
      },
      "execution_count": null,
      "outputs": []
    },
    {
      "cell_type": "markdown",
      "metadata": {
        "id": "I-uIABteSuTh"
      },
      "source": [
        "### `df.describe` \n",
        "is going to give us the basic statistical metrics for our data frame"
      ]
    },
    {
      "cell_type": "code",
      "metadata": {
        "id": "1vH2QwLASuTh"
      },
      "source": [
        "df.describe(include=\"all\")\n",
        "\n",
        "# if you just use \"df.describe()\" it will only show results for numerical columns, whereas include=\"all\" will render all columns\n",
        "# note that if you just use \"df.describe\" is just going to show the method object, whereas using the () will show us the actual result"
      ],
      "execution_count": null,
      "outputs": []
    },
    {
      "cell_type": "markdown",
      "metadata": {
        "id": "YlvZScvVSuTl"
      },
      "source": [
        "### `df.count()` \n",
        "is going to give us a count of the non-null cells in each column"
      ]
    },
    {
      "cell_type": "code",
      "metadata": {
        "id": "S4-IzictSuTl"
      },
      "source": [
        "df.count()"
      ],
      "execution_count": null,
      "outputs": []
    },
    {
      "cell_type": "markdown",
      "metadata": {
        "id": "3Sxwh9AYSuTp"
      },
      "source": [
        "If we want to see the count of non-null cells for a particular column, we can use column indexing as such:"
      ]
    },
    {
      "cell_type": "code",
      "metadata": {
        "id": "z32udslTSuTq",
        "scrolled": true
      },
      "source": [
        "df['sex'].value_counts() "
      ],
      "execution_count": null,
      "outputs": []
    },
    {
      "cell_type": "markdown",
      "metadata": {
        "id": "pCKdIkCkfRks"
      },
      "source": [
        "---"
      ]
    },
    {
      "cell_type": "markdown",
      "source": [
        "# ⭕ **QUESTIONS?**"
      ],
      "metadata": {
        "id": "silw_sdCfRks"
      }
    },
    {
      "cell_type": "markdown",
      "metadata": {
        "id": "NeTMQIIAfRkt"
      },
      "source": [
        "---"
      ]
    },
    {
      "cell_type": "markdown",
      "metadata": {
        "id": "5RUGtQrMSuTs"
      },
      "source": [
        "# A Note on Timestamps\n",
        "\n",
        "Now, looking back at our `df.dtypes` result, we see that our timestamp values are being stored as 'non-null object's' and not as timestamps, as we'd like. \n",
        "\n",
        "Remember, in Python, how your data is being perceived (the dtype) determines what you can do with it. If we want to do any sort of timeseries analysis in the future, we're going to need to convert our time data from object to timestamp. So, let's change that using `pd.to_datetime`"
      ]
    },
    {
      "cell_type": "code",
      "source": [
        "df.dtypes"
      ],
      "metadata": {
        "id": "6GrUPXKGd6t7"
      },
      "execution_count": null,
      "outputs": []
    },
    {
      "cell_type": "code",
      "metadata": {
        "id": "CEDrMxpKSuTu"
      },
      "source": [
        "df['timestamp'] = pd.to_datetime(df['timestamp'])"
      ],
      "execution_count": null,
      "outputs": []
    },
    {
      "cell_type": "code",
      "metadata": {
        "id": "k0poE68bSuTw"
      },
      "source": [
        "df.head() # let's check to make sure that nothing funky happened"
      ],
      "execution_count": null,
      "outputs": []
    },
    {
      "cell_type": "code",
      "source": [
        "df.dtypes "
      ],
      "metadata": {
        "id": "9RapnR4gd76W"
      },
      "execution_count": null,
      "outputs": []
    },
    {
      "cell_type": "markdown",
      "metadata": {
        "id": "D76A4EzJgkCe"
      },
      "source": [
        "---"
      ]
    },
    {
      "cell_type": "markdown",
      "source": [
        "# ⭕ **QUESTIONS?**"
      ],
      "metadata": {
        "id": "KJy7ZhU9gkCm"
      }
    },
    {
      "cell_type": "markdown",
      "metadata": {
        "id": "qMm_Jdi6gkCn"
      },
      "source": [
        "---"
      ]
    },
    {
      "cell_type": "markdown",
      "metadata": {
        "id": "VTxxpM-dSuTy"
      },
      "source": [
        "# Primary Analysis, Continued"
      ]
    },
    {
      "cell_type": "markdown",
      "metadata": {
        "id": "2YNjfek0SuTz"
      },
      "source": [
        "### `df.sample()` \n",
        "is going to give us a random row from our data frame"
      ]
    },
    {
      "cell_type": "code",
      "metadata": {
        "id": "fwLT34LBSuTz"
      },
      "source": [
        "df.sample()"
      ],
      "execution_count": null,
      "outputs": []
    },
    {
      "cell_type": "markdown",
      "metadata": {
        "id": "4EsQGcbzSuT2"
      },
      "source": [
        "# Indexing\n",
        "\n",
        "To select a single column from our data frame, we can use column indexing again. "
      ]
    },
    {
      "cell_type": "code",
      "metadata": {
        "id": "mPCrqtUnSuT2"
      },
      "source": [
        "df['age']"
      ],
      "execution_count": null,
      "outputs": []
    },
    {
      "cell_type": "markdown",
      "metadata": {
        "id": "J87yBtOVSuT4"
      },
      "source": [
        "# .loc\n",
        "\n",
        "To select multiple columns, we can use `.loc` notation. \n",
        "\n",
        "_Note that `.loc` notation is used when you're sorting by rows and/or columns by particular labels, whereas `.iloc` is used when you're sorting by rows and/or columns at integer locations. For instance:_"
      ]
    },
    {
      "cell_type": "markdown",
      "source": [
        "---"
      ],
      "metadata": {
        "id": "2QeCLUqoNOGr"
      }
    },
    {
      "cell_type": "code",
      "source": [
        "s = pd.Series(list(\"abcdef\"), index=[49,48,47,0,1,2])\n",
        "s"
      ],
      "metadata": {
        "id": "eQzLBk4pMqs2"
      },
      "execution_count": null,
      "outputs": []
    },
    {
      "cell_type": "code",
      "source": [
        "s.loc[0] # value at index label 0"
      ],
      "metadata": {
        "id": "DdKOcMJxM7WD"
      },
      "execution_count": null,
      "outputs": []
    },
    {
      "cell_type": "code",
      "source": [
        "s.iloc[0] # value at index location 0 "
      ],
      "metadata": {
        "id": "Tn8z3OoaM2b2"
      },
      "execution_count": null,
      "outputs": []
    },
    {
      "cell_type": "code",
      "source": [
        "s.loc[0:1] # rows at index labels between 0 and 1 (inclusive)"
      ],
      "metadata": {
        "id": "bYteSSFcM9ed"
      },
      "execution_count": null,
      "outputs": []
    },
    {
      "cell_type": "code",
      "source": [
        "s.iloc[0:1] # rows at index location between 0 and 1 (exclusive) "
      ],
      "metadata": {
        "id": "F2O2o8DwNBMd"
      },
      "execution_count": null,
      "outputs": []
    },
    {
      "cell_type": "markdown",
      "source": [
        "---"
      ],
      "metadata": {
        "id": "fmpASWrWNPIL"
      }
    },
    {
      "cell_type": "code",
      "metadata": {
        "id": "fOjd0EQZSuT5"
      },
      "source": [
        "df.loc[:, ['age','sex']] # this gives us all rows for the 'age' and 'sex' columns"
      ],
      "execution_count": null,
      "outputs": []
    },
    {
      "cell_type": "code",
      "metadata": {
        "id": "xumunvW6SuT7"
      },
      "source": [
        "df.iloc[3] "
      ],
      "execution_count": null,
      "outputs": []
    },
    {
      "cell_type": "code",
      "metadata": {
        "id": "EU-mwCdrSuT8"
      },
      "source": [
        "df.iloc[3,6] # get the value of the 7th column (ad_type) for the 4th row (3rd index)"
      ],
      "execution_count": null,
      "outputs": []
    },
    {
      "cell_type": "markdown",
      "metadata": {
        "id": "5AjUjljLg6dB"
      },
      "source": [
        "---"
      ]
    },
    {
      "cell_type": "markdown",
      "source": [
        "# ⭕ **QUESTIONS?**"
      ],
      "metadata": {
        "id": "N6IjnQzjg6dB"
      }
    },
    {
      "cell_type": "markdown",
      "metadata": {
        "id": "GPbU102dg6dB"
      },
      "source": [
        "---"
      ]
    },
    {
      "cell_type": "markdown",
      "metadata": {
        "id": "lcJ18O10SuT_"
      },
      "source": [
        "# `.mean()`"
      ]
    },
    {
      "cell_type": "code",
      "metadata": {
        "id": "KclLhn4ISuT_"
      },
      "source": [
        "df['age'].mean() "
      ],
      "execution_count": null,
      "outputs": []
    },
    {
      "cell_type": "markdown",
      "metadata": {
        "id": "Li77xhEfSuUB"
      },
      "source": [
        "# `df.sort_values(by=...)`"
      ]
    },
    {
      "cell_type": "code",
      "metadata": {
        "id": "3OoVFGqUSuUC"
      },
      "source": [
        "df.sort_values(by=\"age\",ascending=False) \n",
        "\n",
        "# ascending=False means we want to have the greatest values at the top"
      ],
      "execution_count": null,
      "outputs": []
    },
    {
      "cell_type": "markdown",
      "metadata": {
        "id": "ILdla22ySuUE"
      },
      "source": [
        "# Conditional Indexing"
      ]
    },
    {
      "cell_type": "code",
      "metadata": {
        "id": "YF1T67H_SuUE",
        "scrolled": true
      },
      "source": [
        "df[df['age'] < 21] \n",
        "\n",
        "# return any rows where age < 21\n",
        "\n",
        "# can also use: \"df.loc[df['age'] < 21]\""
      ],
      "execution_count": null,
      "outputs": []
    },
    {
      "cell_type": "code",
      "source": [
        "df.loc[(df['age'] < 21) & (df['sex'] == 'M')] "
      ],
      "metadata": {
        "id": "yVdu6DdGN4_o"
      },
      "execution_count": null,
      "outputs": []
    },
    {
      "cell_type": "markdown",
      "metadata": {
        "id": "qmVlwTgCfTU4"
      },
      "source": [
        "---"
      ]
    },
    {
      "cell_type": "markdown",
      "source": [
        "# ⭕ **QUESTIONS?**"
      ],
      "metadata": {
        "id": "1bhWnINRfTU5"
      }
    },
    {
      "cell_type": "markdown",
      "metadata": {
        "id": "wLoQNGf7fTU5"
      },
      "source": [
        "---"
      ]
    },
    {
      "cell_type": "markdown",
      "metadata": {
        "id": "LrOE9qqoSuUH"
      },
      "source": [
        "# Exercise 1: How many 21 year-olds were served Culinary ads?"
      ]
    },
    {
      "cell_type": "code",
      "metadata": {
        "id": "J-OCImonSuUI"
      },
      "source": [
        "# your code here"
      ],
      "execution_count": null,
      "outputs": []
    },
    {
      "cell_type": "markdown",
      "metadata": {
        "id": "wfFBYbt6SuUK"
      },
      "source": [
        "# Solution"
      ]
    },
    {
      "cell_type": "code",
      "metadata": {
        "id": "1CtqaKXISuUL",
        "scrolled": true
      },
      "source": [
        "df[(df['age']==21) & (df['ad_type']=='Culinary')].count()"
      ],
      "execution_count": null,
      "outputs": []
    },
    {
      "cell_type": "markdown",
      "metadata": {
        "id": "w77l4daZSuUN"
      },
      "source": [
        "---"
      ]
    },
    {
      "cell_type": "markdown",
      "metadata": {
        "id": "htNGiENrSuUO"
      },
      "source": [
        "# Exercise 2: What is the most common company size in the SouthEast?"
      ]
    },
    {
      "cell_type": "code",
      "metadata": {
        "id": "2sHgI0HFSuUO"
      },
      "source": [
        "# your code here"
      ],
      "execution_count": null,
      "outputs": []
    },
    {
      "cell_type": "markdown",
      "metadata": {
        "id": "-1Kk9uG3SuUQ"
      },
      "source": [
        "# Solution"
      ]
    },
    {
      "cell_type": "code",
      "metadata": {
        "id": "RtOeLbhWSuUQ"
      },
      "source": [
        "SouthEast_df = df[df['location'] == 'SouthEast']\n",
        "SouthEast_df"
      ],
      "execution_count": null,
      "outputs": []
    },
    {
      "cell_type": "code",
      "metadata": {
        "id": "n9RAuek4SuUS"
      },
      "source": [
        "SouthEast_df['company_size'].describe()"
      ],
      "execution_count": null,
      "outputs": []
    },
    {
      "cell_type": "code",
      "source": [
        "# answer can also be: \n",
        "\n",
        "SouthEast_df['company_size'].describe().top"
      ],
      "metadata": {
        "id": "NxO6P11AOw9W"
      },
      "execution_count": null,
      "outputs": []
    },
    {
      "cell_type": "code",
      "source": [
        "# answer can also be: \n",
        "\n",
        "df[df['location']=='SouthEast']['company_size'].value_counts()"
      ],
      "metadata": {
        "id": "07LmHUPQO2XC"
      },
      "execution_count": null,
      "outputs": []
    },
    {
      "cell_type": "markdown",
      "metadata": {
        "id": "Ap9lOQyffUgo"
      },
      "source": [
        "---"
      ]
    },
    {
      "cell_type": "markdown",
      "source": [
        "# ⭕ **QUESTIONS?**"
      ],
      "metadata": {
        "id": "qUY-m2ZNfUgp"
      }
    },
    {
      "cell_type": "markdown",
      "metadata": {
        "id": "Zu5phv-jfUgp"
      },
      "source": [
        "---"
      ]
    },
    {
      "cell_type": "markdown",
      "metadata": {
        "id": "yfiPYLVpSuUU"
      },
      "source": [
        "# Working with More JSON\n",
        "\n",
        "Moving on, let's look at a larger data set from https://data.cityofnewyork.us/Health/New-York-City-Leading-Causes-of-Death/jb7j-dtam that details the leading causes of dath in NYC."
      ]
    },
    {
      "cell_type": "code",
      "metadata": {
        "id": "b7Og5gONSuUV"
      },
      "source": [
        "import requests\n",
        "\n",
        "url = 'http://data.cityofnewyork.us/api/views/jb7j-dtam/rows.json'\n",
        "results = requests.get(url).json() # reading in the json just as we did with our citibike info last week"
      ],
      "execution_count": null,
      "outputs": []
    },
    {
      "cell_type": "markdown",
      "metadata": {
        "id": "EWhTEgLxSuUX"
      },
      "source": [
        "Again, we're going to use the requests library to read the json from the given URL. You'll note that there are two main fields returned in the json – the \"meta\" that just describes the actual metadata, and the data itself. "
      ]
    },
    {
      "cell_type": "code",
      "source": [
        "results"
      ],
      "metadata": {
        "id": "hulAuqbleUSk"
      },
      "execution_count": null,
      "outputs": []
    },
    {
      "cell_type": "code",
      "metadata": {
        "id": "FJIUUeECSuUX"
      },
      "source": [
        "results.keys()"
      ],
      "execution_count": null,
      "outputs": []
    },
    {
      "cell_type": "code",
      "metadata": {
        "id": "6pBA60vZSuUZ"
      },
      "source": [
        "results['data']"
      ],
      "execution_count": null,
      "outputs": []
    },
    {
      "cell_type": "markdown",
      "metadata": {
        "id": "UnFj5gSjSuUb"
      },
      "source": [
        "Now we'll create a DataFrame from our JSON again..."
      ]
    },
    {
      "cell_type": "code",
      "metadata": {
        "id": "vdh7K4v7SuUc"
      },
      "source": [
        "df = pd.DataFrame(results[\"data\"])\n",
        "df.head()"
      ],
      "execution_count": null,
      "outputs": []
    },
    {
      "cell_type": "markdown",
      "metadata": {
        "id": "MpVyQrHsSuUe"
      },
      "source": [
        "# Adding Column Names"
      ]
    },
    {
      "cell_type": "code",
      "metadata": {
        "id": "cuFWyB5sSuUe"
      },
      "source": [
        "columns = results[\"meta\"][\"view\"][\"columns\"] # this gives us the descriptions and names for the columns\n",
        "columns"
      ],
      "execution_count": null,
      "outputs": []
    },
    {
      "cell_type": "code",
      "metadata": {
        "id": "8eYFTUk3SuUh"
      },
      "source": [
        "headers = [i[\"fieldName\"] for i in columns] # we create a list of the column names \n",
        "headers"
      ],
      "execution_count": null,
      "outputs": []
    },
    {
      "cell_type": "code",
      "metadata": {
        "id": "UxODyvwqSuUj"
      },
      "source": [
        "df = pd.DataFrame(results[\"data\"], columns=headers) # and then pass in a list of those column names to our df\n",
        "df.head()"
      ],
      "execution_count": null,
      "outputs": []
    },
    {
      "cell_type": "markdown",
      "metadata": {
        "id": "Pn_tPDHTSuUl"
      },
      "source": [
        "# Dropping Data\n",
        "\n",
        "There's a lot of extraneous information in this dataframe, so we can drop a few of them. \n",
        "\n",
        "Note that here we are passing in a list of columns that we'd like to drop, and specifying that we want to drop the columns themselves. If we said \"axis=index\" we would be dropping the rows themselves. \n",
        "\n",
        "Also note that \"inplace=True\" specifies that instead of creating a new dataframe, we want to replace it with the current one (the one with fewer columns). This means that the new, smaller dataframe will persist across our entire notebook – aka, it implies that we want the change to be permanent. "
      ]
    },
    {
      "cell_type": "code",
      "metadata": {
        "id": "EvAGICPDSuUm"
      },
      "source": [
        "df.drop(columns = [':sid', ':position', ':meta', ':created_meta', ':updated_meta'], axis=1, inplace=True)\n",
        "df"
      ],
      "execution_count": null,
      "outputs": []
    },
    {
      "cell_type": "markdown",
      "metadata": {
        "id": "8gxNVV2ySuUo"
      },
      "source": [
        "It looks like our last three rows appear to be metadata and not actual data, so let's drop those rows as well."
      ]
    },
    {
      "cell_type": "code",
      "metadata": {
        "id": "dG47O_bzSuUo"
      },
      "source": [
        "df.drop(df.index[1094:], inplace=True)\n",
        "df"
      ],
      "execution_count": null,
      "outputs": []
    },
    {
      "cell_type": "markdown",
      "metadata": {
        "id": "HCzMCHHnSuUr"
      },
      "source": [
        "It's important to note that we can always rename our columns using a dictionary:"
      ]
    },
    {
      "cell_type": "code",
      "metadata": {
        "id": "-4W7tdQJSuUs"
      },
      "source": [
        "renaming_dict = {\n",
        "    ':id': 'key', \n",
        "    ':created_at': 'created_at', \n",
        "    ':updated_at': 'updated_at'\n",
        "}\n",
        "\n",
        "df.rename(columns=renaming_dict, inplace=True)\n",
        "df"
      ],
      "execution_count": null,
      "outputs": []
    },
    {
      "cell_type": "markdown",
      "metadata": {
        "id": "kFjMAAKafXj6"
      },
      "source": [
        "---"
      ]
    },
    {
      "cell_type": "markdown",
      "source": [
        "# ⭕ **QUESTIONS?**"
      ],
      "metadata": {
        "id": "3WpPeiGMfXj7"
      }
    },
    {
      "cell_type": "markdown",
      "metadata": {
        "id": "X0lAImCZfXj7"
      },
      "source": [
        "---"
      ]
    },
    {
      "cell_type": "markdown",
      "metadata": {
        "id": "FFKTiyACSuUu"
      },
      "source": [
        "# Datatypes\n",
        "\n",
        "We've spoken a bit about datatypes, and why it's important that our computer is viewing data as we need it to; for instance, a string as a string, an integer as an integer.  \n",
        "\n",
        "Remember that 'object' is a string in this case..."
      ]
    },
    {
      "cell_type": "code",
      "metadata": {
        "id": "b0X-xVD9SuUv"
      },
      "source": [
        "df.dtypes"
      ],
      "execution_count": null,
      "outputs": []
    },
    {
      "cell_type": "markdown",
      "metadata": {
        "id": "Hv_j2EtFSuUx"
      },
      "source": [
        "Let's change 'year' to an integer that way we can sort by year using `pd.to_numeric`:"
      ]
    },
    {
      "cell_type": "code",
      "metadata": {
        "id": "z5Zqj3zZSuUy"
      },
      "source": [
        "df[\"year\"] = pd.to_numeric(df[\"year\"])\n",
        "df.dtypes"
      ],
      "execution_count": null,
      "outputs": []
    },
    {
      "cell_type": "markdown",
      "metadata": {
        "id": "rtt5dDRqSuU0"
      },
      "source": [
        "# Errors\n",
        "\n",
        "We can also pass the `errors` command to specify what should happen if we anticipate Pandas is going to object to one of our changes. From the [documentation of to_numeric](http://pandas.pydata.org/pandas-docs/stable/generated/pandas.to_numeric.html), we get:\n",
        "\n",
        "* If ‘raise’, then invalid parsing will raise an exception\n",
        "* If ‘coerce’, then invalid parsing will be set as NaN\n",
        "* If ‘ignore’, then invalid parsing will return the input"
      ]
    },
    {
      "cell_type": "code",
      "metadata": {
        "id": "Zhrdw8_fSuU0"
      },
      "source": [
        "df[\"deaths\"] = pd.to_numeric(df[\"deaths\"], errors='coerce')\n",
        "df[\"death_rate\"] = pd.to_numeric(df[\"death_rate\"], errors='coerce')\n",
        "df[\"age_adjusted_death_rate\"] = pd.to_numeric(df[\"age_adjusted_death_rate\"], errors='coerce')\n",
        "df.dtypes"
      ],
      "execution_count": null,
      "outputs": []
    },
    {
      "cell_type": "markdown",
      "metadata": {
        "id": "WhEXc0CYSuU3"
      },
      "source": [
        "# Categorical Variables\n",
        "\n",
        "Last but not least, we can also mark some variables as categorical"
      ]
    },
    {
      "cell_type": "code",
      "metadata": {
        "id": "zTQBIJlsSuU4"
      },
      "source": [
        "df[\"sex\"] = pd.Categorical(df[\"sex\"])\n",
        "df[\"race_ethnicity\"] = pd.Categorical(df[\"race_ethnicity\"])\n",
        "df[\"leading_cause\"] = pd.Categorical(df[\"leading_cause\"])\n",
        "df.dtypes"
      ],
      "execution_count": null,
      "outputs": []
    },
    {
      "cell_type": "markdown",
      "metadata": {
        "id": "5te3K103fYnm"
      },
      "source": [
        "---"
      ]
    },
    {
      "cell_type": "markdown",
      "source": [
        "# ⭕ **QUESTIONS?**"
      ],
      "metadata": {
        "id": "ZE06_JUEfYnm"
      }
    },
    {
      "cell_type": "markdown",
      "metadata": {
        "id": "TtR2czSdSuU5"
      },
      "source": [
        "---"
      ]
    },
    {
      "cell_type": "markdown",
      "metadata": {
        "id": "1H6faRcpSuU6"
      },
      "source": [
        "# Exercise 3: What was the leading cause of death in 2014?"
      ]
    },
    {
      "cell_type": "code",
      "metadata": {
        "id": "k5f6JnbHSuU7"
      },
      "source": [
        "# your code here"
      ],
      "execution_count": null,
      "outputs": []
    },
    {
      "cell_type": "markdown",
      "metadata": {
        "id": "JmTmM0XqSuU-"
      },
      "source": [
        "# Solution"
      ]
    },
    {
      "cell_type": "code",
      "metadata": {
        "id": "GH8EmgrFSuU-"
      },
      "source": [
        "df2014 = df[df['year'] == 2014]\n",
        "df2014"
      ],
      "execution_count": null,
      "outputs": []
    },
    {
      "cell_type": "code",
      "metadata": {
        "id": "nyvA25DpSuVC"
      },
      "source": [
        "df2014['leading_cause'].describe()"
      ],
      "execution_count": null,
      "outputs": []
    },
    {
      "cell_type": "code",
      "source": [
        "# answer may also be: \n",
        "\n",
        "df[df['year'] == 2014]['leading_cause'].describe()"
      ],
      "metadata": {
        "id": "HnYQYqw-L9J9"
      },
      "execution_count": null,
      "outputs": []
    },
    {
      "cell_type": "markdown",
      "metadata": {
        "id": "elaZcu_ASuVF"
      },
      "source": [
        "---"
      ]
    },
    {
      "cell_type": "markdown",
      "metadata": {
        "id": "fBRCc5NSSuVG"
      },
      "source": [
        "# Exercise 4: How many different causes of death were recorded in 2011?"
      ]
    },
    {
      "cell_type": "code",
      "metadata": {
        "id": "wInb91OPSuVG"
      },
      "source": [
        "# your code here"
      ],
      "execution_count": null,
      "outputs": []
    },
    {
      "cell_type": "markdown",
      "metadata": {
        "id": "kAlTQsQ4SuVI"
      },
      "source": [
        "# Solution"
      ]
    },
    {
      "cell_type": "code",
      "metadata": {
        "id": "VM4_-zcZSuVI"
      },
      "source": [
        "df2014['leading_cause'].nunique()"
      ],
      "execution_count": null,
      "outputs": []
    },
    {
      "cell_type": "code",
      "source": [
        "# answer may also be: \n",
        "\n",
        "df[df['year'] == 2011]['leading_cause'].describe()"
      ],
      "metadata": {
        "id": "D1HmGalqMFTM"
      },
      "execution_count": null,
      "outputs": []
    },
    {
      "cell_type": "markdown",
      "metadata": {
        "id": "AnNEPOCdSuVM"
      },
      "source": [
        "---"
      ]
    }
  ],
  "metadata": {
    "colab": {
      "name": "Class2_solved.ipynb",
      "provenance": []
    },
    "kernelspec": {
      "display_name": "Python 3",
      "language": "python",
      "name": "python3"
    },
    "language_info": {
      "codemirror_mode": {
        "name": "ipython",
        "version": 3
      },
      "file_extension": ".py",
      "mimetype": "text/x-python",
      "name": "python",
      "nbconvert_exporter": "python",
      "pygments_lexer": "ipython3",
      "version": "3.7.3"
    }
  },
  "nbformat": 4,
  "nbformat_minor": 0
}