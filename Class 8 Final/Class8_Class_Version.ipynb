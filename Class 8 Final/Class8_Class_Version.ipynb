{
  "nbformat": 4,
  "nbformat_minor": 0,
  "metadata": {
    "kernelspec": {
      "display_name": "Python 3",
      "language": "python",
      "name": "python3"
    },
    "language_info": {
      "codemirror_mode": {
        "name": "ipython",
        "version": 3
      },
      "file_extension": ".py",
      "mimetype": "text/x-python",
      "name": "python",
      "nbconvert_exporter": "python",
      "pygments_lexer": "ipython3",
      "version": "3.7.6"
    },
    "colab": {
      "name": "Class8_Class_Version.ipynb",
      "provenance": []
    }
  },
  "cells": [
    {
      "cell_type": "markdown",
      "metadata": {
        "id": "U17mtdB0_Ld8"
      },
      "source": [
        "# Web APIs"
      ]
    },
    {
      "cell_type": "markdown",
      "metadata": {
        "id": "VQ3Ngm-d_Ld9"
      },
      "source": [
        "---"
      ]
    },
    {
      "cell_type": "markdown",
      "metadata": {
        "id": "Z3pWK8g2_Ld-"
      },
      "source": [
        "What even is an API (Application Programming Interface)? \n",
        "\n",
        "Think about what happens when I visit NYT.com..."
      ]
    },
    {
      "cell_type": "markdown",
      "metadata": {
        "id": "eppGDWpi_Ld_"
      },
      "source": [
        "1. I as the \"Person\" go to https://www.nytimes.com in my browser (known as the \"Client\"), <br>\n",
        "<br>\n",
        "2. The client makes a request to the NYT Website (known as the \"Server\") – think of this server as a warehouse with all of the NYT content, <br>\n",
        "<br>\n",
        "3. The server responds to the client request with HTML, CSS, images, and other assets. The browser then combines those assets and displays them on the webpage. <br>\n",
        "\n",
        "An API is what allows the Server to \"talk to\" the Client, and vice-versa. "
      ]
    },
    {
      "cell_type": "markdown",
      "metadata": {
        "id": "3R0wUnzQ_Ld_"
      },
      "source": [
        "---"
      ]
    },
    {
      "cell_type": "markdown",
      "metadata": {
        "id": "C7GKI8uu_LeA"
      },
      "source": [
        "## `Request-Response Cycle`\n",
        "\n",
        "To understand what's happening here, it's important to understand the \"Request-Response Cycle.\" As we've seen, this involves the client sending a request to the server (via an API) and the server responding (also via an API). \n",
        "\n",
        "Behind the scenes, to make this cycle possible, you need: \n",
        "\n",
        "1. a URL, \n",
        "2. a Method, \n",
        "3. a list of Headers,\n",
        "4. a Body"
      ]
    },
    {
      "cell_type": "markdown",
      "metadata": {
        "id": "yOhNVF-W_LeB"
      },
      "source": [
        "### *The URL*\n",
        "\n",
        "> HTTP (Hyper-Text Transfer Protocol) is exactly what it sounds like, a protocol. It allows for a common language that enables the client and server to speak with one another. \n",
        "\n",
        "### *The Method*\n",
        "\n",
        "> The four most common methods are GET (ask the server to retrieve something), POST (ask the server to create something), PUT (ask the server to edit something), and DELETE (ask the server to delete something). \n",
        "\n",
        "### *Headers*\n",
        "\n",
        "> Headers provide meatdata about a request, such as the time a request was sent. \n",
        "\n",
        "### *Body*\n",
        "\n",
        "> The body contains the data the client wants sent to the server. "
      ]
    },
    {
      "cell_type": "markdown",
      "metadata": {
        "id": "k63aDEV1_LeB"
      },
      "source": [
        "## Let's see it in action:"
      ]
    },
    {
      "cell_type": "markdown",
      "metadata": {
        "id": "aSCjiYfO_LeC"
      },
      "source": [
        "**First, let's check the NYT homepage and go to Developer > Developer Tools in our browser**"
      ]
    },
    {
      "cell_type": "markdown",
      "metadata": {
        "id": "_j9CHCPU_LeC"
      },
      "source": [
        "**Then, click \"Network\"** "
      ]
    },
    {
      "cell_type": "markdown",
      "metadata": {
        "id": "GzK3W3Qr_LeD"
      },
      "source": [
        "**Now we can click on the article of interest (the first article on teir homepage, in this case) and see what happens when we request that information.**"
      ]
    },
    {
      "cell_type": "markdown",
      "metadata": {
        "id": "-wK1oh3r_LeE"
      },
      "source": [
        "**We can then select \"Img\" to see all of the images loaded**"
      ]
    },
    {
      "cell_type": "markdown",
      "metadata": {
        "id": "0pu2Xl8s_LeE"
      },
      "source": [
        "**And we can see the request URL for the first image on the article:**"
      ]
    },
    {
      "cell_type": "markdown",
      "metadata": {
        "id": "raDNQLWU_LeF"
      },
      "source": [
        "**Last but not least, when we go to that URL, we see our image!** (Looks like it's being stored in GCS)"
      ]
    },
    {
      "cell_type": "markdown",
      "metadata": {
        "id": "hPPtaBK1oJHH"
      },
      "source": [
        "---"
      ]
    },
    {
      "cell_type": "markdown",
      "source": [
        "# ⭕ **QUESTIONS?**"
      ],
      "metadata": {
        "id": "nkfg_Y0yoJHP"
      }
    },
    {
      "cell_type": "markdown",
      "metadata": {
        "id": "Eh3TeuhOoJHQ"
      },
      "source": [
        "---"
      ]
    },
    {
      "cell_type": "markdown",
      "metadata": {
        "id": "iphVPloi_LeG"
      },
      "source": [
        "## Example 2: GeoIP resolution"
      ]
    },
    {
      "cell_type": "markdown",
      "metadata": {
        "id": "JpI7H9gf_LeG"
      },
      "source": [
        "We will start with an example that is doing a \"geoIP\" resolution: it takes the IP of a computer and returns back its location."
      ]
    },
    {
      "cell_type": "code",
      "metadata": {
        "id": "AgboKnFs_LeH",
        "colab": {
          "base_uri": "https://localhost:8080/"
        },
        "outputId": "6a38f9eb-a3b8-4235-9a8c-8975eb9945b3"
      },
      "source": [
        "import requests\n",
        "\n",
        "url = 'http://api.ipstack.com/check?access_key=dd4cbbbe9d6b9f2709e5f0533644e547'\n",
        "\n",
        "resp = requests.get(url)\n",
        "\n",
        "resp\n"
      ],
      "execution_count": 9,
      "outputs": [
        {
          "output_type": "execute_result",
          "data": {
            "text/plain": [
              "<Response [200]>"
            ]
          },
          "metadata": {},
          "execution_count": 9
        }
      ]
    },
    {
      "cell_type": "code",
      "source": [
        "data = resp.json()\n",
        "\n",
        "data"
      ],
      "metadata": {
        "colab": {
          "base_uri": "https://localhost:8080/"
        },
        "id": "IVG7BDjSggOq",
        "outputId": "49194756-25e5-4e6e-b220-c5134663e7b9"
      },
      "execution_count": 10,
      "outputs": [
        {
          "output_type": "execute_result",
          "data": {
            "text/plain": [
              "{'error': {'code': 104,\n",
              "  'info': 'Your monthly usage limit has been reached. Please upgrade your Subscription Plan.',\n",
              "  'type': 'usage_limit_reached'},\n",
              " 'success': False}"
            ]
          },
          "metadata": {},
          "execution_count": 10
        }
      ]
    },
    {
      "cell_type": "code",
      "source": [
        "print(\"Longitude:\", data[\"longitude\"], \"Latitude:\", data[\"latitude\"])"
      ],
      "metadata": {
        "colab": {
          "base_uri": "https://localhost:8080/",
          "height": 169
        },
        "id": "CGE0VEJMg_kd",
        "outputId": "3fd4750a-4ddb-43ac-cf44-5031014f97ff"
      },
      "execution_count": 11,
      "outputs": [
        {
          "output_type": "error",
          "ename": "KeyError",
          "evalue": "ignored",
          "traceback": [
            "\u001b[0;31m---------------------------------------------------------------------------\u001b[0m",
            "\u001b[0;31mKeyError\u001b[0m                                  Traceback (most recent call last)",
            "\u001b[0;32m<ipython-input-11-baf7bc3df317>\u001b[0m in \u001b[0;36m<module>\u001b[0;34m()\u001b[0m\n\u001b[0;32m----> 1\u001b[0;31m \u001b[0mprint\u001b[0m\u001b[0;34m(\u001b[0m\u001b[0;34m\"Longitude:\"\u001b[0m\u001b[0;34m,\u001b[0m \u001b[0mdata\u001b[0m\u001b[0;34m[\u001b[0m\u001b[0;34m\"longitude\"\u001b[0m\u001b[0;34m]\u001b[0m\u001b[0;34m,\u001b[0m \u001b[0;34m\"Latitude:\"\u001b[0m\u001b[0;34m,\u001b[0m \u001b[0mdata\u001b[0m\u001b[0;34m[\u001b[0m\u001b[0;34m\"latitude\"\u001b[0m\u001b[0;34m]\u001b[0m\u001b[0;34m)\u001b[0m\u001b[0;34m\u001b[0m\u001b[0;34m\u001b[0m\u001b[0m\n\u001b[0m",
            "\u001b[0;31mKeyError\u001b[0m: 'longitude'"
          ]
        }
      ]
    },
    {
      "cell_type": "code",
      "source": [
        "url = 'http://api.ipstack.com/check?access_key=dd4cbbbe9d6b9f2709e5f0533644e547'\n",
        "#url = 'https://api.ipstack.com/134.201.250.155?access_key=dd4cbbbe9d6b9f2709e5f0533644e547'\n",
        "\n",
        "resp = requests.get(url)\n",
        "\n",
        "data = resp.json()\n",
        "\n",
        "print(\"Longitude:\", data[\"longitude\"], \"Latitude:\", data[\"latitude\"])"
      ],
      "metadata": {
        "colab": {
          "base_uri": "https://localhost:8080/",
          "height": 204
        },
        "id": "dhR_YEd1hU9x",
        "outputId": "db46f8e8-f9ea-4d00-e3f0-7c6e05987fc1"
      },
      "execution_count": 12,
      "outputs": [
        {
          "output_type": "error",
          "ename": "KeyError",
          "evalue": "ignored",
          "traceback": [
            "\u001b[0;31m---------------------------------------------------------------------------\u001b[0m",
            "\u001b[0;31mKeyError\u001b[0m                                  Traceback (most recent call last)",
            "\u001b[0;32m<ipython-input-12-8f89645494a6>\u001b[0m in \u001b[0;36m<module>\u001b[0;34m()\u001b[0m\n\u001b[1;32m      6\u001b[0m \u001b[0mdata\u001b[0m \u001b[0;34m=\u001b[0m \u001b[0mresp\u001b[0m\u001b[0;34m.\u001b[0m\u001b[0mjson\u001b[0m\u001b[0;34m(\u001b[0m\u001b[0;34m)\u001b[0m\u001b[0;34m\u001b[0m\u001b[0;34m\u001b[0m\u001b[0m\n\u001b[1;32m      7\u001b[0m \u001b[0;34m\u001b[0m\u001b[0m\n\u001b[0;32m----> 8\u001b[0;31m \u001b[0mprint\u001b[0m\u001b[0;34m(\u001b[0m\u001b[0;34m\"Longitude:\"\u001b[0m\u001b[0;34m,\u001b[0m \u001b[0mdata\u001b[0m\u001b[0;34m[\u001b[0m\u001b[0;34m\"longitude\"\u001b[0m\u001b[0;34m]\u001b[0m\u001b[0;34m,\u001b[0m \u001b[0;34m\"Latitude:\"\u001b[0m\u001b[0;34m,\u001b[0m \u001b[0mdata\u001b[0m\u001b[0;34m[\u001b[0m\u001b[0;34m\"latitude\"\u001b[0m\u001b[0;34m]\u001b[0m\u001b[0;34m)\u001b[0m\u001b[0;34m\u001b[0m\u001b[0;34m\u001b[0m\u001b[0m\n\u001b[0m",
            "\u001b[0;31mKeyError\u001b[0m: 'longitude'"
          ]
        }
      ]
    },
    {
      "cell_type": "markdown",
      "metadata": {
        "id": "OXeiUU4SoUpx"
      },
      "source": [
        "---"
      ]
    },
    {
      "cell_type": "markdown",
      "source": [
        "# ⭕ **QUESTIONS?**"
      ],
      "metadata": {
        "id": "kUqJ7xXzoUp5"
      }
    },
    {
      "cell_type": "markdown",
      "metadata": {
        "id": "8-_nYCCNoUp5"
      },
      "source": [
        "---"
      ]
    },
    {
      "cell_type": "markdown",
      "metadata": {
        "id": "ai0zbkrZ_LeU"
      },
      "source": [
        "## Using Parameters with API Calls\n"
      ]
    },
    {
      "cell_type": "markdown",
      "metadata": {
        "id": "5l7YwQFI_LeV"
      },
      "source": [
        "The first API call that we tried was very simple. We just fetched a URL. Now let's see a URL that accepts as input a set of **parameters**. We have already seen this concept with functions; the parameters of the API calls are the exact equivalent but for Web APIs, which are, at their core, functions that we call over the web. "
      ]
    },
    {
      "cell_type": "markdown",
      "metadata": {
        "id": "PLfaoMO9_LeV"
      },
      "source": [
        "## Example 3: OpenWeatherMap"
      ]
    },
    {
      "cell_type": "markdown",
      "metadata": {
        "id": "3EHMceyc_LeW"
      },
      "source": [
        "Let's try to query OpenWeatherMap now, to get data about the weather. [Documentation here](http://openweathermap.org/current#geo). \n",
        "\n",
        "Below you can find the URL that you can copy and paste in your browser to get the weather for New York. You will notice that it contains parameters as part of the URL, including an `appid` which is a key that is used to limit the number of calls that can be issued by a single application. \n",
        "\n",
        "Try the URL in your browser. Also try to change the query parameter `q` and change it from `New%20York,NY` to something different. (Note: The `%20` is a transformation for the space (` `) character in URLs.)"
      ]
    },
    {
      "cell_type": "markdown",
      "metadata": {
        "id": "bcV9iLV7_LeW"
      },
      "source": [
        "http://api.openweathermap.org/data/2.5/weather?q=New%20York,NY,USA&units=imperial&mode=json&appid=ffb7b9808e07c9135bdcc7d1e867253d"
      ]
    },
    {
      "cell_type": "markdown",
      "metadata": {
        "id": "U--K4V5I_LeX"
      },
      "source": [
        "Below you can find the same code, but now we have a Python dictionary to organize and list the parameters."
      ]
    },
    {
      "cell_type": "code",
      "metadata": {
        "id": "lF7whC-u_LeX",
        "colab": {
          "base_uri": "https://localhost:8080/"
        },
        "outputId": "2b75dee6-b4b8-4aa5-a85f-3b2b6c4580c9"
      },
      "source": [
        "import requests\n",
        "\n",
        "openweather_url = \"http://api.openweathermap.org/data/2.5/weather\"\n",
        "\n",
        "parameters = {\n",
        "    'q': 'New York, NY, USA',\n",
        "    'units': 'imperial',\n",
        "    'mode': 'json',\n",
        "    'appid': 'ffb7b9808e07c9135bdcc7d1e867253d'\n",
        "}\n",
        "\n",
        "resp = requests.get(openweather_url,params=parameters)\n",
        "data = resp.json() \n",
        "\n",
        "data"
      ],
      "execution_count": 17,
      "outputs": [
        {
          "output_type": "execute_result",
          "data": {
            "text/plain": [
              "{'base': 'stations',\n",
              " 'clouds': {'all': 0},\n",
              " 'cod': 200,\n",
              " 'coord': {'lat': 40.7306, 'lon': -73.9866},\n",
              " 'dt': 1647984491,\n",
              " 'id': 5128581,\n",
              " 'main': {'feels_like': 53.51,\n",
              "  'humidity': 17,\n",
              "  'pressure': 1019,\n",
              "  'temp': 57.29,\n",
              "  'temp_max': 60.12,\n",
              "  'temp_min': 53.94},\n",
              " 'name': 'New York',\n",
              " 'sys': {'country': 'US',\n",
              "  'id': 2039034,\n",
              "  'sunrise': 1647946560,\n",
              "  'sunset': 1647990572,\n",
              "  'type': 2},\n",
              " 'timezone': -14400,\n",
              " 'visibility': 10000,\n",
              " 'weather': [{'description': 'clear sky',\n",
              "   'icon': '01d',\n",
              "   'id': 800,\n",
              "   'main': 'Clear'}],\n",
              " 'wind': {'deg': 310, 'speed': 20.71}}"
            ]
          },
          "metadata": {},
          "execution_count": 17
        }
      ]
    },
    {
      "cell_type": "markdown",
      "metadata": {
        "id": "sW-WLPLNwhl4"
      },
      "source": [
        "---"
      ]
    },
    {
      "cell_type": "markdown",
      "source": [
        "# ⭕ **QUESTIONS?**"
      ],
      "metadata": {
        "id": "Cl5dInjNwhl_"
      }
    },
    {
      "cell_type": "markdown",
      "metadata": {
        "id": "MvmEFNfPwhmA"
      },
      "source": [
        "---"
      ]
    },
    {
      "cell_type": "markdown",
      "metadata": {
        "id": "jDyj3Nqo_LeZ"
      },
      "source": [
        "# Exercise 1: Extract the current temperature from the returned JSON response."
      ]
    },
    {
      "cell_type": "code",
      "metadata": {
        "id": "7HzzrM21_Lea",
        "colab": {
          "base_uri": "https://localhost:8080/"
        },
        "outputId": "b4d5d595-0597-49d8-9e9f-bbb6d24ef15f"
      },
      "source": [
        "# The temperature in [X] is [Y]. \n",
        "\n",
        "print(\"The temperature in\",data['name'],\"is\",data['main']['temp'])"
      ],
      "execution_count": 18,
      "outputs": [
        {
          "output_type": "stream",
          "name": "stdout",
          "text": [
            "The temperature in New York is 57.29\n"
          ]
        }
      ]
    },
    {
      "cell_type": "markdown",
      "metadata": {
        "id": "L2fWFRE7_Lec"
      },
      "source": [
        "# Solution"
      ]
    },
    {
      "cell_type": "code",
      "metadata": {
        "solution2": "hidden",
        "id": "kQ-JngCH_Led"
      },
      "source": [
        ""
      ],
      "execution_count": null,
      "outputs": []
    },
    {
      "cell_type": "markdown",
      "metadata": {
        "id": "PKrPDv0Vo2_0"
      },
      "source": [
        "---"
      ]
    },
    {
      "cell_type": "markdown",
      "source": [
        "# ⭕ **QUESTIONS?**"
      ],
      "metadata": {
        "id": "sMwKd0TCo2_0"
      }
    },
    {
      "cell_type": "markdown",
      "metadata": {
        "id": "HMb66d1bo2_0"
      },
      "source": [
        "---"
      ]
    },
    {
      "cell_type": "markdown",
      "metadata": {
        "id": "uzYOY8YQ_Lef"
      },
      "source": [
        "# Exercise 2: Extract the description of the current weather"
      ]
    },
    {
      "cell_type": "code",
      "metadata": {
        "id": "IXl9I2eF_Lef"
      },
      "source": [
        "# your code here"
      ],
      "execution_count": null,
      "outputs": []
    },
    {
      "cell_type": "markdown",
      "metadata": {
        "id": "SaFP_ikT_Leh"
      },
      "source": [
        "# Solution"
      ]
    },
    {
      "cell_type": "code",
      "metadata": {
        "solution2": "hidden",
        "id": "RpeYMnpo_Lei"
      },
      "source": [
        ""
      ],
      "execution_count": null,
      "outputs": []
    },
    {
      "cell_type": "markdown",
      "metadata": {
        "id": "guEMkCjKo2ZL"
      },
      "source": [
        "---"
      ]
    },
    {
      "cell_type": "markdown",
      "source": [
        "# ⭕ **QUESTIONS?**"
      ],
      "metadata": {
        "id": "hly2nzdqo2ZL"
      }
    },
    {
      "cell_type": "markdown",
      "metadata": {
        "id": "9jW6VHf7o2ZL"
      },
      "source": [
        "---"
      ]
    },
    {
      "cell_type": "markdown",
      "metadata": {
        "id": "q5jJBBOD_Lek"
      },
      "source": [
        "# Exercise 3: Try to change the units to `metric` and repeat\n"
      ]
    },
    {
      "cell_type": "code",
      "metadata": {
        "id": "A79nyv08_Lek"
      },
      "source": [
        "# your code here"
      ],
      "execution_count": null,
      "outputs": []
    },
    {
      "cell_type": "markdown",
      "metadata": {
        "id": "KlBX0GzQ_Lem"
      },
      "source": [
        "# Solution"
      ]
    },
    {
      "cell_type": "code",
      "metadata": {
        "solution2": "hidden",
        "id": "pptVYbPj_Len"
      },
      "source": [
        ""
      ],
      "execution_count": null,
      "outputs": []
    },
    {
      "cell_type": "markdown",
      "metadata": {
        "id": "XJFpH7Ogo12O"
      },
      "source": [
        "---"
      ]
    },
    {
      "cell_type": "markdown",
      "source": [
        "# ⭕ **QUESTIONS?**"
      ],
      "metadata": {
        "id": "wcsVwH_so12O"
      }
    },
    {
      "cell_type": "markdown",
      "metadata": {
        "id": "0YPUeFD2o12O"
      },
      "source": [
        "---"
      ]
    },
    {
      "cell_type": "markdown",
      "metadata": {
        "id": "2xAakSCD_Lep"
      },
      "source": [
        "# Exercise 4: Get the weather for San Francisco, CA\n",
        "\n"
      ]
    },
    {
      "cell_type": "code",
      "metadata": {
        "id": "MDRJgGq4_Leq"
      },
      "source": [
        "# your code here"
      ],
      "execution_count": null,
      "outputs": []
    },
    {
      "cell_type": "markdown",
      "metadata": {
        "id": "uw7eDVG4_Les"
      },
      "source": [
        "# Solution"
      ]
    },
    {
      "cell_type": "code",
      "metadata": {
        "solution2": "hidden",
        "id": "q1Lei-Q6_Les"
      },
      "source": [
        ""
      ],
      "execution_count": null,
      "outputs": []
    },
    {
      "cell_type": "markdown",
      "metadata": {
        "id": "vmVl2O4soyML"
      },
      "source": [
        "---"
      ]
    },
    {
      "cell_type": "markdown",
      "source": [
        "# ⭕ **QUESTIONS?**"
      ],
      "metadata": {
        "id": "5XmkiSNooyMT"
      }
    },
    {
      "cell_type": "markdown",
      "metadata": {
        "id": "GY2RnRW9oyMT"
      },
      "source": [
        "---"
      ]
    },
    {
      "cell_type": "markdown",
      "metadata": {
        "id": "_9yqyOwY_Lev"
      },
      "source": [
        "# Exercise 5: Study the documentation of the API ([Documentation](http://openweathermap.org/current#geo)). Change the API call to use the longitute and latitude rather than city name."
      ]
    },
    {
      "cell_type": "code",
      "metadata": {
        "id": "1lreQnvW_Lev"
      },
      "source": [
        "# your code here"
      ],
      "execution_count": null,
      "outputs": []
    },
    {
      "cell_type": "markdown",
      "metadata": {
        "id": "sRl1KEwL_Lex"
      },
      "source": [
        "# Solution"
      ]
    },
    {
      "cell_type": "code",
      "metadata": {
        "scrolled": true,
        "solution2": "hidden",
        "id": "DyDqA0WF_Lex"
      },
      "source": [
        ""
      ],
      "execution_count": null,
      "outputs": []
    },
    {
      "cell_type": "markdown",
      "metadata": {
        "id": "MVO6WXTto4mw"
      },
      "source": [
        "---"
      ]
    },
    {
      "cell_type": "markdown",
      "source": [
        "# ⭕ **QUESTIONS?**"
      ],
      "metadata": {
        "id": "7wSsLXX-o4mw"
      }
    },
    {
      "cell_type": "markdown",
      "metadata": {
        "id": "dqlrrABOo4mw"
      },
      "source": [
        "---"
      ]
    },
    {
      "cell_type": "markdown",
      "metadata": {
        "id": "Ih-j0wrr_Lez"
      },
      "source": [
        "# Exercise 6: Read the location of your computer using the GeoIP API. Then use the OpenWeatherMap to query the API and fetch the temperature for the location returned by the GeoIP API. For this exercise, you will need to learn to read variables from a Web API (geoip) and use them as input in another (openweathermap)\n",
        "\n"
      ]
    },
    {
      "cell_type": "code",
      "metadata": {
        "id": "swEc1_5n_Le0",
        "colab": {
          "base_uri": "https://localhost:8080/"
        },
        "outputId": "06ee8470-b52b-4a2a-a50d-710170d46263"
      },
      "source": [
        "import requests\n",
        "\n",
        "url = 'http://api.ipstack.com/check?access_key=5fa14ff9a16466658e2bdd9e777880d9'\n",
        "\n",
        "resp = requests.get(url)\n",
        "\n",
        "data = resp.json()\n",
        "\n",
        "latitude = data['latitude']\n",
        "longitude = data['longitude']\n",
        "\n",
        "openweather_url = \"http://api.openweathermap.org/data/2.5/weather\"\n",
        "\n",
        "parameters = {\n",
        "    'lat': latitude,\n",
        "    'lon': longitude,\n",
        "    'units': 'imperial',\n",
        "    'mode': 'json',\n",
        "    'appid': 'ffb7b9808e07c9135bdcc7d1e867253d'\n",
        "}\n",
        "\n",
        "resp = requests.get(openweather_url,params=parameters)\n",
        "data = resp.json() \n",
        "\n",
        "print(\"The temperature in\",data['name'],\"is\",data['main']['temp'])"
      ],
      "execution_count": 21,
      "outputs": [
        {
          "output_type": "stream",
          "name": "stdout",
          "text": [
            "The temperature in Wildwood is 71.49\n"
          ]
        }
      ]
    },
    {
      "cell_type": "markdown",
      "metadata": {
        "id": "gpYz9R06_Le3"
      },
      "source": [
        "# Solution"
      ]
    },
    {
      "cell_type": "code",
      "metadata": {
        "scrolled": true,
        "solution2": "hidden",
        "id": "qFizbyOX_Le4"
      },
      "source": [
        ""
      ],
      "execution_count": null,
      "outputs": []
    },
    {
      "cell_type": "markdown",
      "metadata": {
        "id": "88FzoQXOo7ll"
      },
      "source": [
        "---"
      ]
    },
    {
      "cell_type": "markdown",
      "source": [
        "# ⭕ **QUESTIONS?**"
      ],
      "metadata": {
        "id": "MLgBSd_Ko7ll"
      }
    },
    {
      "cell_type": "markdown",
      "metadata": {
        "id": "owKeZnB0o7ll"
      },
      "source": [
        "---"
      ]
    },
    {
      "cell_type": "markdown",
      "metadata": {
        "id": "Kg3WAC3R_Lfc"
      },
      "source": [
        "## Flask\n",
        "\n",
        "Now, let's build our own API using Flask! https://flask.palletsprojects.com/en/1.1.x/"
      ]
    },
    {
      "cell_type": "markdown",
      "metadata": {
        "id": "Zu9EfJBf_Lfe"
      },
      "source": [
        "In your terminal: \n",
        "\n",
        "1. \\> {navigate to desired directory}\n",
        "2. `mkdir app`\n",
        "3. `cd app`\n",
        "4. `touch hello.py`"
      ]
    },
    {
      "cell_type": "markdown",
      "metadata": {
        "id": "BoeCKPka_Lfe"
      },
      "source": [
        "In `hello.py`, enter the following: \n",
        "\n",
        "```python \n",
        "\n",
        "from flask import Flask\n",
        "app = Flask(__name__)\n",
        "\n",
        "@app.route('/')\n",
        "def hello_world():\n",
        "    return 'Hello, World!'\n",
        "\n",
        "```"
      ]
    },
    {
      "cell_type": "markdown",
      "metadata": {
        "id": "hiDhooWr_Lff"
      },
      "source": [
        "Last but not least, in your terminal: \n",
        "\n",
        "1. `export FLASK_APP=hello.py`\n",
        "2. `flask run`\n",
        "\n",
        "Then visit http://127.0.0.1:5000/ and volia! Your first Flask app!"
      ]
    },
    {
      "cell_type": "code",
      "source": [
        ""
      ],
      "metadata": {
        "id": "RZu-RB3Sx_tA"
      },
      "execution_count": null,
      "outputs": []
    },
    {
      "cell_type": "code",
      "source": [
        "!pip install flask"
      ],
      "metadata": {
        "colab": {
          "base_uri": "https://localhost:8080/"
        },
        "id": "TOMWG_LIx_wn",
        "outputId": "b12aaa57-efe1-4795-e198-87485763f00d"
      },
      "execution_count": 22,
      "outputs": [
        {
          "output_type": "stream",
          "name": "stdout",
          "text": [
            "Requirement already satisfied: flask in /usr/local/lib/python3.7/dist-packages (1.1.4)\n",
            "Requirement already satisfied: itsdangerous<2.0,>=0.24 in /usr/local/lib/python3.7/dist-packages (from flask) (1.1.0)\n",
            "Requirement already satisfied: click<8.0,>=5.1 in /usr/local/lib/python3.7/dist-packages (from flask) (7.1.2)\n",
            "Requirement already satisfied: Werkzeug<2.0,>=0.15 in /usr/local/lib/python3.7/dist-packages (from flask) (1.0.1)\n",
            "Requirement already satisfied: Jinja2<3.0,>=2.10.1 in /usr/local/lib/python3.7/dist-packages (from flask) (2.11.3)\n",
            "Requirement already satisfied: MarkupSafe>=0.23 in /usr/local/lib/python3.7/dist-packages (from Jinja2<3.0,>=2.10.1->flask) (2.0.1)\n"
          ]
        }
      ]
    },
    {
      "cell_type": "code",
      "source": [
        "!mkdir app"
      ],
      "metadata": {
        "colab": {
          "base_uri": "https://localhost:8080/"
        },
        "id": "btgIUVr1x_zN",
        "outputId": "b7a406b0-2a75-4661-96bc-57f5caee0504"
      },
      "execution_count": 24,
      "outputs": [
        {
          "output_type": "stream",
          "name": "stdout",
          "text": [
            "mkdir: cannot create directory ‘app’: File exists\n"
          ]
        }
      ]
    },
    {
      "cell_type": "code",
      "source": [
        "!cd app"
      ],
      "metadata": {
        "id": "zROIJwfHx_1j"
      },
      "execution_count": 25,
      "outputs": []
    },
    {
      "cell_type": "code",
      "source": [
        "!pwd"
      ],
      "metadata": {
        "colab": {
          "base_uri": "https://localhost:8080/"
        },
        "id": "WSYmXUbTyG9l",
        "outputId": "e0edc0c0-768e-4098-d5d8-807d728a15c1"
      },
      "execution_count": 26,
      "outputs": [
        {
          "output_type": "stream",
          "name": "stdout",
          "text": [
            "/content\n"
          ]
        }
      ]
    },
    {
      "cell_type": "code",
      "source": [
        "cd app"
      ],
      "metadata": {
        "colab": {
          "base_uri": "https://localhost:8080/"
        },
        "id": "4jbf4OShyIE7",
        "outputId": "90511c0b-c1d6-462d-ec99-75c33794b9ed"
      },
      "execution_count": 27,
      "outputs": [
        {
          "output_type": "stream",
          "name": "stdout",
          "text": [
            "/content/app\n"
          ]
        }
      ]
    },
    {
      "cell_type": "code",
      "source": [
        "pwd"
      ],
      "metadata": {
        "colab": {
          "base_uri": "https://localhost:8080/",
          "height": 35
        },
        "id": "lR-nWSYtyJ0I",
        "outputId": "225eed9a-c7ce-4bd7-b643-99f12d72927e"
      },
      "execution_count": 28,
      "outputs": [
        {
          "output_type": "execute_result",
          "data": {
            "text/plain": [
              "'/content/app'"
            ],
            "application/vnd.google.colaboratory.intrinsic+json": {
              "type": "string"
            }
          },
          "metadata": {},
          "execution_count": 28
        }
      ]
    },
    {
      "cell_type": "code",
      "source": [
        "ls"
      ],
      "metadata": {
        "colab": {
          "base_uri": "https://localhost:8080/"
        },
        "id": "ZlgEJC1QyKl2",
        "outputId": "32cb1e31-3a23-4330-998e-38a60bb66c8e"
      },
      "execution_count": 32,
      "outputs": [
        {
          "output_type": "stream",
          "name": "stdout",
          "text": [
            "hello.py\n"
          ]
        }
      ]
    },
    {
      "cell_type": "code",
      "source": [
        ""
      ],
      "metadata": {
        "id": "tvsWX8I6yTDj"
      },
      "execution_count": 36,
      "outputs": []
    },
    {
      "cell_type": "code",
      "source": [
        "!FLASK_APP=hello.py\n",
        "!flask run"
      ],
      "metadata": {
        "colab": {
          "base_uri": "https://localhost:8080/"
        },
        "id": "K3_u4o2oyXIU",
        "outputId": "33e3de0d-e062-44d7-9988-d2d2e0d248c0"
      },
      "execution_count": 39,
      "outputs": [
        {
          "output_type": "stream",
          "name": "stdout",
          "text": [
            " * Environment: production\n",
            "\u001b[31m   WARNING: This is a development server. Do not use it in a production deployment.\u001b[0m\n",
            "\u001b[2m   Use a production WSGI server instead.\u001b[0m\n",
            " * Debug mode: off\n",
            "Usage: flask run [OPTIONS]\n",
            "\n",
            "Error: Could not locate a Flask application. You did not provide the \"FLASK_APP\" environment variable, and a \"wsgi.py\" or \"app.py\" module was not found in the current directory.\n"
          ]
        }
      ]
    },
    {
      "cell_type": "code",
      "source": [
        ""
      ],
      "metadata": {
        "id": "e4ksYQb_yTJQ"
      },
      "execution_count": null,
      "outputs": []
    },
    {
      "cell_type": "markdown",
      "metadata": {
        "id": "IMs3RNHI_Lff"
      },
      "source": [
        "---"
      ]
    },
    {
      "cell_type": "markdown",
      "metadata": {
        "id": "F-BrKhOb_Lfg"
      },
      "source": [
        "# Exercise 5\n",
        "\n",
        "Create a Flask app that takes a user's IP address as input and outputs their location, weather, and temperature."
      ]
    },
    {
      "cell_type": "markdown",
      "metadata": {
        "id": "EmJD2vQo_Lfg"
      },
      "source": [
        "# Solution"
      ]
    },
    {
      "cell_type": "markdown",
      "metadata": {
        "id": "bfVqnyAd_Lfh"
      },
      "source": [
        "1. Navigate to desired directory\n",
        "2. `mkdir weather_app`\n",
        "3. `cd weather_app`\n",
        "4. `touch weather.py`"
      ]
    },
    {
      "cell_type": "markdown",
      "metadata": {
        "id": "OyRGcc3K_Lfh"
      },
      "source": [
        "```python \n",
        "\n",
        "from flask import Flask\n",
        "\n",
        "app = Flask(__name__)\n",
        "@app.route('/weather')\n",
        "\n",
        "def my_weather():\n",
        "\n",
        "    import requests\n",
        "\n",
        "    geoip_url = 'http://api.ipstack.com/check?access_key=dd4cbbbe9d6b9f2709e5f0533644e547'\n",
        "    resp = requests.get(geoip_url)\n",
        "    data = resp.json()\n",
        "    lon = data[\"longitude\"]\n",
        "    lat = data[\"latitude\"]\n",
        "\n",
        "    openweathermap_url = \"http://api.openweathermap.org/data/2.5/weather\"\n",
        "    parameters = {\n",
        "        'lat'   : str(lat),\n",
        "        'lon'   : str(lon),\n",
        "        'units' : 'imperial',\n",
        "        'mode'  : 'json',\n",
        "        'appid' : 'ffb7b9808e07c9135bdcc7d1e867253d'\n",
        "    }\n",
        "    \n",
        "    resp = requests.get(openweathermap_url, params=parameters)\n",
        "    data = resp.json()\n",
        "\n",
        "    location = data['name']\n",
        "    weather = data['weather'][0]['description']\n",
        "    temp = str(data['main']['temp'])\n",
        "\n",
        "    return 'Location: {}, Weather: {}, Temp: {}'.format(location, weather, temp)\n",
        "\n",
        "```"
      ]
    },
    {
      "cell_type": "markdown",
      "metadata": {
        "id": "xs6UEsau_Lfh"
      },
      "source": [
        "5. `export FLASK_APP=weather.py`\n",
        "6. `flask run`\n",
        "\n",
        "`http://127.0.0.1:5000/weather`"
      ]
    },
    {
      "cell_type": "markdown",
      "metadata": {
        "id": "HD1wB2pcpOfr"
      },
      "source": [
        "---"
      ]
    },
    {
      "cell_type": "markdown",
      "source": [
        "# ⭕ **QUESTIONS?**"
      ],
      "metadata": {
        "id": "RHxWTsH7pOfy"
      }
    },
    {
      "cell_type": "markdown",
      "metadata": {
        "id": "w2HOUz7qpOfy"
      },
      "source": [
        "---"
      ]
    }
  ]
}