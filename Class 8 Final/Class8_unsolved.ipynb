{
  "nbformat": 4,
  "nbformat_minor": 0,
  "metadata": {
    "kernelspec": {
      "display_name": "Python 3",
      "language": "python",
      "name": "python3"
    },
    "language_info": {
      "codemirror_mode": {
        "name": "ipython",
        "version": 3
      },
      "file_extension": ".py",
      "mimetype": "text/x-python",
      "name": "python",
      "nbconvert_exporter": "python",
      "pygments_lexer": "ipython3",
      "version": "3.7.6"
    },
    "colab": {
      "name": "Class8_unsolved.ipynb",
      "provenance": []
    }
  },
  "cells": [
    {
      "cell_type": "markdown",
      "metadata": {
        "id": "U17mtdB0_Ld8"
      },
      "source": [
        "# Web APIs"
      ]
    },
    {
      "cell_type": "markdown",
      "metadata": {
        "id": "VQ3Ngm-d_Ld9"
      },
      "source": [
        "---"
      ]
    },
    {
      "cell_type": "markdown",
      "metadata": {
        "id": "Z3pWK8g2_Ld-"
      },
      "source": [
        "What even is an API (Application Programming Interface)? \n",
        "\n",
        "Think about what happens when I visit NYT.com..."
      ]
    },
    {
      "cell_type": "markdown",
      "metadata": {
        "id": "eppGDWpi_Ld_"
      },
      "source": [
        "1. I as the \"Person\" go to https://www.nytimes.com in my browser (known as the \"Client\"), <br>\n",
        "<br>\n",
        "2. The client makes a request to the NYT Website (known as the \"Server\") – think of this server as a warehouse with all of the NYT content, <br>\n",
        "<br>\n",
        "3. The server responds to the client request with HTML, CSS, images, and other assets. The browser then combines those assets and displays them on the webpage. <br>\n",
        "\n",
        "An API is what allows the Server to \"talk to\" the Client, and vice-versa. "
      ]
    },
    {
      "cell_type": "markdown",
      "metadata": {
        "id": "3R0wUnzQ_Ld_"
      },
      "source": [
        "---"
      ]
    },
    {
      "cell_type": "markdown",
      "metadata": {
        "id": "C7GKI8uu_LeA"
      },
      "source": [
        "## `Request-Response Cycle`\n",
        "\n",
        "To understand what's happening here, it's important to understand the \"Request-Response Cycle.\" As we've seen, this involves the client sending a request to the server (via an API) and the server responding (also via an API). \n",
        "\n",
        "Behind the scenes, to make this cycle possible, you need: \n",
        "\n",
        "1. a URL, \n",
        "2. a Method, \n",
        "3. a list of Headers,\n",
        "4. a Body"
      ]
    },
    {
      "cell_type": "markdown",
      "metadata": {
        "id": "yOhNVF-W_LeB"
      },
      "source": [
        "### *The URL*\n",
        "\n",
        "> HTTP (Hyper-Text Transfer Protocol) is exactly what it sounds like, a protocol. It allows for a common language that enables the client and server to speak with one another. \n",
        "\n",
        "### *The Method*\n",
        "\n",
        "> The four most common methods are GET (ask the server to retrieve something), POST (ask the server to create something), PUT (ask the server to edit something), and DELETE (ask the server to delete something). \n",
        "\n",
        "### *Headers*\n",
        "\n",
        "> Headers provide meatdata about a request, such as the time a request was sent. \n",
        "\n",
        "### *Body*\n",
        "\n",
        "> The body contains the data the client wants sent to the server. "
      ]
    },
    {
      "cell_type": "markdown",
      "metadata": {
        "id": "k63aDEV1_LeB"
      },
      "source": [
        "## Let's see it in action:"
      ]
    },
    {
      "cell_type": "markdown",
      "metadata": {
        "id": "aSCjiYfO_LeC"
      },
      "source": [
        "**First, let's check the NYT homepage and go to Developer > Developer Tools in our browser**"
      ]
    },
    {
      "cell_type": "markdown",
      "metadata": {
        "id": "_j9CHCPU_LeC"
      },
      "source": [
        "**Then, click \"Network\"** "
      ]
    },
    {
      "cell_type": "markdown",
      "metadata": {
        "id": "GzK3W3Qr_LeD"
      },
      "source": [
        "**Now we can click on the article of interest (the first article on teir homepage, in this case) and see what happens when we request that information.**"
      ]
    },
    {
      "cell_type": "markdown",
      "metadata": {
        "id": "-wK1oh3r_LeE"
      },
      "source": [
        "**We can then select \"Img\" to see all of the images loaded**"
      ]
    },
    {
      "cell_type": "markdown",
      "metadata": {
        "id": "0pu2Xl8s_LeE"
      },
      "source": [
        "**And we can see the request URL for the first image on the article:**"
      ]
    },
    {
      "cell_type": "markdown",
      "metadata": {
        "id": "raDNQLWU_LeF"
      },
      "source": [
        "**Last but not least, when we go to that URL, we see our image!** (Looks like it's being stored in GCS)"
      ]
    },
    {
      "cell_type": "markdown",
      "metadata": {
        "id": "hPPtaBK1oJHH"
      },
      "source": [
        "---"
      ]
    },
    {
      "cell_type": "markdown",
      "source": [
        "# ⭕ **QUESTIONS?**"
      ],
      "metadata": {
        "id": "nkfg_Y0yoJHP"
      }
    },
    {
      "cell_type": "markdown",
      "metadata": {
        "id": "Eh3TeuhOoJHQ"
      },
      "source": [
        "---"
      ]
    },
    {
      "cell_type": "markdown",
      "metadata": {
        "id": "iphVPloi_LeG"
      },
      "source": [
        "## Example 2: GeoIP resolution"
      ]
    },
    {
      "cell_type": "markdown",
      "metadata": {
        "id": "JpI7H9gf_LeG"
      },
      "source": [
        "We will start with an example that is doing a \"geoIP\" resolution: it takes the IP of a computer and returns back its location."
      ]
    },
    {
      "cell_type": "code",
      "metadata": {
        "id": "AgboKnFs_LeH"
      },
      "source": [
        "# https://ipstack.com/\n",
        "\n",
        "import requests\n",
        "\n",
        "url = 'http://api.ipstack.com/check?access_key=dd4cbbbe9d6b9f2709e5f0533644e547'\n",
        "# this access_key may have expired by the time of this class. I recommend creating your own at ipstack.com\n",
        "\n"
      ],
      "execution_count": null,
      "outputs": []
    },
    {
      "cell_type": "markdown",
      "metadata": {
        "id": "f7lw0_g7_LeR"
      },
      "source": [
        "Alltogether now:"
      ]
    },
    {
      "cell_type": "code",
      "metadata": {
        "id": "225vK2aE_LeR"
      },
      "source": [
        ""
      ],
      "execution_count": null,
      "outputs": []
    },
    {
      "cell_type": "markdown",
      "metadata": {
        "id": "OXeiUU4SoUpx"
      },
      "source": [
        "---"
      ]
    },
    {
      "cell_type": "markdown",
      "source": [
        "# ⭕ **QUESTIONS?**"
      ],
      "metadata": {
        "id": "kUqJ7xXzoUp5"
      }
    },
    {
      "cell_type": "markdown",
      "metadata": {
        "id": "8-_nYCCNoUp5"
      },
      "source": [
        "---"
      ]
    },
    {
      "cell_type": "markdown",
      "metadata": {
        "id": "ai0zbkrZ_LeU"
      },
      "source": [
        "## Using Parameters with API Calls\n"
      ]
    },
    {
      "cell_type": "markdown",
      "metadata": {
        "id": "5l7YwQFI_LeV"
      },
      "source": [
        "The first API call that we tried was very simple. We just fetched a URL. Now let's see a URL that accepts as input a set of **parameters**. We have already seen this concept with functions; the parameters of the API calls are the exact equivalent but for Web APIs, which are, at their core, functions that we call over the web. "
      ]
    },
    {
      "cell_type": "markdown",
      "metadata": {
        "id": "PLfaoMO9_LeV"
      },
      "source": [
        "## Example 3: OpenWeatherMap"
      ]
    },
    {
      "cell_type": "markdown",
      "metadata": {
        "id": "3EHMceyc_LeW"
      },
      "source": [
        "Let's try to query OpenWeatherMap now, to get data about the weather. [Documentation here](http://openweathermap.org/current#geo). \n",
        "\n",
        "Below you can find the URL that you can copy and paste in your browser to get the weather for New York. You will notice that it contains parameters as part of the URL, including an `appid` which is a key that is used to limit the number of calls that can be issued by a single application. \n",
        "\n",
        "Try the URL in your browser. Also try to change the query parameter `q` and change it from `New%20York,NY` to something different. (Note: The `%20` is a transformation for the space (` `) character in URLs.)"
      ]
    },
    {
      "cell_type": "markdown",
      "metadata": {
        "id": "bcV9iLV7_LeW"
      },
      "source": [
        "http://api.openweathermap.org/data/2.5/weather?q=New%20York,NY,USA&units=imperial&mode=json&appid=ffb7b9808e07c9135bdcc7d1e867253d"
      ]
    },
    {
      "cell_type": "markdown",
      "metadata": {
        "id": "U--K4V5I_LeX"
      },
      "source": [
        "Below you can find the same code, but now we have a Python dictionary to organize and list the parameters."
      ]
    },
    {
      "cell_type": "code",
      "metadata": {
        "id": "lF7whC-u_LeX"
      },
      "source": [
        "import requests\n",
        "\n",
        "openweathermap_url = \"http://api.openweathermap.org/data/2.5/weather\"\n",
        "\n",
        "parameters = {\n",
        "\n",
        "    'appid' : 'ffb7b9808e07c9135bdcc7d1e867253d'\n",
        "    # this appid may have expired by the time of this class. I recommend creating your own at openweathermap.org\n",
        "}\n",
        "\n"
      ],
      "execution_count": null,
      "outputs": []
    },
    {
      "cell_type": "markdown",
      "metadata": {
        "id": "sW-WLPLNwhl4"
      },
      "source": [
        "---"
      ]
    },
    {
      "cell_type": "markdown",
      "source": [
        "# ⭕ **QUESTIONS?**"
      ],
      "metadata": {
        "id": "Cl5dInjNwhl_"
      }
    },
    {
      "cell_type": "markdown",
      "metadata": {
        "id": "MvmEFNfPwhmA"
      },
      "source": [
        "---"
      ]
    },
    {
      "cell_type": "markdown",
      "metadata": {
        "id": "jDyj3Nqo_LeZ"
      },
      "source": [
        "# Exercise 1: Extract the current temperature from the returned JSON response."
      ]
    },
    {
      "cell_type": "code",
      "metadata": {
        "id": "7HzzrM21_Lea"
      },
      "source": [
        "# your code here"
      ],
      "execution_count": null,
      "outputs": []
    },
    {
      "cell_type": "markdown",
      "metadata": {
        "id": "PKrPDv0Vo2_0"
      },
      "source": [
        "---"
      ]
    },
    {
      "cell_type": "markdown",
      "source": [
        "# ⭕ **QUESTIONS?**"
      ],
      "metadata": {
        "id": "sMwKd0TCo2_0"
      }
    },
    {
      "cell_type": "markdown",
      "metadata": {
        "id": "HMb66d1bo2_0"
      },
      "source": [
        "---"
      ]
    },
    {
      "cell_type": "markdown",
      "metadata": {
        "id": "uzYOY8YQ_Lef"
      },
      "source": [
        "# Exercise 2: Extract the description of the current weather"
      ]
    },
    {
      "cell_type": "code",
      "metadata": {
        "id": "IXl9I2eF_Lef"
      },
      "source": [
        "# your code here"
      ],
      "execution_count": null,
      "outputs": []
    },
    {
      "cell_type": "markdown",
      "metadata": {
        "id": "guEMkCjKo2ZL"
      },
      "source": [
        "---"
      ]
    },
    {
      "cell_type": "markdown",
      "source": [
        "# ⭕ **QUESTIONS?**"
      ],
      "metadata": {
        "id": "hly2nzdqo2ZL"
      }
    },
    {
      "cell_type": "markdown",
      "metadata": {
        "id": "9jW6VHf7o2ZL"
      },
      "source": [
        "---"
      ]
    },
    {
      "cell_type": "markdown",
      "metadata": {
        "id": "q5jJBBOD_Lek"
      },
      "source": [
        "# Exercise 3: Try to change the units to `metric` and repeat\n"
      ]
    },
    {
      "cell_type": "code",
      "metadata": {
        "id": "A79nyv08_Lek"
      },
      "source": [
        "# your code here"
      ],
      "execution_count": null,
      "outputs": []
    },
    {
      "cell_type": "markdown",
      "metadata": {
        "id": "XJFpH7Ogo12O"
      },
      "source": [
        "---"
      ]
    },
    {
      "cell_type": "markdown",
      "source": [
        "# ⭕ **QUESTIONS?**"
      ],
      "metadata": {
        "id": "wcsVwH_so12O"
      }
    },
    {
      "cell_type": "markdown",
      "metadata": {
        "id": "0YPUeFD2o12O"
      },
      "source": [
        "---"
      ]
    },
    {
      "cell_type": "markdown",
      "metadata": {
        "id": "2xAakSCD_Lep"
      },
      "source": [
        "# Exercise 4: Get the weather for San Francisco, CA\n",
        "\n"
      ]
    },
    {
      "cell_type": "code",
      "metadata": {
        "id": "MDRJgGq4_Leq"
      },
      "source": [
        "# your code here"
      ],
      "execution_count": null,
      "outputs": []
    },
    {
      "cell_type": "markdown",
      "metadata": {
        "id": "vmVl2O4soyML"
      },
      "source": [
        "---"
      ]
    },
    {
      "cell_type": "markdown",
      "source": [
        "# ⭕ **QUESTIONS?**"
      ],
      "metadata": {
        "id": "5XmkiSNooyMT"
      }
    },
    {
      "cell_type": "markdown",
      "metadata": {
        "id": "GY2RnRW9oyMT"
      },
      "source": [
        "---"
      ]
    },
    {
      "cell_type": "markdown",
      "metadata": {
        "id": "_9yqyOwY_Lev"
      },
      "source": [
        "# Exercise 5: Study the documentation of the API ([Documentation](http://openweathermap.org/current#geo)). Change the API call to use the longitute and latitude rather than city name."
      ]
    },
    {
      "cell_type": "code",
      "metadata": {
        "id": "1lreQnvW_Lev"
      },
      "source": [
        "# your code here"
      ],
      "execution_count": null,
      "outputs": []
    },
    {
      "cell_type": "markdown",
      "metadata": {
        "id": "MVO6WXTto4mw"
      },
      "source": [
        "---"
      ]
    },
    {
      "cell_type": "markdown",
      "source": [
        "# ⭕ **QUESTIONS?**"
      ],
      "metadata": {
        "id": "7wSsLXX-o4mw"
      }
    },
    {
      "cell_type": "markdown",
      "metadata": {
        "id": "dqlrrABOo4mw"
      },
      "source": [
        "---"
      ]
    },
    {
      "cell_type": "markdown",
      "metadata": {
        "id": "Ih-j0wrr_Lez"
      },
      "source": [
        "# Exercise 6: Read the location of your computer using the GeoIP API. Then use the OpenWeatherMap to query the API and fetch the temperature for the location returned by the GeoIP API. For this exercise, you will need to learn to read variables from a Web API (geoip) and use them as input in another (openweathermap)\n",
        "\n"
      ]
    },
    {
      "cell_type": "code",
      "metadata": {
        "id": "swEc1_5n_Le0"
      },
      "source": [
        "#your code here"
      ],
      "execution_count": null,
      "outputs": []
    },
    {
      "cell_type": "markdown",
      "metadata": {
        "id": "88FzoQXOo7ll"
      },
      "source": [
        "---"
      ]
    },
    {
      "cell_type": "markdown",
      "source": [
        "# ⭕ **QUESTIONS?**"
      ],
      "metadata": {
        "id": "MLgBSd_Ko7ll"
      }
    },
    {
      "cell_type": "markdown",
      "metadata": {
        "id": "owKeZnB0o7ll"
      },
      "source": [
        "---"
      ]
    },
    {
      "cell_type": "markdown",
      "metadata": {
        "id": "Kg3WAC3R_Lfc"
      },
      "source": [
        "## Flask\n",
        "\n",
        "Now, let's build our own API using Flask! https://flask.palletsprojects.com/en/1.1.x/\n",
        "\n",
        "Flask is a web framework in python language. This means flask provides you with tools, libraries and technologies that allow you to build a web application. This web application can be some web pages, a blog, a wiki or go as big as a web-based calendar application or a machine learning webapp.\n",
        "\n",
        "On Colab we cannot access the localhost (all it does it route it to our local machine’s localhost), but we can expose it to a public URL using ngrok. [(source)](https://www.geeksforgeeks.org/how-to-run-flask-app-on-google-colab/)"
      ]
    },
    {
      "cell_type": "code",
      "source": [
        "# setting ourselves up to use ngrok\n",
        "\n",
        "!mkdir -p /drive/ngrok-ssh\n",
        "%cd /drive/ngrok-ssh\n",
        "!wget https://bin.equinox.io/c/4VmDzA7iaHb/ngrok-stable-linux-amd64.zip -O ngrok-stable-linux-amd64.zip\n",
        "!unzip -u ngrok-stable-linux-amd64.zip\n",
        "!cp /drive/ngrok-ssh/ngrok /ngrok\n",
        "!chmod +x /ngrok"
      ],
      "metadata": {
        "id": "N_FDLGlVSdBF"
      },
      "execution_count": null,
      "outputs": []
    },
    {
      "cell_type": "markdown",
      "source": [
        "In order to use ngrok, you will need an authorization token. You can sign up for one [here](https://dashboard.ngrok.com/get-started/setup)."
      ],
      "metadata": {
        "id": "xhtTliFuTCm4"
      }
    },
    {
      "cell_type": "code",
      "source": [
        "!/ngrok authtoken 26nf4gxesQ5C01AA60B0uNfQuBt_3ZGorDW9atLPJBE88DBs\n",
        "# save that token"
      ],
      "metadata": {
        "id": "VA_dXEbrSVcs"
      },
      "execution_count": null,
      "outputs": []
    },
    {
      "cell_type": "code",
      "source": [
        ""
      ],
      "metadata": {
        "id": "OhPmxGENVRp7"
      },
      "execution_count": null,
      "outputs": []
    },
    {
      "cell_type": "markdown",
      "metadata": {
        "id": "xUGFzPOMSwLr"
      },
      "source": [
        "---"
      ]
    },
    {
      "cell_type": "markdown",
      "source": [
        "# ⭕ **QUESTIONS?**"
      ],
      "metadata": {
        "id": "6qAeuJtnSwLs"
      }
    },
    {
      "cell_type": "markdown",
      "metadata": {
        "id": "PVpO8e-TTQzn"
      },
      "source": [
        "---"
      ]
    },
    {
      "cell_type": "markdown",
      "metadata": {
        "id": "F-BrKhOb_Lfg"
      },
      "source": [
        "# Exercise 5\n",
        "\n",
        "Create a Flask app that takes a user's IP address as input and outputs their location, weather, and temperature."
      ]
    },
    {
      "cell_type": "code",
      "source": [
        "# your code here"
      ],
      "metadata": {
        "id": "jtB5wzl7VVLQ"
      },
      "execution_count": null,
      "outputs": []
    },
    {
      "cell_type": "markdown",
      "metadata": {
        "id": "C6xKKMCBTy_j"
      },
      "source": [
        "---"
      ]
    },
    {
      "cell_type": "markdown",
      "metadata": {
        "id": "xs6UEsau_Lfh"
      },
      "source": [
        "5. `export FLASK_APP=weather.py`\n",
        "6. `flask run`\n",
        "\n",
        "`http://127.0.0.1:5000/weather`"
      ]
    },
    {
      "cell_type": "markdown",
      "metadata": {
        "id": "HD1wB2pcpOfr"
      },
      "source": [
        "---"
      ]
    },
    {
      "cell_type": "markdown",
      "source": [
        "# ⭕ **QUESTIONS?**"
      ],
      "metadata": {
        "id": "RHxWTsH7pOfy"
      }
    },
    {
      "cell_type": "markdown",
      "metadata": {
        "id": "w2HOUz7qpOfy"
      },
      "source": [
        "---"
      ]
    }
  ]
}