{
  "nbformat": 4,
  "nbformat_minor": 0,
  "metadata": {
    "kernelspec": {
      "display_name": "Python 3",
      "language": "python",
      "name": "python3"
    },
    "language_info": {
      "codemirror_mode": {
        "name": "ipython",
        "version": 3
      },
      "file_extension": ".py",
      "mimetype": "text/x-python",
      "name": "python",
      "nbconvert_exporter": "python",
      "pygments_lexer": "ipython3",
      "version": "3.7.3"
    },
    "colab": {
      "name": "Class9_solved.ipynb",
      "provenance": [],
      "collapsed_sections": []
    }
  },
  "cells": [
    {
      "cell_type": "markdown",
      "metadata": {
        "id": "QvO92phQM7zt"
      },
      "source": [
        "# Data Driven Websites with Flask\n"
      ]
    },
    {
      "cell_type": "markdown",
      "metadata": {
        "id": "BIDXW2kmM7zu"
      },
      "source": [
        "---"
      ]
    },
    {
      "cell_type": "markdown",
      "metadata": {
        "id": "oXLfSTH5M7zu"
      },
      "source": [
        "Let's take our weather API from last class and add a bit of complexity in the form of some formatting. In particular, we'll add some HTML (Hyper-Text Markup Language) – the standard markup language for any document meant to be displayed by a web browser. \n",
        "\n",
        "First things first, let's make sure that our app is up and running."
      ]
    },
    {
      "cell_type": "code",
      "source": [
        "# setting ourselves up to use ngrok\n",
        "\n",
        "!pip install flask-ngrok\n",
        "\n",
        "!mkdir -p /drive/ngrok-ssh\n",
        "%cd /drive/ngrok-ssh\n",
        "!wget https://bin.equinox.io/c/4VmDzA7iaHb/ngrok-stable-linux-amd64.zip -O ngrok-stable-linux-amd64.zip\n",
        "!unzip -u ngrok-stable-linux-amd64.zip\n",
        "!cp /drive/ngrok-ssh/ngrok /ngrok\n",
        "!chmod +x /ngrok"
      ],
      "metadata": {
        "id": "N_FDLGlVSdBF"
      },
      "execution_count": null,
      "outputs": []
    },
    {
      "cell_type": "markdown",
      "source": [
        "In order to use ngrok, you will need an authorization token. You can sign up for one [here](https://dashboard.ngrok.com/get-started/setup)."
      ],
      "metadata": {
        "id": "xhtTliFuTCm4"
      }
    },
    {
      "cell_type": "code",
      "source": [
        "!/ngrok authtoken 26nf4gxesQ5C01AA60B0uNfQuBt_3ZGorDW9atLPJBE88DBs\n",
        "# save that token"
      ],
      "metadata": {
        "id": "VA_dXEbrSVcs"
      },
      "execution_count": null,
      "outputs": []
    },
    {
      "cell_type": "code",
      "source": [
        "from flask import Flask\n",
        "from flask_ngrok import run_with_ngrok\n",
        "app = Flask(__name__)\n",
        "run_with_ngrok(app)\n",
        "\n",
        "@app.route('/')\n",
        "def hello_world():\n",
        "    return 'Hello, World!'\n",
        "\n",
        "app.run()"
      ],
      "metadata": {
        "id": "kqIqrmf-Q0oh"
      },
      "execution_count": null,
      "outputs": []
    },
    {
      "cell_type": "markdown",
      "source": [
        "To run, click on the URL ending with .ngrok.io. Note that you may have to click \"visit site anyway\" despite safety wranings on Chrome. If you get an error, try refreshing the page and your \"Hello, World!\" text should appear. "
      ],
      "metadata": {
        "id": "JQ8-OR8-ThUN"
      }
    },
    {
      "cell_type": "markdown",
      "metadata": {
        "id": "xUGFzPOMSwLr"
      },
      "source": [
        "---"
      ]
    },
    {
      "cell_type": "markdown",
      "source": [
        "# ⭕ **QUESTIONS?**"
      ],
      "metadata": {
        "id": "6qAeuJtnSwLs"
      }
    },
    {
      "cell_type": "markdown",
      "metadata": {
        "id": "ZS4FLNkrSwLs"
      },
      "source": [
        "---"
      ]
    },
    {
      "cell_type": "markdown",
      "source": [
        "Great! Now, let's look at a new API. Here, we will: \n",
        "\n",
        "1. Go to https://openlibrary.org/developers/api and read the documentation for the Open Library API, then read the .json response for the subject 'horror' (hint: https://openlibrary.org/dev/docs/api/subjects) as a Python dictionary,\n",
        "2. Get the .json response for the subject 'horror', only if a book was released electronically and published between 2000 and 2010,\n",
        "3. Store the title of each book with the 'horror' subject that was released electronically and published between 2000 and 2010 in a list or set,\n",
        "4. Create a basic Flask app that allows a user to choose between 'horror', 'romance', and science'and receive a list of titles published between 2000 and 2019. "
      ],
      "metadata": {
        "id": "4OHfiGPVZuE-"
      }
    },
    {
      "cell_type": "code",
      "source": [
        "from flask import Flask\n",
        "from flask_ngrok import run_with_ngrok\n",
        "app = Flask(__name__)\n",
        "run_with_ngrok(app)\n",
        "\n",
        "# begin our Horror API\n",
        "\n",
        "@app.route('/horror')\n",
        "def horror():\n",
        "\n",
        "    import requests\n",
        "\n",
        "    url = 'http://openlibrary.org/subjects/horror.json'\n",
        "\n",
        "    parameters = {\n",
        "        'published_in'   : 2000-2010\n",
        "    }\n",
        "\n",
        "    resp = requests.get(url, params=parameters)\n",
        "\n",
        "    data = resp.json()\n",
        "\n",
        "    titles = set()\n",
        "\n",
        "    for i in range(0, len(data)):\n",
        "        title = data['works'][i]['title']\n",
        "        titles.add(title)\n",
        "\n",
        "    return 'Titles: {}'.format(sorted(titles))\n",
        "\n",
        "\n",
        "# begin our Romance API\n",
        "\n",
        "@app.route('/romance')\n",
        "def romance(): \n",
        "\n",
        "    import requests \n",
        "    \n",
        "    url = 'http://openlibrary.org/subjects/romance.json'\n",
        "\n",
        "    parameters = {\n",
        "        'published_in'   : 2000-2019\n",
        "    }\n",
        "\n",
        "    resp = requests.get(url, params=parameters)\n",
        "\n",
        "    data = resp.json()\n",
        "\n",
        "    titles = set()\n",
        "\n",
        "    for i in range(0, len(data)):\n",
        "        title = data['works'][i]['title']\n",
        "        titles.add(title)\n",
        "\n",
        "    return 'Titles: {}'.format(sorted(titles))\n",
        "\n",
        "# begin our Science API\n",
        "\n",
        "@app.route('/science')\n",
        "def science():\n",
        "\n",
        "    import requests \n",
        "    \n",
        "    url = 'http://openlibrary.org/subjects/science.json'\n",
        "\n",
        "    parameters = {\n",
        "        'published_in'   : 2000-2019\n",
        "    }\n",
        "\n",
        "    resp = requests.get(url, params=parameters)\n",
        "\n",
        "    data = resp.json()\n",
        "\n",
        "    titles = set()\n",
        "\n",
        "    for i in range(0, len(data)):\n",
        "        title = data['works'][i]['title']\n",
        "        titles.add(title)\n",
        "\n",
        "    return 'Titles: {}'.format(sorted(titles))\n",
        "\n",
        "app.run()"
      ],
      "metadata": {
        "id": "rkja5bWCZdXD"
      },
      "execution_count": null,
      "outputs": []
    },
    {
      "cell_type": "markdown",
      "metadata": {
        "id": "8rgb-TdkaVPb"
      },
      "source": [
        "---"
      ]
    },
    {
      "cell_type": "markdown",
      "source": [
        "# ⭕ **QUESTIONS?**"
      ],
      "metadata": {
        "id": "d4iIN1ADaVPb"
      }
    },
    {
      "cell_type": "markdown",
      "metadata": {
        "id": "Oc2JiFsaaVPb"
      },
      "source": [
        "---"
      ]
    },
    {
      "cell_type": "markdown",
      "metadata": {
        "id": "Vdi-KbkxaQmM"
      },
      "source": [
        "So far so good. Let's get a bit fancier, though, and add a personalized welcome message to each user that visits the site. In library.py, let's add the following: \n"
      ]
    },
    {
      "cell_type": "code",
      "source": [
        "from flask import Flask\n",
        "from flask_ngrok import run_with_ngrok\n",
        "app = Flask(__name__)\n",
        "run_with_ngrok(app)\n",
        "from datetime import * # adding this. inport \n",
        "\n",
        "# begin a new / route\n",
        "\n",
        "@app.route(\"/\")\n",
        "def hello_visitor():\n",
        "    datetime.now().strftime('%Y-%m-%d %H:%M:%S') # get the current time from datetime\n",
        "    date = datetime.now().strftime('%Y-%m-%d') # get today's date from the current time \n",
        "    time = datetime.now().strftime('%H:%M:%S') # get the current time from the current time \n",
        "    message = \"The date is {d} and the time is {t}\" # create the message telling us the current date and time \n",
        "    return message.format(d=date, t=time) # return our message \n",
        "\n",
        "# begin our Horror API\n",
        "\n",
        "@app.route('/horror')\n",
        "def horror():\n",
        "\n",
        "    import requests\n",
        "\n",
        "    url = 'http://openlibrary.org/subjects/horror.json'\n",
        "\n",
        "    parameters = {\n",
        "        'published_in'   : 2000-2010\n",
        "    }\n",
        "\n",
        "    resp = requests.get(url, params=parameters)\n",
        "\n",
        "    data = resp.json()\n",
        "\n",
        "    titles = set()\n",
        "\n",
        "    for i in range(0, len(data)):\n",
        "        title = data['works'][i]['title']\n",
        "        titles.add(title)\n",
        "\n",
        "    return 'Titles: {}'.format(sorted(titles))\n",
        "\n",
        "\n",
        "# begin our Romance API\n",
        "\n",
        "@app.route('/romance')\n",
        "def romance(): \n",
        "\n",
        "    import requests \n",
        "    \n",
        "    url = 'http://openlibrary.org/subjects/romance.json'\n",
        "\n",
        "    parameters = {\n",
        "        'published_in'   : 2000-2019\n",
        "    }\n",
        "\n",
        "    resp = requests.get(url, params=parameters)\n",
        "\n",
        "    data = resp.json()\n",
        "\n",
        "    titles = set()\n",
        "\n",
        "    for i in range(0, len(data)):\n",
        "        title = data['works'][i]['title']\n",
        "        titles.add(title)\n",
        "\n",
        "    return 'Titles: {}'.format(sorted(titles))\n",
        "\n",
        "# begin our Science API\n",
        "\n",
        "@app.route('/science')\n",
        "def science():\n",
        "\n",
        "    import requests \n",
        "    \n",
        "    url = 'http://openlibrary.org/subjects/science.json'\n",
        "\n",
        "    parameters = {\n",
        "        'published_in'   : 2000-2019\n",
        "    }\n",
        "\n",
        "    resp = requests.get(url, params=parameters)\n",
        "\n",
        "    data = resp.json()\n",
        "\n",
        "    titles = set()\n",
        "\n",
        "    for i in range(0, len(data)):\n",
        "        title = data['works'][i]['title']\n",
        "        titles.add(title)\n",
        "\n",
        "    return 'Titles: {}'.format(sorted(titles))\n",
        "\n",
        "app.run()"
      ],
      "metadata": {
        "id": "zN7y-pBqamHZ"
      },
      "execution_count": null,
      "outputs": []
    },
    {
      "cell_type": "markdown",
      "metadata": {
        "id": "TO3N_i0ZaQmN"
      },
      "source": [
        "---"
      ]
    },
    {
      "cell_type": "markdown",
      "source": [
        "# ⭕ **QUESTIONS?**"
      ],
      "metadata": {
        "id": "OFXwAyQ9aQmN"
      }
    },
    {
      "cell_type": "markdown",
      "metadata": {
        "id": "j0nTIcyQaQmN"
      },
      "source": [
        "---"
      ]
    },
    {
      "cell_type": "markdown",
      "metadata": {
        "id": "ZDcGYQS0aQmN"
      },
      "source": [
        "## HTML\n",
        "\n",
        "In order to prettify (add HTML) to our date and time message, we need to add a new .html file. In order to render that in Colab, we are going to leverage Google drive."
      ]
    },
    {
      "cell_type": "code",
      "source": [
        "from google.colab import drive\n",
        "drive.mount('/content/drive')"
      ],
      "metadata": {
        "id": "FTl9yRGbbVI7"
      },
      "execution_count": null,
      "outputs": []
    },
    {
      "cell_type": "markdown",
      "metadata": {
        "id": "9Fl7uavvaQmN"
      },
      "source": [
        "In Google Drive, navigate to your \"Colab Notebooks\" directory and create an empty folder called \"templates\".\n",
        "\n",
        "Then, in your text editor, create a file called \"index.html\" with the following information, and put it into that \"templates' folder:\n",
        "\n",
        "```html \n",
        "<!DOCTYPE html>\n",
        "<html>\n",
        "<head>\n",
        "    <title>Welcome Message</title>\n",
        "</head>\n",
        "<body>\n",
        "    <div style=\"color: purple\">\n",
        "    <h1>Hello World! Here's some fun info! {{ message }}</h1>\n",
        "        <strong>Below an image is displayed</strong>\n",
        "        <img width=\"300\" src=\"https://upload.wikimedia.org/wikipedia/en/thumb/5/58/NYU_logo.svg/1280px-NYU_logo.svg.png\"/>\n",
        "    </div>\n",
        "</body>\n",
        "</html> \n",
        "\n",
        "```"
      ]
    },
    {
      "cell_type": "markdown",
      "source": [
        "Now, we can link to this .html file using the render_template function in our / app route as follows:"
      ],
      "metadata": {
        "id": "PRDs4v15dT5M"
      }
    },
    {
      "cell_type": "code",
      "source": [
        "cd /content/drive/MyDrive/Colab Notebooks/"
      ],
      "metadata": {
        "id": "6s0kYGMfd7oc"
      },
      "execution_count": null,
      "outputs": []
    },
    {
      "cell_type": "code",
      "source": [
        "from flask import Flask\n",
        "from flask_ngrok import run_with_ngrok\n",
        "app = Flask(__name__)\n",
        "run_with_ngrok(app)\n",
        "from datetime import * \n",
        "from flask import render_template # adding this line\n",
        "\n",
        "# begin a new / route\n",
        "\n",
        "@app.route(\"/\")\n",
        "def hello_visitor():\n",
        "    datetime.now().strftime('%Y-%m-%d %H:%M:%S') # get the current time from datetime\n",
        "    date = datetime.now().strftime('%Y-%m-%d') # get today's date from the current time\n",
        "    time = datetime.now().strftime('%H:%M:%S') # get the current time from the current time\n",
        "    message = \"The date is {} and the time is {}\".format(date, time) # create the message\n",
        "    return render_template(\"index.html\",message=message) # return our message\n",
        "\n",
        "# begin our Horror API\n",
        "\n",
        "@app.route('/horror')\n",
        "def horror():\n",
        "\n",
        "    import requests\n",
        "\n",
        "    url = 'http://openlibrary.org/subjects/horror.json'\n",
        "\n",
        "    parameters = {\n",
        "        'published_in'   : 2000-2010\n",
        "    }\n",
        "\n",
        "    resp = requests.get(url, params=parameters)\n",
        "\n",
        "    data = resp.json()\n",
        "\n",
        "    titles = set()\n",
        "\n",
        "    for i in range(0, len(data)):\n",
        "        title = data['works'][i]['title']\n",
        "        titles.add(title)\n",
        "\n",
        "    return 'Titles: {}'.format(sorted(titles))\n",
        "\n",
        "\n",
        "# begin our Romance API\n",
        "\n",
        "@app.route('/romance')\n",
        "def romance(): \n",
        "\n",
        "    import requests \n",
        "    \n",
        "    url = 'http://openlibrary.org/subjects/romance.json'\n",
        "\n",
        "    parameters = {\n",
        "        'published_in'   : 2000-2019\n",
        "    }\n",
        "\n",
        "    resp = requests.get(url, params=parameters)\n",
        "\n",
        "    data = resp.json()\n",
        "\n",
        "    titles = set()\n",
        "\n",
        "    for i in range(0, len(data)):\n",
        "        title = data['works'][i]['title']\n",
        "        titles.add(title)\n",
        "\n",
        "    return 'Titles: {}'.format(sorted(titles))\n",
        "\n",
        "# begin our Science API\n",
        "\n",
        "@app.route('/science')\n",
        "def science():\n",
        "\n",
        "    import requests \n",
        "    \n",
        "    url = 'http://openlibrary.org/subjects/science.json'\n",
        "\n",
        "    parameters = {\n",
        "        'published_in'   : 2000-2019\n",
        "    }\n",
        "\n",
        "    resp = requests.get(url, params=parameters)\n",
        "\n",
        "    data = resp.json()\n",
        "\n",
        "    titles = set()\n",
        "\n",
        "    for i in range(0, len(data)):\n",
        "        title = data['works'][i]['title']\n",
        "        titles.add(title)\n",
        "\n",
        "    return 'Titles: {}'.format(sorted(titles))\n",
        "\n",
        "app.run()"
      ],
      "metadata": {
        "id": "kN200uP3dFk5"
      },
      "execution_count": null,
      "outputs": []
    },
    {
      "cell_type": "markdown",
      "metadata": {
        "id": "EQlxW6fkaQmN"
      },
      "source": [
        "---"
      ]
    },
    {
      "cell_type": "markdown",
      "source": [
        "# ⭕ **QUESTIONS?**"
      ],
      "metadata": {
        "id": "9_1pBNEFaQmO"
      }
    },
    {
      "cell_type": "markdown",
      "metadata": {
        "id": "xOUsjkDYaQmO"
      },
      "source": [
        "---"
      ]
    },
    {
      "cell_type": "markdown",
      "metadata": {
        "id": "xjzGMvi5aQmO"
      },
      "source": [
        "# Exercise 1\n",
        "\n",
        "Looking back to last week, adjust your library Flask app so that rather than being greated by the date, time, and visitor count, a visitor is told their location, the weather, and temperature. "
      ]
    },
    {
      "cell_type": "code",
      "metadata": {
        "id": "HeHOJd1paQmO"
      },
      "source": [
        "# your code here"
      ],
      "execution_count": null,
      "outputs": []
    },
    {
      "cell_type": "markdown",
      "metadata": {
        "id": "gCptPfWMaQmO"
      },
      "source": [
        "# Solution"
      ]
    },
    {
      "cell_type": "code",
      "source": [
        "from flask import Flask\n",
        "from flask_ngrok import run_with_ngrok\n",
        "app = Flask(__name__)\n",
        "run_with_ngrok(app)\n",
        "from datetime import * \n",
        "from flask import render_template # adding this line\n",
        "\n",
        "@app.route(\"/\")\n",
        "def hello_visitor(): \n",
        "\n",
        "    import requests\n",
        "\n",
        "    geoip_url = 'http://api.ipstack.com/check?access_key=6a647c049963b953a08c5ae31d9b760d'\n",
        "    resp = requests.get(geoip_url)\n",
        "    data = resp.json()\n",
        "    lon = data[\"longitude\"]\n",
        "    lat = data[\"latitude\"]\n",
        "\n",
        "    openweathermap_url = \"http://api.openweathermap.org/data/2.5/weather\"\n",
        "    parameters = {\n",
        "        'lat'   : str(lat),\n",
        "        'lon'   : str(lon),\n",
        "        'units' : 'imperial',\n",
        "        'mode'  : 'json',\n",
        "        'appid' : 'ffb7b9808e07c9135bdcc7d1e867253d'\n",
        "    }\n",
        "\n",
        "    resp = requests.get(openweathermap_url, params=parameters)\n",
        "    data = resp.json()\n",
        "\n",
        "    location = data['name']\n",
        "    weather = data['weather'][0]['description']\n",
        "    temperature = data['main']['temp']\n",
        "\n",
        "    message = \"Your Location: {}, Your Weather: {}, Your Temp: {}\".format(location, weather, temperature)\n",
        "\n",
        "    return render_template(\"index.html\", message=message)\n",
        "\n",
        "app.run()"
      ],
      "metadata": {
        "id": "-31sVhPkem49"
      },
      "execution_count": null,
      "outputs": []
    },
    {
      "cell_type": "markdown",
      "metadata": {
        "id": "RFWsrDcKaQmO"
      },
      "source": [
        "---"
      ]
    },
    {
      "cell_type": "markdown",
      "source": [
        "# ⭕ **QUESTIONS?**"
      ],
      "metadata": {
        "id": "fWZC9qQ8aQmP"
      }
    },
    {
      "cell_type": "markdown",
      "metadata": {
        "id": "iNpEzhigaQmP"
      },
      "source": [
        "---"
      ]
    },
    {
      "cell_type": "markdown",
      "metadata": {
        "id": "J-qp1py2aQmP"
      },
      "source": [
        "## Jinja Iterators\n",
        "\n",
        "We can also leverage what is known as a \"Jinja iterator\" – basically allowing us to render if / else statements in our template. For example, let's alter our \"index.html\" file to read as follows:\n",
        "\n",
        "## `index.html`\n",
        "\n",
        "``` html\n",
        "<!DOCTYPE html>\n",
        "<html>\n",
        "    \n",
        "```\n",
        "\n",
        "`{% if temperature <= 32 %}`\n",
        "\n",
        "``` html\n",
        "\n",
        "<div style = \"color: blue\">\n",
        "<body>\n",
        "  <h1>Hello! {{ message }}. It is below freezing outside, bring a jacket!</h1>\n",
        "</body>\n",
        "</div>\n",
        "\n",
        "```\n",
        "\n",
        "`{% endif %}`\n",
        "\n",
        "`{% if temperature > 32 %}`\n",
        "\n",
        "``` html\n",
        "\n",
        "<div style = \"color: red\">\n",
        "<body>\n",
        "  <h1>Hello! {{ message }}. It is warm outside, awesome!</h1>\n",
        "</body>\n",
        "</div>\n",
        "\n",
        "```\n",
        "\n",
        "`{% endif %}`\n",
        "\n",
        "```  \n",
        "</html> \n",
        "\n",
        "```\n",
        "\n",
        "## `library.py`\n",
        "\n",
        "```python \n",
        "\n",
        "    # ... \n",
        "    \n",
        "    location = data['name']\n",
        "    weather = data['weather'][0]['description']\n",
        "    temperature = data['main']['temp']\n",
        "\n",
        "    message = \"Your Location: {}, Your Weather: {}, Your Temp: {}\".format(location, weather, temperature)\n",
        "    \n",
        "    return render_template(\"index.html\", message=message, location=location, weather=weather, temperature=temperature)\n",
        "\n",
        "```"
      ]
    },
    {
      "cell_type": "code",
      "source": [
        "from flask import Flask\n",
        "from flask_ngrok import run_with_ngrok\n",
        "app = Flask(__name__)\n",
        "run_with_ngrok(app)\n",
        "from datetime import * \n",
        "from flask import render_template # adding this line\n",
        "\n",
        "@app.route(\"/\")\n",
        "def hello_visitor(): \n",
        "\n",
        "    import requests\n",
        "\n",
        "    geoip_url = 'http://api.ipstack.com/check?access_key=6a647c049963b953a08c5ae31d9b760d'\n",
        "    resp = requests.get(geoip_url)\n",
        "    data = resp.json()\n",
        "    lon = data[\"longitude\"]\n",
        "    lat = data[\"latitude\"]\n",
        "\n",
        "    openweathermap_url = \"http://api.openweathermap.org/data/2.5/weather\"\n",
        "    parameters = {\n",
        "        'lat'   : str(lat),\n",
        "        'lon'   : str(lon),\n",
        "        'units' : 'imperial',\n",
        "        'mode'  : 'json',\n",
        "        'appid' : 'ffb7b9808e07c9135bdcc7d1e867253d'\n",
        "    }\n",
        "\n",
        "    resp = requests.get(openweathermap_url, params=parameters)\n",
        "    data = resp.json()\n",
        "\n",
        "    location = data['name']\n",
        "    weather = data['weather'][0]['description']\n",
        "    temperature = data['main']['temp']\n",
        "\n",
        "    message = \"Your Location: {}, Your Weather: {}, Your Temp: {}\".format(location, weather, temperature)\n",
        "\n",
        "    return render_template(\"index.html\", message=message, location=location, weather=weather, temperature=temperature)\n",
        "\n",
        "app.run()"
      ],
      "metadata": {
        "id": "9dtBpKpxfLy5"
      },
      "execution_count": null,
      "outputs": []
    },
    {
      "cell_type": "markdown",
      "metadata": {
        "id": "ZVSIpgg2aQmP"
      },
      "source": [
        "---"
      ]
    },
    {
      "cell_type": "markdown",
      "source": [
        "# ⭕ **QUESTIONS?**"
      ],
      "metadata": {
        "id": "Ev8Zu0uKaQmP"
      }
    },
    {
      "cell_type": "markdown",
      "metadata": {
        "id": "v9qDt8aiaQmP"
      },
      "source": [
        "---"
      ]
    },
    {
      "cell_type": "markdown",
      "metadata": {
        "id": "by1W-_dyaQmP"
      },
      "source": [
        "# Exercise 2\n",
        "\n",
        "Create a new file called horror.html that returns a blue list if there are fewer than 5 books returned and a red list if there are more than 5 books returned. Don't forget to adjust your /horror app route to call this new html file, too. "
      ]
    },
    {
      "cell_type": "code",
      "metadata": {
        "id": "Kl98oCEGaQmP"
      },
      "source": [
        "# your code here"
      ],
      "execution_count": null,
      "outputs": []
    },
    {
      "cell_type": "markdown",
      "metadata": {
        "id": "KveZ7eKOaQmQ"
      },
      "source": [
        "# Solution"
      ]
    },
    {
      "cell_type": "markdown",
      "metadata": {
        "id": "OzB-yrVzaQmQ"
      },
      "source": [
        "## `horror.html`\n",
        "\n",
        "``` html\n",
        "<!DOCTYPE html>\n",
        "<html>\n",
        "    \n",
        "```\n",
        "\n",
        "`{% if set_length < 5 %}`\n",
        "\n",
        "``` html\n",
        "\n",
        "<div style = \"color: blue\">\n",
        "<body>\n",
        "  <h1>{{ titles }}</h1>\n",
        "</body>\n",
        "</div>\n",
        "\n",
        "```\n",
        "\n",
        "`{% endif %}`\n",
        "\n",
        "`{% if set_length > 5 %}`\n",
        "\n",
        "``` html\n",
        "\n",
        "<div style = \"color: red\">\n",
        "<body>\n",
        "  <h1>{{ titles }}</h1>\n",
        "</body>\n",
        "</div>\n",
        "\n",
        "```\n",
        "\n",
        "`{% endif %}`\n",
        "\n",
        " ``` html\n",
        "\n",
        "</html> \n",
        "\n",
        "``` "
      ]
    },
    {
      "cell_type": "code",
      "source": [
        "from flask import Flask\n",
        "from flask_ngrok import run_with_ngrok\n",
        "app = Flask(__name__)\n",
        "run_with_ngrok(app)\n",
        "from datetime import * # adding this. inport \n",
        "\n",
        "# begin a new / route\n",
        "\n",
        "@app.route(\"/\")\n",
        "def hello_visitor():\n",
        "    datetime.now().strftime('%Y-%m-%d %H:%M:%S') # get the current time from datetime\n",
        "    date = datetime.now().strftime('%Y-%m-%d') # get today's date from the current time \n",
        "    time = datetime.now().strftime('%H:%M:%S') # get the current time from the current time \n",
        "    message = \"The date is {d} and the time is {t}\" # create the message telling us the current date and time \n",
        "    return message.format(d=date, t=time) # return our message \n",
        "\n",
        "# begin our Horror API\n",
        "\n",
        "@app.route('/horror')\n",
        "def horror():\n",
        "\n",
        "    import requests\n",
        "\n",
        "    url = 'http://openlibrary.org/subjects/horror.json'\n",
        "\n",
        "    parameters = {\n",
        "        'published_in'   : 2000-2010\n",
        "    }\n",
        "\n",
        "    resp = requests.get(url, params=parameters)\n",
        "\n",
        "    data = resp.json()\n",
        "\n",
        "    titles = set()\n",
        "\n",
        "    for i in range(0, len(data)):\n",
        "        title = data['works'][i]['title']\n",
        "        titles.add(title)\n",
        "\n",
        "    set_length = len(titles)\n",
        "\n",
        "    return render_template('horror.html', titles=titles, set_length=set_length)\n",
        "\n",
        "\n",
        "# begin our Romance API\n",
        "\n",
        "@app.route('/romance')\n",
        "def romance(): \n",
        "\n",
        "    import requests \n",
        "    \n",
        "    url = 'http://openlibrary.org/subjects/romance.json'\n",
        "\n",
        "    parameters = {\n",
        "        'published_in'   : 2000-2019\n",
        "    }\n",
        "\n",
        "    resp = requests.get(url, params=parameters)\n",
        "\n",
        "    data = resp.json()\n",
        "\n",
        "    titles = set()\n",
        "\n",
        "    for i in range(0, len(data)):\n",
        "        title = data['works'][i]['title']\n",
        "        titles.add(title)\n",
        "\n",
        "    return 'Titles: {}'.format(sorted(titles))\n",
        "\n",
        "# begin our Science API\n",
        "\n",
        "@app.route('/science')\n",
        "def science():\n",
        "\n",
        "    import requests \n",
        "    \n",
        "    url = 'http://openlibrary.org/subjects/science.json'\n",
        "\n",
        "    parameters = {\n",
        "        'published_in'   : 2000-2019\n",
        "    }\n",
        "\n",
        "    resp = requests.get(url, params=parameters)\n",
        "\n",
        "    data = resp.json()\n",
        "\n",
        "    titles = set()\n",
        "\n",
        "    for i in range(0, len(data)):\n",
        "        title = data['works'][i]['title']\n",
        "        titles.add(title)\n",
        "\n",
        "    return 'Titles: {}'.format(sorted(titles))\n",
        "\n",
        "app.run()"
      ],
      "metadata": {
        "id": "_yQYZPNLgKHJ"
      },
      "execution_count": null,
      "outputs": []
    },
    {
      "cell_type": "markdown",
      "metadata": {
        "id": "n7PPEAYCaQmQ"
      },
      "source": [
        "---"
      ]
    },
    {
      "cell_type": "markdown",
      "source": [
        "# ⭕ **QUESTIONS?**"
      ],
      "metadata": {
        "id": "gmKRQP02aQmQ"
      }
    },
    {
      "cell_type": "markdown",
      "metadata": {
        "id": "zpCxk1EcaQmQ"
      },
      "source": [
        "---"
      ]
    },
    {
      "cell_type": "markdown",
      "metadata": {
        "id": "obojvImBaQmQ"
      },
      "source": [
        "What happens if we want to call upon a SQL database, such as our Citibike database from Week 1, and display it in a Flask application?"
      ]
    },
    {
      "cell_type": "markdown",
      "metadata": {
        "id": "-rLGTzNGaQmQ"
      },
      "source": [
        "## `citibike.html` \n",
        "^ This sould be a new document in our `templates` folder\n",
        "\n",
        "``` html\n",
        "<!DOCTYPE html>\n",
        "<html>\n",
        "<body>\n",
        "  <table>\n",
        "    <thead>\n",
        "      <tr>\n",
        "        <th>Station ID</th>\n",
        "        <th>Station Name</th>\n",
        "        <th>Available Bikes</th>\n",
        "      </tr>\n",
        "    </thead>\n",
        "    <tbody>\n",
        "      {% for i in station_data %}\n",
        "\t<tr>\n",
        "        <td>{{ i.station_id }}</td>\n",
        "        <td>{{ i.name }}</td>\n",
        "        <td>{{ i.num_bikes_available }}</td>\n",
        "\t</tr>\n",
        "      {% endfor %}\n",
        "    </tbody> \n",
        "  </table>\n",
        "</body>\n",
        "</html>\n",
        "```"
      ]
    },
    {
      "cell_type": "code",
      "source": [
        "from flask import Flask\n",
        "from flask_ngrok import run_with_ngrok\n",
        "app = Flask(__name__)\n",
        "run_with_ngrok(app)\n",
        "from datetime import * \n",
        "from flask import render_template \n",
        "import sqlite3\n",
        "\n",
        "\n",
        "@app.route(\"/citibike\")\n",
        "def citibike():\n",
        "\n",
        "    con = sqlite3.connect('/content/citibikeData2022_class9.db') # connect to our db\n",
        "    cursor = con.cursor()\n",
        "\n",
        "    # retrieve records of all tables and construct dictionaries for convenient usage at HTML tamplates\n",
        "\n",
        "    station_data = cursor.execute(\"SELECT station_id, name, num_bikes_available FROM AllStationData LIMIT 5\")\n",
        "\n",
        "    station_data = [{\"station_id\": i[0], \"name\": i[1], \"num_bikes_available\": i[2]} for i in station_data]\n",
        "\n",
        "    return render_template('citibike.html', station_data=station_data)\n",
        "    \n",
        "app.run()"
      ],
      "metadata": {
        "id": "ZP2wAFP0gsI6"
      },
      "execution_count": null,
      "outputs": []
    },
    {
      "cell_type": "markdown",
      "metadata": {
        "id": "PybNOmHgaQmR"
      },
      "source": [
        "---"
      ]
    },
    {
      "cell_type": "markdown",
      "source": [
        "# ⭕ **QUESTIONS?**"
      ],
      "metadata": {
        "id": "w-GpHeeXaQmR"
      }
    },
    {
      "cell_type": "markdown",
      "metadata": {
        "id": "gz_CJPgbaQmR"
      },
      "source": [
        "---"
      ]
    },
    {
      "cell_type": "markdown",
      "metadata": {
        "id": "64Q8DQa1aQmR"
      },
      "source": [
        "## Getting Parameters and Passing to SQL\n",
        "\n",
        "Now let's see how we can query for the status of a Citibike station over time.\n",
        "\n",
        "Here, we want to create a new function, where we will pass the `station_id` as a **parameter**. Then our code will read the value of the parameter `station_id` and then will query the database to get the status of that station."
      ]
    },
    {
      "cell_type": "code",
      "source": [
        "from flask import Flask\n",
        "from flask_ngrok import run_with_ngrok\n",
        "app = Flask(__name__)\n",
        "run_with_ngrok(app)\n",
        "from datetime import * \n",
        "from flask import render_template \n",
        "import sqlite3\n",
        "from flask import request\n",
        "\n",
        "\n",
        "@app.route(\"/citibike\")\n",
        "def citibike():\n",
        "\n",
        "    con = sqlite3.connect('/content/citibikeData2022_class9.db') # connect to our db\n",
        "    cursor = con.cursor()\n",
        "\n",
        "    # retrieve records of all tables and construct dictionaries for convenient usage at HTML tamplates\n",
        "\n",
        "    station_data = cursor.execute(\"SELECT station_id, name, num_bikes_available FROM AllStationData LIMIT 5\")\n",
        "\n",
        "    station_data = [{\"station_id\": i[0], \"name\": i[1], \"num_bikes_available\": i[2]} for i in station_data]\n",
        "\n",
        "    return render_template('citibike.html', station_data=station_data)\n",
        "\n",
        "@app.route(\"/station_status\")\n",
        "def station_status():\n",
        "\n",
        "    user_station_id = request.args.get('station_id')\n",
        "\n",
        "    con = sqlite3.connect('/content/citibikeData2022_class9.db') # connect to our db\n",
        "    cursor = con.cursor()\n",
        "\n",
        "    # retrieve records of all tables and construct dictionaries for convenient usage at HTML tamplates\n",
        "\n",
        "    station_data = cursor.execute(\"SELECT station_id, name, num_bikes_available FROM AllStationData WHERE station_id = ? LIMIT 5\", [user_station_id,])\n",
        "\n",
        "    station_data = [{\"station_id\": i[0], \"name\": i[1], \"num_bikes_available\": i[2]} for i in station_data]\n",
        "\n",
        "    return render_template('citibike.html', station_data=station_data,user_station_id=user_station_id)\n",
        "    \n",
        "app.run()"
      ],
      "metadata": {
        "id": "Jpcq-vkEheFi"
      },
      "execution_count": null,
      "outputs": []
    },
    {
      "cell_type": "markdown",
      "metadata": {
        "id": "haLFPUVOaQmR"
      },
      "source": [
        "Now we can pass a parameter through our URL, such as Now we can pass a parameter through our URL, such as https://fa9f-34-74-156-6.ngrok.io/station_status?station_id=281\n"
      ]
    },
    {
      "cell_type": "markdown",
      "metadata": {
        "id": "Mmwe00HZaQmR"
      },
      "source": [
        "---"
      ]
    },
    {
      "cell_type": "markdown",
      "source": [
        "# ⭕ **QUESTIONS?**"
      ],
      "metadata": {
        "id": "tHzTdzAKaQmR"
      }
    },
    {
      "cell_type": "markdown",
      "metadata": {
        "id": "O_ZjQIl3aQmR"
      },
      "source": [
        "---"
      ]
    },
    {
      "cell_type": "markdown",
      "metadata": {
        "id": "ZIKSsXKGaQmR"
      },
      "source": [
        "## Bootstrap\n",
        "\n",
        "Our HTML pages aren't exactly visually pleasing. Lucky for us, [Twitter's Bootstrap](http://getbootstrap.com/) is an excellent set of carefully crafted user interface elements, layouts and JavaScript tools, easily available to use in your web design project. \n",
        "\n",
        "All you need is to create a link to the [Bootstrap resources](http://getbootstrap.com/getting-started/#download-cdn) in the HTML head and use the predefined CSS styles."
      ]
    },
    {
      "cell_type": "markdown",
      "metadata": {
        "id": "JeumY2bEaQmS"
      },
      "source": [
        "### `templates/citibike.html` \n",
        "\n",
        "```html\n",
        "<!DOCTYPE html>\n",
        "<html>\n",
        "<head>\n",
        "    <link rel=\"stylesheet\" href=\"https://stackpath.bootstrapcdn.com/bootstrap/4.1.3/css/bootstrap.min.css\" integrity=\"sha384-MCw98/SFnGE8fJT3GXwEOngsV7Zt27NXFoaoApmYm81iuXoPkFOJwJ8ERdknLPMO\" crossorigin=\"anonymous\">\n",
        "</head>\n",
        "<body>\n",
        "    <div class=\"container\">\n",
        "        <div class=\"panel panel-info\">\n",
        "            <div class=\"panel-heading\">\n",
        "                <h1 class=\"panel-title\">Citibike Stations</h1>\n",
        "            </div>\n",
        "            <table  class=\"table table-striped table-bordered table-hover\">\n",
        "    <thead>\n",
        "      <tr>\n",
        "        <th>Station ID</th>\n",
        "        <th>Station Name</th>\n",
        "        <th>Available Bikes</th\n",
        "      </tr>\n",
        "    </thead>\n",
        "    <tbody>\n",
        "      {% for i in station_data %}\n",
        "\t<tr>\n",
        "        <td>{{ i.station_id }}</td>\n",
        "        <td>{{ i.name }}</td>\n",
        "        <td>{{ i.num_bikes_available }}</td>\n",
        "\t</tr>\n",
        "      {% endfor %}\n",
        "    </tbody>\n",
        "    </table>\n",
        "  </div>\n",
        "</div>\n",
        "</body>\n",
        "</html>\n",
        "```"
      ]
    },
    {
      "cell_type": "code",
      "source": [
        "from flask import Flask\n",
        "from flask_ngrok import run_with_ngrok\n",
        "app = Flask(__name__)\n",
        "run_with_ngrok(app)\n",
        "from datetime import * \n",
        "from flask import render_template \n",
        "import sqlite3\n",
        "from flask import request\n",
        "\n",
        "\n",
        "@app.route(\"/citibike\")\n",
        "def citibike():\n",
        "\n",
        "    con = sqlite3.connect('/content/citibikeData2022_class9.db') # connect to our db\n",
        "    cursor = con.cursor()\n",
        "\n",
        "    # retrieve records of all tables and construct dictionaries for convenient usage at HTML tamplates\n",
        "\n",
        "    station_data = cursor.execute(\"SELECT station_id, name, num_bikes_available FROM AllStationData LIMIT 5\")\n",
        "\n",
        "    station_data = [{\"station_id\": i[0], \"name\": i[1], \"num_bikes_available\": i[2]} for i in station_data]\n",
        "\n",
        "    return render_template('citibike.html', station_data=station_data)\n",
        "\n",
        "@app.route(\"/station_status\")\n",
        "def station_status():\n",
        "\n",
        "    user_station_id = request.args.get('station_id')\n",
        "\n",
        "    con = sqlite3.connect('/content/citibikeData2022_class9.db') # connect to our db\n",
        "    cursor = con.cursor()\n",
        "\n",
        "    # retrieve records of all tables and construct dictionaries for convenient usage at HTML tamplates\n",
        "\n",
        "    station_data = cursor.execute(\"SELECT station_id, name, num_bikes_available FROM AllStationData WHERE station_id = ? LIMIT 5\", [user_station_id,])\n",
        "\n",
        "    station_data = [{\"station_id\": i[0], \"name\": i[1], \"num_bikes_available\": i[2]} for i in station_data]\n",
        "\n",
        "    return render_template('citibike.html', station_data=station_data,user_station_id=user_station_id)\n",
        "    \n",
        "app.run()"
      ],
      "metadata": {
        "id": "9YYf7pVxjRMr"
      },
      "execution_count": null,
      "outputs": []
    },
    {
      "cell_type": "markdown",
      "metadata": {
        "id": "h8ExCkTcaQmS"
      },
      "source": [
        "---"
      ]
    },
    {
      "cell_type": "markdown",
      "source": [
        "# ⭕ **QUESTIONS?**"
      ],
      "metadata": {
        "id": "HKGZbt5maQmS"
      }
    },
    {
      "cell_type": "markdown",
      "metadata": {
        "id": "FzKXzIWmaQmS"
      },
      "source": [
        "---"
      ]
    },
    {
      "cell_type": "markdown",
      "metadata": {
        "id": "sT5P1quuaQmS"
      },
      "source": [
        "## Forms"
      ]
    },
    {
      "cell_type": "markdown",
      "metadata": {
        "id": "Fw8JThVaaQmS"
      },
      "source": [
        "HTML forms allow us to get user entries and then use the submitted values as parameters in our code. (Check out [W3 Schools](https://www.w3schools.com/html/html_forms.asp) for more details.)\n",
        "\n",
        "Imagine we want to search the Citibike stations by their name, and get back a list of the stations that contain that search string. A simple HTML form that can do that is listed below. \n",
        "\n",
        "Save the file  `search_stations.html` in your `templates` folder, and add a new route in your script so that you can get back this page, when you visit the main page of your website."
      ]
    },
    {
      "cell_type": "markdown",
      "metadata": {
        "id": "9u61QD59aQmS"
      },
      "source": [
        "## `search_stations.html`\n",
        "\n",
        "```html\n",
        "<!DOCTYPE html>\n",
        "<html>\n",
        "<head>\n",
        "    <title>Search Citibike Stations</title>\n",
        "</head>\n",
        "<body>\n",
        "      <form action=\"/search\">\n",
        "      Station Name:<br>\n",
        "      <input type=\"text\" name=\"name\"><br>\n",
        "    </form>\n",
        "</body>\n",
        "```"
      ]
    },
    {
      "cell_type": "code",
      "source": [
        "from flask import Flask\n",
        "from flask_ngrok import run_with_ngrok\n",
        "app = Flask(__name__)\n",
        "run_with_ngrok(app)\n",
        "from datetime import * \n",
        "from flask import render_template \n",
        "import sqlite3\n",
        "from flask import request\n",
        "\n",
        "@app.route('/')\n",
        "def home():\n",
        "    return render_template('search_stations.html')\n",
        "\n",
        "@app.route('/search')\n",
        "def search():\n",
        "\n",
        "    import sqlite3\n",
        "\n",
        "    user_station_name = request.args.get('name')\n",
        "\n",
        "    con = sqlite3.connect('/content/citibikeData2022_class9.db') # connect to our db\n",
        "    cursor = con.cursor()\n",
        "\n",
        "    station_data = cursor.execute(\"SELECT station_id, name, num_bikes_available FROM AllStationData WHERE name = ? LIMIT 5\", [user_station_name])\n",
        "\n",
        "    station_data = [{\"station_id\": i[0], \"name\": i[1], \"num_bikes_available\": i[2]} for i in station_data]\n",
        "\n",
        "    return render_template('citibike.html', station_data=station_data, user_station_name=user_station_name)\n",
        "\n",
        "@app.route(\"/citibike\")\n",
        "def citibike():\n",
        "\n",
        "    con = sqlite3.connect('/content/citibikeData2022_class9.db') # connect to our db\n",
        "    cursor = con.cursor()\n",
        "\n",
        "    # retrieve records of all tables and construct dictionaries for convenient usage at HTML tamplates\n",
        "\n",
        "    station_data = cursor.execute(\"SELECT station_id, name, num_bikes_available FROM AllStationData LIMIT 5\")\n",
        "\n",
        "    station_data = [{\"station_id\": i[0], \"name\": i[1], \"num_bikes_available\": i[2]} for i in station_data]\n",
        "\n",
        "    return render_template('citibike.html', station_data=station_data)\n",
        "\n",
        "@app.route(\"/station_status\")\n",
        "def station_status():\n",
        "\n",
        "    user_station_id = request.args.get('station_id')\n",
        "\n",
        "    con = sqlite3.connect('/content/citibikeData2022_class9.db') # connect to our db\n",
        "    cursor = con.cursor()\n",
        "\n",
        "    # retrieve records of all tables and construct dictionaries for convenient usage at HTML tamplates\n",
        "\n",
        "    station_data = cursor.execute(\"SELECT station_id, name, num_bikes_available FROM AllStationData WHERE station_id = ? LIMIT 5\", [user_station_id,])\n",
        "\n",
        "    station_data = [{\"station_id\": i[0], \"name\": i[1], \"num_bikes_available\": i[2]} for i in station_data]\n",
        "\n",
        "    return render_template('citibike.html', station_data=station_data,user_station_id=user_station_id)\n",
        "    \n",
        "app.run()"
      ],
      "metadata": {
        "id": "I4b_pRk_jJkX"
      },
      "execution_count": null,
      "outputs": []
    },
    {
      "cell_type": "markdown",
      "metadata": {
        "id": "883dF5enaQmS"
      },
      "source": [
        "A key part of the form is the `action` script – it defines what URL we should go to when we submit the form. In our case, it will go to the `http://<your IP>:5000/search` with the parameter `name` having the value of the text that the user entered.\n",
        "\n",
        "For example, if we enter `Bleecker` on the form, the form will direct us to the URL `http://<your IP>:5000/search?name=Bleecker`.\n",
        "\n",
        "We specify that corresponding route in our webserver (i.e., the `/search` route) and define what it will do. "
      ]
    },
    {
      "cell_type": "markdown",
      "metadata": {
        "id": "FcfR59zcaQmT"
      },
      "source": [
        "---"
      ]
    },
    {
      "cell_type": "markdown",
      "source": [
        "# ⭕ **QUESTIONS?**"
      ],
      "metadata": {
        "id": "l3ZWfRbkaQmT"
      }
    },
    {
      "cell_type": "markdown",
      "metadata": {
        "id": "lfKZr_taaQmT"
      },
      "source": [
        "---"
      ]
    },
    {
      "cell_type": "markdown",
      "metadata": {
        "id": "7pWoodvcaQmT"
      },
      "source": [
        "# Exercise 3\n",
        "\n",
        "Adjust the /search app route so that a user can search for stations based on the minimum number of available bikes at a given station. "
      ]
    },
    {
      "cell_type": "code",
      "metadata": {
        "id": "HmV-g7aTaQmT"
      },
      "source": [
        "# your code here"
      ],
      "execution_count": null,
      "outputs": []
    },
    {
      "cell_type": "markdown",
      "metadata": {
        "id": "PgMximtAaQmT"
      },
      "source": [
        "# Solution"
      ]
    },
    {
      "cell_type": "code",
      "source": [
        "from flask import Flask\n",
        "from flask_ngrok import run_with_ngrok\n",
        "app = Flask(__name__)\n",
        "run_with_ngrok(app)\n",
        "from datetime import * \n",
        "from flask import render_template \n",
        "import sqlite3\n",
        "from flask import request\n",
        "\n",
        "@app.route('/')\n",
        "def home():\n",
        "    return render_template('search_stations.html')\n",
        "\n",
        "@app.route('/search')\n",
        "def search():\n",
        "\n",
        "    import sqlite3\n",
        "\n",
        "    user_bikes_available= request.args.get('minimum available bikes')\n",
        "\n",
        "    con = sqlite3.connect('/Users/asiegman/Desktop/library_app/citibikeData2022_class9.db') # connect to our db\n",
        "    cursor = con.cursor()\n",
        "\n",
        "    station_data = cursor.execute(\"SELECT station_id, name, num_bikes_available FROM AllStationData WHERE num_bikes_available >= ? LIMIT 5\", [user_bikes_available])\n",
        "\n",
        "    station_data = [{\"station_id\": i[0], \"name\": i[1], \"num_bikes_available\": i[2]} for i in station_data]\n",
        "\n",
        "    return render_template('citibike.html', station_data=station_data, user_bikes_available=user_bikes_available)\n",
        "\n",
        "@app.route(\"/citibike\")\n",
        "def citibike():\n",
        "\n",
        "    con = sqlite3.connect('/content/citibikeData2022_class9.db') # connect to our db\n",
        "    cursor = con.cursor()\n",
        "\n",
        "    # retrieve records of all tables and construct dictionaries for convenient usage at HTML tamplates\n",
        "\n",
        "    station_data = cursor.execute(\"SELECT station_id, name, num_bikes_available FROM AllStationData LIMIT 5\")\n",
        "\n",
        "    station_data = [{\"station_id\": i[0], \"name\": i[1], \"num_bikes_available\": i[2]} for i in station_data]\n",
        "\n",
        "    return render_template('citibike.html', station_data=station_data)\n",
        "\n",
        "@app.route(\"/station_status\")\n",
        "def station_status():\n",
        "\n",
        "    user_station_id = request.args.get('station_id')\n",
        "\n",
        "    con = sqlite3.connect('/content/citibikeData2022_class9.db') # connect to our db\n",
        "    cursor = con.cursor()\n",
        "\n",
        "    # retrieve records of all tables and construct dictionaries for convenient usage at HTML tamplates\n",
        "\n",
        "    station_data = cursor.execute(\"SELECT station_id, name, num_bikes_available FROM AllStationData WHERE station_id = ? LIMIT 5\", [user_station_id,])\n",
        "\n",
        "    station_data = [{\"station_id\": i[0], \"name\": i[1], \"num_bikes_available\": i[2]} for i in station_data]\n",
        "\n",
        "    return render_template('citibike.html', station_data=station_data,user_station_id=user_station_id)\n",
        "    \n",
        "app.run()"
      ],
      "metadata": {
        "id": "2ZSJdmw_knr-"
      },
      "execution_count": null,
      "outputs": []
    },
    {
      "cell_type": "markdown",
      "metadata": {
        "id": "zftLJwh1aQmT"
      },
      "source": [
        "## `search_stations.html`\n",
        "\n",
        "``` html\n",
        "<!DOCTYPE html>\n",
        "<html>\n",
        "<head>\n",
        "    <title>Search Citibike Stations</title>\n",
        "</head>\n",
        "<body>\n",
        "      <form action=\"/search\">\n",
        "      Minimum Number Bikes Available:<br>\n",
        "      <input type=\"text\" name=\"minimum available bikes\"><br>\n",
        "    </form>\n",
        "</body>\n",
        "```"
      ]
    },
    {
      "cell_type": "markdown",
      "metadata": {
        "id": "Pgbv9gMtaQmU"
      },
      "source": [
        "---"
      ]
    },
    {
      "cell_type": "markdown",
      "source": [
        "# ⭕ **QUESTIONS?**"
      ],
      "metadata": {
        "id": "hcz2JyjMaQmU"
      }
    },
    {
      "cell_type": "markdown",
      "source": [
        "---"
      ],
      "metadata": {
        "id": "wQvQi6FMZUEb"
      }
    },
    {
      "cell_type": "markdown",
      "source": [
        "---"
      ],
      "metadata": {
        "id": "KleKhRQxi-ON"
      }
    },
    {
      "cell_type": "markdown",
      "source": [
        "# The following is a copy of the above notebook for those students running Flask locally."
      ],
      "metadata": {
        "id": "wFttVGcmZUJf"
      }
    },
    {
      "cell_type": "markdown",
      "metadata": {
        "id": "RjUj5PwjM7zv"
      },
      "source": [
        "1. Navigate to desired directory\n",
        "2. `mkdir library_app`\n",
        "3. `cd library_app`\n",
        "4. `touch library.py`"
      ]
    },
    {
      "cell_type": "markdown",
      "source": [
        "Note: You may need to try the following: \n",
        "\n",
        "```python\n",
        "sudo pip install flask \n",
        "sudo pip install requests\n",
        "\n",
        "```"
      ],
      "metadata": {
        "id": "7qzrpcDO2NMd"
      }
    },
    {
      "cell_type": "markdown",
      "source": [
        "And, if you are getting a \"port already in use\" error, try the following: \n",
        "\n",
        "```python\n",
        "sudo lsof -i:5000\n",
        "```\n",
        "\n",
        "Then, use: \n",
        "```python \n",
        "kill -9 {PID} \n",
        "```"
      ],
      "metadata": {
        "id": "gVgoOgm02U7G"
      }
    },
    {
      "cell_type": "markdown",
      "metadata": {
        "id": "PwR6RKFhM7zw"
      },
      "source": [
        "## `library.py`\n",
        "\n",
        "```python \n",
        "from flask import Flask\n",
        "\n",
        "app = Flask(__name__)\n",
        "\n",
        "# begin our Horror API\n",
        "\n",
        "@app.route('/horror')\n",
        "def horror():\n",
        "\n",
        "    import requests\n",
        "\n",
        "    url = 'http://openlibrary.org/subjects/horror.json'\n",
        "\n",
        "    parameters = {\n",
        "        'published_in'   : 2000-2010\n",
        "    }\n",
        "\n",
        "    resp = requests.get(url, params=parameters)\n",
        "\n",
        "    data = resp.json()\n",
        "\n",
        "    titles = set()\n",
        "\n",
        "    for i in range(0, len(data)):\n",
        "        title = data['works'][i]['title']\n",
        "        titles.add(title)\n",
        "\n",
        "    return 'Titles: {}'.format(sorted(titles))\n",
        "```"
      ]
    },
    {
      "cell_type": "markdown",
      "metadata": {
        "id": "VpIGXQcEM7zw"
      },
      "source": [
        "5. `export FLASK_APP=library.py`\n",
        "6. `flask run`\n",
        "\n",
        "`http://127.0.0.1:5000/horror`"
      ]
    },
    {
      "cell_type": "markdown",
      "metadata": {
        "id": "XutpnRR2M7zy"
      },
      "source": [
        "---"
      ]
    },
    {
      "cell_type": "markdown",
      "metadata": {
        "id": "RuwfkosVM7zy"
      },
      "source": [
        "So far so good. Let's get a bit fancier, though, and add a personalized welcome message to each user that visits the site. In library.py, let's add the following: \n",
        "\n",
        "## `library.py`\n",
        "\n",
        "```python \n",
        "\n",
        "from datetime import * \n",
        "\n",
        "... # keep your /horror route here, but add the '/' below\n",
        "\n",
        "@app.route(\"/\")\n",
        "def hello_visitor():\n",
        "    datetime.now().strftime('%Y-%m-%d %H:%M:%S') # get the current time from datetime\n",
        "    date = datetime.now().strftime('%Y-%m-%d') # get today's date from the current time \n",
        "    time = datetime.now().strftime('%H:%M:%S') # get the current time from the current time \n",
        "    message = \"The date is {d} and the time is {t}\" # create the message telling us the current date and time \n",
        "    return message.format(d=date, t=time) # return our message \n",
        "\n",
        "... # keep the 'app.run' info as well\n",
        "\n",
        "```"
      ]
    },
    {
      "cell_type": "markdown",
      "metadata": {
        "id": "lde90xpFM7zz"
      },
      "source": [
        "Re-export and run, then check `http://127.0.0.1:5000/horror` and we'll see our message. "
      ]
    },
    {
      "cell_type": "markdown",
      "metadata": {
        "id": "HD1wB2pcpOfr"
      },
      "source": [
        "---"
      ]
    },
    {
      "cell_type": "markdown",
      "source": [
        "# ⭕ **QUESTIONS?**"
      ],
      "metadata": {
        "id": "RHxWTsH7pOfy"
      }
    },
    {
      "cell_type": "markdown",
      "metadata": {
        "id": "w2HOUz7qpOfy"
      },
      "source": [
        "---"
      ]
    },
    {
      "cell_type": "markdown",
      "metadata": {
        "id": "N3Msnu_BM7z0"
      },
      "source": [
        "## HTML\n",
        "\n",
        "In order to prettify (add HTML) to our date and time message, we create a new HTML file in our directory. "
      ]
    },
    {
      "cell_type": "markdown",
      "metadata": {
        "id": "QPtG6-IvM7z1"
      },
      "source": [
        "1. Navigate to our library_app directory\n",
        "2. `mkdir templates`\n",
        "3. `cd templates`\n",
        "4. `touch index.html`"
      ]
    },
    {
      "cell_type": "markdown",
      "metadata": {
        "id": "yLiN4XvwM7z1"
      },
      "source": [
        "## `index.html`\n",
        "\n",
        "```html \n",
        "\n",
        "<!DOCTYPE html>\n",
        "<html>\n",
        "<head>\n",
        "    <title>Welcome Message</title>\n",
        "</head>\n",
        "<body>\n",
        "    <div style=\"color: purple\">\n",
        "    <h1>Hello World! Here's some fun info! {{ message }}</h1>\n",
        "        <strong>Below an image is displayed</strong>\n",
        "        <img width=\"300\" src=\"https://upload.wikimedia.org/wikipedia/en/thumb/5/58/NYU_logo.svg/1280px-NYU_logo.svg.png\"/>\n",
        "    </div>\n",
        "</body>\n",
        "</html> \n",
        "\n",
        "```\n",
        "\n",
        "## `library.py`\n",
        "\n",
        "```python \n",
        "\n",
        "from flask import render_template\n",
        "\n",
        "# ...\n",
        "\n",
        "@app.route(\"/\")\n",
        "def hello_visitor():\n",
        "    datetime.now().strftime('%Y-%m-%d %H:%M:%S') # get the current time from datetime\n",
        "    date = datetime.now().strftime('%Y-%m-%d') # get today's date from the current time\n",
        "    time = datetime.now().strftime('%H:%M:%S') # get the current time from the current time\n",
        "    message = \"The date is {} and the time is {}\".format(date, time) # create the message\n",
        "    return render_template(\"index.html\",message=message) # return our message\n",
        "\n",
        "```"
      ]
    },
    {
      "cell_type": "markdown",
      "source": [
        "Re-export and run, then check `http://127.0.0.1:5000/horror` and we'll see our message. "
      ],
      "metadata": {
        "id": "0hQ_VuVB-93F"
      }
    },
    {
      "cell_type": "markdown",
      "metadata": {
        "id": "Xuq-1948_LxF"
      },
      "source": [
        "---"
      ]
    },
    {
      "cell_type": "markdown",
      "source": [
        "# ⭕ **QUESTIONS?**"
      ],
      "metadata": {
        "id": "jyAGa7p6_LxG"
      }
    },
    {
      "cell_type": "markdown",
      "metadata": {
        "id": "w16HKRub_LxO"
      },
      "source": [
        "---"
      ]
    },
    {
      "cell_type": "markdown",
      "metadata": {
        "id": "1NKFuCbiM7z2"
      },
      "source": [
        "# Exercise 1\n",
        "\n",
        "Looking back to last week, adjust your library Flask app so that rather than being greated by the date, time, and visitor count, a visitor is told their location, the weather, and temperature. "
      ]
    },
    {
      "cell_type": "code",
      "metadata": {
        "id": "3C3n4eBcM7z3"
      },
      "source": [
        "# your code here"
      ],
      "execution_count": null,
      "outputs": []
    },
    {
      "cell_type": "markdown",
      "metadata": {
        "id": "QwS_lrHIM7z6"
      },
      "source": [
        "# Solution"
      ]
    },
    {
      "cell_type": "markdown",
      "metadata": {
        "id": "h1_lySF_M7z7"
      },
      "source": [
        "## `library.py`\n",
        "\n",
        "```python \n",
        "\n",
        "@app.route(\"/\")\n",
        "def hello_visitor(): \n",
        "    \n",
        "    import requests\n",
        "    \n",
        "    geoip_url = 'http://api.ipstack.com/check?access_key=dd4cbbbe9d6b9f2709e5f0533644e547'\n",
        "    resp = requests.get(geoip_url)\n",
        "    data = resp.json()\n",
        "    lon = data[\"longitude\"]\n",
        "    lat = data[\"latitude\"]\n",
        "\n",
        "    openweathermap_url = \"http://api.openweathermap.org/data/2.5/weather\"\n",
        "    parameters = {\n",
        "        'lat'   : str(lat),\n",
        "        'lon'   : str(lon),\n",
        "        'units' : 'imperial',\n",
        "        'mode'  : 'json',\n",
        "        'appid' : 'ffb7b9808e07c9135bdcc7d1e867253d'\n",
        "    }\n",
        "\n",
        "    resp = requests.get(openweathermap_url, params=parameters)\n",
        "    data = resp.json()\n",
        "\n",
        "    location = data['name']\n",
        "    weather = data['weather'][0]['description']\n",
        "    temperature = data['main']['temp']\n",
        "\n",
        "    message = \"Your Location: {}, Your Weather: {}, Your Temp: {}\".format(location, weather, temperature)\n",
        "    \n",
        "    return render_template(\"index.html\", message=message)\n",
        "\n",
        "```"
      ]
    },
    {
      "cell_type": "markdown",
      "metadata": {
        "id": "zE-T4A9exMJ-"
      },
      "source": [
        "---"
      ]
    },
    {
      "cell_type": "markdown",
      "source": [
        "# ⭕ **QUESTIONS?**"
      ],
      "metadata": {
        "id": "ZJrY-6-BxMKG"
      }
    },
    {
      "cell_type": "markdown",
      "metadata": {
        "id": "8rQb1RN7xMKG"
      },
      "source": [
        "---"
      ]
    },
    {
      "cell_type": "markdown",
      "metadata": {
        "id": "RVAQojCqM7z8"
      },
      "source": [
        "## Jinja Iterators\n",
        "\n",
        "We can also leverage what is known as a \"Jinja iterator\" – basically allowing us to render if / else statements in our template. For example, let's alter index.html file:\n",
        "\n",
        "## `index.html`\n",
        "\n",
        "``` html\n",
        "\n",
        "<!DOCTYPE html>\n",
        "<html>\n",
        "    \n",
        "```\n",
        "\n",
        "`{% if temperature <= 32 %}`\n",
        "\n",
        "``` html\n",
        "\n",
        "<div style = \"color: blue\">\n",
        "<body>\n",
        "  <h1>Hello! {{ message }}. It is below freezing outside, bring a jacket!</h1>\n",
        "</body>\n",
        "</div>\n",
        "\n",
        "```\n",
        "\n",
        "`{% endif %}`\n",
        "\n",
        "`{% if temperature > 32 %}`\n",
        "\n",
        "``` html\n",
        "\n",
        "<div style = \"color: red\">\n",
        "<body>\n",
        "  <h1>Hello! {{ message }}. It is warm outside, awesome!</h1>\n",
        "</body>\n",
        "</div>\n",
        "\n",
        "```\n",
        "\n",
        "`{% endif %}`\n",
        "\n",
        "```  \n",
        "</html> \n",
        "\n",
        "```\n",
        "\n",
        "## `library.py`\n",
        "\n",
        "```python \n",
        "\n",
        "    # ... \n",
        "    \n",
        "    location = data['name']\n",
        "    weather = data['weather'][0]['description']\n",
        "    temperature = data['main']['temp']\n",
        "\n",
        "    message = \"Your Location: {}, Your Weather: {}, Your Temp: {}\".format(location, weather, temperature)\n",
        "    \n",
        "    return render_template(\"index.html\", message=message, location=location, weather=weather, temperature=temperature)\n",
        "\n",
        "```"
      ]
    },
    {
      "cell_type": "markdown",
      "metadata": {
        "id": "4BRqM3sUxNVM"
      },
      "source": [
        "---"
      ]
    },
    {
      "cell_type": "markdown",
      "source": [
        "# ⭕ **QUESTIONS?**"
      ],
      "metadata": {
        "id": "rCTx1F-qxNVN"
      }
    },
    {
      "cell_type": "markdown",
      "metadata": {
        "id": "X07FM_NSxNVN"
      },
      "source": [
        "---"
      ]
    },
    {
      "cell_type": "markdown",
      "metadata": {
        "id": "aohvl6iaM7z9"
      },
      "source": [
        "# Exercise 2\n",
        "\n",
        "Create a new file called horror.html that returns a blue list if there are fewer than 5 books returned and a red list if there are more than 5 books returned. Don't forget to adjust your /horror app route to call this new html file, too. "
      ]
    },
    {
      "cell_type": "code",
      "metadata": {
        "id": "lqWf1lgyM7z9"
      },
      "source": [
        "# your code here"
      ],
      "execution_count": null,
      "outputs": []
    },
    {
      "cell_type": "markdown",
      "metadata": {
        "id": "qz-gp_07M70A"
      },
      "source": [
        "# Solution"
      ]
    },
    {
      "cell_type": "markdown",
      "metadata": {
        "id": "bBgSmpqzM70A"
      },
      "source": [
        "## `horror.html`\n",
        "\n",
        "``` html\n",
        "\n",
        "<!DOCTYPE html>\n",
        "<html>\n",
        "    \n",
        "```\n",
        "\n",
        "`{% if set_length < 5 %}`\n",
        "\n",
        "``` html\n",
        "\n",
        "<div style = \"color: blue\">\n",
        "<body>\n",
        "  <h1>{{ titles }}</h1>\n",
        "</body>\n",
        "</div>\n",
        "\n",
        "```\n",
        "\n",
        "`{% endif %}`\n",
        "\n",
        "`{% if set_length > 5 %}`\n",
        "\n",
        "``` html\n",
        "\n",
        "<div style = \"color: red\">\n",
        "<body>\n",
        "  <h1>{{ titles }}</h1>\n",
        "</body>\n",
        "</div>\n",
        "\n",
        "```\n",
        "\n",
        "`{% endif %}`\n",
        "\n",
        "```  \n",
        "</html> \n",
        "\n",
        "```\n",
        "\n",
        "## `library.py`\n",
        "\n",
        "```python \n",
        "\n",
        "@app.route('/horror')\n",
        "def horror():\n",
        "\n",
        "    import requests\n",
        "\n",
        "    url = 'http://openlibrary.org/subjects/horror.json'\n",
        "\n",
        "    parameters = {\n",
        "        'published_in'   : 2000-2010\n",
        "    }\n",
        "\n",
        "    resp = requests.get(url, params=parameters)\n",
        "\n",
        "    data = resp.json()\n",
        "\n",
        "    titles = set()\n",
        "\n",
        "    for i in range(0, len(data)):\n",
        "        title = data['works'][i]['title']\n",
        "        titles.add(title)\n",
        "\n",
        "    set_length = len(titles)\n",
        "\n",
        "    return render_template('horror.html', titles=titles, set_length=set_length)\n",
        "\n",
        "```"
      ]
    },
    {
      "cell_type": "markdown",
      "metadata": {
        "id": "Me24CmlTxOwO"
      },
      "source": [
        "---"
      ]
    },
    {
      "cell_type": "markdown",
      "source": [
        "# ⭕ **QUESTIONS?**"
      ],
      "metadata": {
        "id": "TzpGonEmxOwO"
      }
    },
    {
      "cell_type": "markdown",
      "metadata": {
        "id": "OFYYDn33xOwO"
      },
      "source": [
        "---"
      ]
    },
    {
      "cell_type": "markdown",
      "metadata": {
        "id": "eVhgX8RjM70C"
      },
      "source": [
        "What happens if we want to call upon a SQL database, such as our Citibike database from Week 1, and display it in a Flask application?"
      ]
    },
    {
      "cell_type": "markdown",
      "metadata": {
        "id": "7UURMO4BM70D"
      },
      "source": [
        "## `library.py`\n",
        "\n",
        "``` python\n",
        "@app.route(\"/citibike\")\n",
        "def citibike():\n",
        "\n",
        "    import sqlite3\n",
        "\n",
        "    con = sqlite3.connect('/Users/asiegman/Desktop/library_app/citibikeData2022_class9.db') # connect to our db\n",
        "    cursor = con.cursor()\n",
        "\n",
        "    # retrieve records of all tables and construct dictionaries for convenient usage at HTML tamplates\n",
        "\n",
        "    station_data = cursor.execute(\"SELECT station_id, name, num_bikes_available FROM AllStationData LIMIT 5\")\n",
        "\n",
        "    station_data = [{\"station_id\": i[0], \"name\": i[1], \"num_bikes_available\": i[2]} for i in station_data]\n",
        "\n",
        "    return render_template('citibike.html', station_data=station_data)\n",
        "```"
      ]
    },
    {
      "cell_type": "markdown",
      "metadata": {
        "id": "cypzJKD_M70D"
      },
      "source": [
        "## `citibike.html` \n",
        "^ This sould be a new document in our `templates` folder\n",
        "\n",
        "``` html\n",
        "<!DOCTYPE html>\n",
        "<html>\n",
        "<body>\n",
        "  <table>\n",
        "    <thead>\n",
        "      <tr>\n",
        "        <th>Station ID</th>\n",
        "        <th>Station Name</th>\n",
        "        <th>Available Bikes</th>\n",
        "      </tr>\n",
        "    </thead>\n",
        "    <tbody>\n",
        "      {% for i in station_data %}\n",
        "\t<tr>\n",
        "        <td>{{ i.station_id }}</td>\n",
        "        <td>{{ i.name }}</td>\n",
        "        <td>{{ i.num_bikes_available }}</td>\n",
        "\t</tr>\n",
        "      {% endfor %}\n",
        "    </tbody> \n",
        "  </table>\n",
        "</body>\n",
        "</html>\n",
        "```"
      ]
    },
    {
      "cell_type": "markdown",
      "metadata": {
        "id": "G6ymjtSkxP_s"
      },
      "source": [
        "---"
      ]
    },
    {
      "cell_type": "markdown",
      "source": [
        "# ⭕ **QUESTIONS?**"
      ],
      "metadata": {
        "id": "Ys1pb9NsxP_s"
      }
    },
    {
      "cell_type": "markdown",
      "metadata": {
        "id": "ZYBI3iWnxP_s"
      },
      "source": [
        "---"
      ]
    },
    {
      "cell_type": "markdown",
      "metadata": {
        "id": "1yJdCVbNM70E"
      },
      "source": [
        "## Getting Parameters and Passing to SQL\n",
        "\n",
        "Now let's see how we can query for the status of a Citibike station over time.\n",
        "\n",
        "Here, we want to create a new function, where we will pass the `station_id` as a **parameter**. Then our code will read the value of the parameter `station_id` and then will query the database to get the status of that station."
      ]
    },
    {
      "cell_type": "markdown",
      "metadata": {
        "id": "gzbL9W_7M70F"
      },
      "source": [
        "## `library.py`\n",
        "\n",
        "``` python\n",
        "@app.route(\"/station_status\")\n",
        "def station_status():\n",
        "\n",
        "    import sqlite3\n",
        "\n",
        "    user_station_id = request.args.get('station_id')\n",
        "\n",
        "    con = sqlite3.connect('/Users/asiegman/Desktop/library_app/citibikeData2022_class9.db') # connect to our db\n",
        "    cursor = con.cursor()\n",
        "\n",
        "    # retrieve records of all tables and construct dictionaries for convenient usage at HTML tamplates\n",
        "\n",
        "    station_data = cursor.execute(\"SELECT station_id, name, num_bikes_available FROM AllStationData WHERE station_id = ? LIMIT 5\", [user_station_id,])\n",
        "\n",
        "    station_data = [{\"station_id\": i[0], \"name\": i[1], \"num_bikes_available\": i[2]} for i in station_data]\n",
        "\n",
        "    return render_template('citibike.html', station_data=station_data,user_station_id=user_station_id)\n",
        "```"
      ]
    },
    {
      "cell_type": "markdown",
      "metadata": {
        "id": "TAwosxr2M70G"
      },
      "source": [
        "Now we can pass a parameter through our URL, such as Now we can pass a parameter through our URL, such as http://0.0.0.0:5000/station_status?station_id=281\n"
      ]
    },
    {
      "cell_type": "markdown",
      "metadata": {
        "id": "lyV8gWBVxRBk"
      },
      "source": [
        "---"
      ]
    },
    {
      "cell_type": "markdown",
      "source": [
        "# ⭕ **QUESTIONS?**"
      ],
      "metadata": {
        "id": "ydLaFRUvxRBk"
      }
    },
    {
      "cell_type": "markdown",
      "metadata": {
        "id": "BeltbhSBxRBl"
      },
      "source": [
        "---"
      ]
    },
    {
      "cell_type": "markdown",
      "metadata": {
        "id": "KWA7nFHFM70H"
      },
      "source": [
        "## Bootstrap\n",
        "\n",
        "Our HTML pages aren't exactly visually pleasing. Lucky for us, [Twitter's Bootstrap](http://getbootstrap.com/) is an excellent set of carefully crafted user interface elements, layouts and JavaScript tools, easily available to use in your web design project. \n",
        "\n",
        "All you need is to create a link to the [Bootstrap resources](http://getbootstrap.com/getting-started/#download-cdn) in the HTML head and use the predefined CSS styles."
      ]
    },
    {
      "cell_type": "markdown",
      "metadata": {
        "id": "ax5U6tuKM70H"
      },
      "source": [
        "### `templates/citibike.html` \n",
        "\n",
        "```html\n",
        "<!DOCTYPE html>\n",
        "<html>\n",
        "<head>\n",
        "    <link rel=\"stylesheet\" href=\"https://stackpath.bootstrapcdn.com/bootstrap/4.1.3/css/bootstrap.min.css\" integrity=\"sha384-MCw98/SFnGE8fJT3GXwEOngsV7Zt27NXFoaoApmYm81iuXoPkFOJwJ8ERdknLPMO\" crossorigin=\"anonymous\">\n",
        "</head>\n",
        "<body>\n",
        "    <div class=\"container\">\n",
        "        <div class=\"panel panel-info\">\n",
        "            <div class=\"panel-heading\">\n",
        "                <h1 class=\"panel-title\">Citibike Stations</h1>\n",
        "            </div>\n",
        "            <table  class=\"table table-striped table-bordered table-hover\">\n",
        "    <thead>\n",
        "      <tr>\n",
        "        <th>Station ID</th>\n",
        "        <th>Station Name</th>\n",
        "        <th>Available Bikes</th\n",
        "      </tr>\n",
        "    </thead>\n",
        "    <tbody>\n",
        "      {% for i in station_data %}\n",
        "\t<tr>\n",
        "        <td>{{ i.station_id }}</td>\n",
        "        <td>{{ i.name }}</td>\n",
        "        <td>{{ i.num_bikes_available }}</td>\n",
        "\t</tr>\n",
        "      {% endfor %}\n",
        "    </tbody>\n",
        "    </table>\n",
        "  </div>\n",
        "</div>\n",
        "</body>\n",
        "</html>\n",
        "```"
      ]
    },
    {
      "cell_type": "markdown",
      "metadata": {
        "id": "sHKOZyXgxSU8"
      },
      "source": [
        "---"
      ]
    },
    {
      "cell_type": "markdown",
      "source": [
        "# ⭕ **QUESTIONS?**"
      ],
      "metadata": {
        "id": "9rHMgpz1xSU8"
      }
    },
    {
      "cell_type": "markdown",
      "metadata": {
        "id": "xn8wuhhFxSU8"
      },
      "source": [
        "---"
      ]
    },
    {
      "cell_type": "markdown",
      "metadata": {
        "id": "VYKfQCaCM70V"
      },
      "source": [
        "## Forms"
      ]
    },
    {
      "cell_type": "markdown",
      "metadata": {
        "id": "U9vAlsCPM70V"
      },
      "source": [
        "HTML forms allow us to get user entries and then use the submitted values as parameters in our code. (Check out [W3 Schools](https://www.w3schools.com/html/html_forms.asp) for more details.)\n",
        "\n",
        "Imagine we want to search the Citibike stations by their name, and get back a list of the stations that contain that search string. A simple HTML form that can do that is listed below. \n",
        "\n",
        "Save the file  `search_stations.html` in your `templates` folder, and add a new route in library.py so that you can get back this page, when you visit the main page of your website."
      ]
    },
    {
      "cell_type": "markdown",
      "metadata": {
        "id": "hFBnt5l1M70W"
      },
      "source": [
        "## `search_stations.html`\n",
        "\n",
        "```html\n",
        "<!DOCTYPE html>\n",
        "<html>\n",
        "<head>\n",
        "    <title>Search Citibike Stations</title>\n",
        "</head>\n",
        "<body>\n",
        "      <form action=\"/search\">\n",
        "      Station Name:<br>\n",
        "      <input type=\"text\" name=\"name\"><br>\n",
        "    </form>\n",
        "</body>\n",
        "```\n",
        "\n",
        "## `library.py`\n",
        "\n",
        "```python\n",
        "@app.route('/')\n",
        "def home():\n",
        "    return render_template('search_stations.html')\n",
        "```"
      ]
    },
    {
      "cell_type": "markdown",
      "metadata": {
        "id": "0BcAg4zBM70W"
      },
      "source": [
        "A key part of the form is the `action` script – it defines what URL we should go to when we submit the form. In our case, it will go to the `http://<your IP>:5000/search` with the parameter `name` having the value of the text that the user entered.\n",
        "\n",
        "For example, if we enter `Bleecker` on the form, the form will direct us to the URL `http://<your IP>:5000/search?name=Bleecker`.\n",
        "\n",
        "Now, we need to specify the corresponding route in our webserver (i.e., the `/search` route) and define what it will do. Add the below code to `library.py` to implement that route. "
      ]
    },
    {
      "cell_type": "markdown",
      "metadata": {
        "id": "H37sqnjFM70X"
      },
      "source": [
        "## `library.py`\n",
        "\n",
        "```python\n",
        "@app.route('/search')\n",
        "def search():\n",
        "\n",
        "    import sqlite3\n",
        "\n",
        "    user_station_name = request.args.get('name')\n",
        "\n",
        "    con = sqlite3.connect('/Users/asiegman/Desktop/library_app/citibikeData2022_class9.db') # connect to our db\n",
        "    cursor = con.cursor()\n",
        "\n",
        "    station_data = cursor.execute(\"SELECT station_id, name, num_bikes_available FROM AllStationData WHERE name = ? LIMIT 5\", [user_station_name])\n",
        "\n",
        "    station_data = [{\"station_id\": i[0], \"name\": i[1], \"num_bikes_available\": i[2]} for i in station_data]\n",
        "\n",
        "    return render_template('citibike.html', station_data=station_data, user_station_name=user_station_name)\n",
        "```"
      ]
    },
    {
      "cell_type": "markdown",
      "metadata": {
        "id": "XFpWV1wgxToE"
      },
      "source": [
        "---"
      ]
    },
    {
      "cell_type": "markdown",
      "source": [
        "# ⭕ **QUESTIONS?**"
      ],
      "metadata": {
        "id": "mfzOneeTxToF"
      }
    },
    {
      "cell_type": "markdown",
      "metadata": {
        "id": "urb1YkjvxToF"
      },
      "source": [
        "---"
      ]
    },
    {
      "cell_type": "markdown",
      "metadata": {
        "id": "8Xg9RuqkM70Y"
      },
      "source": [
        "# Exercise 3\n",
        "\n",
        "Adjust the /search app route so that a user can search for stations based on the minimum number of available bikes at a given station. "
      ]
    },
    {
      "cell_type": "code",
      "metadata": {
        "id": "TrgV7Kd5M70Y"
      },
      "source": [
        "# your code here"
      ],
      "execution_count": null,
      "outputs": []
    },
    {
      "cell_type": "markdown",
      "metadata": {
        "id": "hETfEU0YM70b"
      },
      "source": [
        "# Solution"
      ]
    },
    {
      "cell_type": "markdown",
      "metadata": {
        "id": "6Bk8r1PJM70c"
      },
      "source": [
        "## `library.py`\n",
        "\n",
        "```python\n",
        "@app.route('/search')\n",
        "def search():\n",
        "\n",
        "    import sqlite3\n",
        "\n",
        "    user_bikes_available= request.args.get('minimum available bikes')\n",
        "\n",
        "    con = sqlite3.connect('/Users/asiegman/Desktop/library_app/citibikeData2022_class9.db') # connect to our db\n",
        "    cursor = con.cursor()\n",
        "\n",
        "    station_data = cursor.execute(\"SELECT station_id, name, num_bikes_available FROM AllStationData WHERE num_bikes_available >= ? LIMIT 5\", [user_bikes_available])\n",
        "\n",
        "    station_data = [{\"station_id\": i[0], \"name\": i[1], \"num_bikes_available\": i[2]} for i in station_data]\n",
        "\n",
        "    return render_template('citibike.html', station_data=station_data, user_bikes_available=user_bikes_available)\n",
        "```\n",
        "\n",
        "## `search_stations.html`\n",
        "\n",
        "``` html\n",
        "<!DOCTYPE html>\n",
        "<html>\n",
        "<head>\n",
        "    <title>Search Citibike Stations</title>\n",
        "</head>\n",
        "<body>\n",
        "      <form action=\"/search\">\n",
        "      Minimum Number Bikes Available:<br>\n",
        "      <input type=\"text\" name=\"minimum available bikes\"><br>\n",
        "    </form>\n",
        "</body>\n",
        "```"
      ]
    },
    {
      "cell_type": "markdown",
      "metadata": {
        "id": "W2ZVJ0NvxUo8"
      },
      "source": [
        "---"
      ]
    },
    {
      "cell_type": "markdown",
      "source": [
        "# ⭕ **QUESTIONS?**"
      ],
      "metadata": {
        "id": "3ZQtKe6TxUo8"
      }
    },
    {
      "cell_type": "markdown",
      "metadata": {
        "id": "kyKq4SWOxUo8"
      },
      "source": [
        "---"
      ]
    }
  ]
}