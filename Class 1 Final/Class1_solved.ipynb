{
  "nbformat": 4,
  "nbformat_minor": 0,
  "metadata": {
    "colab": {
      "name": "Class1_solved.ipynb",
      "provenance": [],
      "collapsed_sections": []
    },
    "kernelspec": {
      "display_name": "Python 3",
      "language": "python",
      "name": "python3"
    },
    "language_info": {
      "codemirror_mode": {
        "name": "ipython",
        "version": 3
      },
      "file_extension": ".py",
      "mimetype": "text/x-python",
      "name": "python",
      "nbconvert_exporter": "python",
      "pygments_lexer": "ipython3",
      "version": "3.7.3"
    }
  },
  "cells": [
    {
      "cell_type": "markdown",
      "metadata": {
        "id": "myNE5dciGRZI"
      },
      "source": [
        "# Welcome to Projects in Programming & Data Science! "
      ]
    },
    {
      "cell_type": "markdown",
      "metadata": {
        "id": "LK3g72vIGRZL"
      },
      "source": [
        "# Setup\n",
        "\n",
        "## Brightspace\n",
        "\n",
        "Make sure you are able to access our course page on __Brightspace__. This is where I will be posting all of our course content (notebooks, datasets, homeworks, et. cetera). \n",
        "\n",
        "__This is also where all of your assignments will be posted, turned in, graded, and returned.__\n",
        "\n",
        "## Using Colab\n",
        "\n",
        "In order to standardize the way we all code, we are going to use [Google's Colab](https://colab.research.google.com/notebooks/welcome.ipynb).\n",
        "\n",
        "Think of using Colab as renting a computer via your web browser (I recommend Chrome) that you can use.\n",
        "\n",
        "For instance, if I want to open today's class notebook in Colab, I: \n",
        "\n",
        "<br>\n",
        "\n",
        "1. *Will go to https://colab.sandbox.google.com*\n",
        "\n",
        "2. *Will click \"Upload\" then \"Choose File\"* \n",
        "\n",
        "3. *Note that a Jupyter Notebook will always have a .ipynb extension. In Colab I can simply upload the notebook (that I have downloaded from Brightspace) to Colab.*\n",
        "\n",
        "4. *Once I click \"Open\" Colab should open the notebook, and voila!*"
      ]
    },
    {
      "cell_type": "markdown",
      "source": [
        "# Using Colab\n",
        "\n",
        "## Cell Types\n",
        "\n",
        "There are two types of cells that you can use: \"Text\" and \"Code. \n",
        "\n",
        "*   _Text:_ Allows you to use [markdown](https://www.markdownguide.org/cheat-sheet/).\n",
        "*   _Code:_ Allows you to type code.\n",
        "\n",
        "\n",
        "For example, below is the same code in a text cell and then again in a code cell: "
      ],
      "metadata": {
        "id": "nsw7095TTeP7"
      }
    },
    {
      "cell_type": "code",
      "source": [
        "# Below is some code. Note that this is in a code cell, so in order to write text (we call this \"commenting\" I need to use the pound sign to \"comment out\" the text)\n",
        "\n",
        "print(\"Hello, World!\")"
      ],
      "metadata": {
        "id": "DHLHLysbU9zJ"
      },
      "execution_count": null,
      "outputs": []
    },
    {
      "cell_type": "code",
      "source": [
        "If I try to write text in a code cell without commenting it out, I will get an error..."
      ],
      "metadata": {
        "id": "HiQ4OuZVVYrQ"
      },
      "execution_count": null,
      "outputs": []
    },
    {
      "cell_type": "markdown",
      "source": [
        "## Saving\n",
        "\n",
        "Colab will automatically save changes. Under the \"File\" tab at the top-left of the window, you also have the option to save a copy to Google Drive or GitHub, and to download directly to your machine. \n",
        "\n",
        "## Collaborating\n",
        "\n",
        "You can easily share a notebook by clicking on \"Share\" at the top-right of the window and adding the email of your collaborator. \n",
        "\n",
        "## Commenting\n",
        "\n",
        "If you want to leave comments or action items for collaborators, you can use the \"Comment\" option at the top-right of the window, just as you would in Google Docs or Word. \n",
        "\n",
        "## \"Running\" A Cell\n",
        "\n",
        "In order to run (or, 'execute') a cell, you can hold down the shift key and hit \"return\" or \"enter\". You can also view additional options under the \"Runtime\" tab at the top-left of the window."
      ],
      "metadata": {
        "id": "elVkk2GUUeFt"
      }
    },
    {
      "cell_type": "markdown",
      "metadata": {
        "id": "Uy06siIeGRZM"
      },
      "source": [
        "---"
      ]
    },
    {
      "cell_type": "markdown",
      "source": [
        "# ⭕ **QUESTIONS?**"
      ],
      "metadata": {
        "id": "4GZojYnLW3O4"
      }
    },
    {
      "cell_type": "markdown",
      "metadata": {
        "id": "Bv9DsLKxUy5i"
      },
      "source": [
        "---"
      ]
    },
    {
      "cell_type": "markdown",
      "metadata": {
        "id": "bo3RXty7GRZN"
      },
      "source": [
        "# Jumping In\n",
        "\n",
        "Today we're going to jump right in to the mix and leverage the CitiBike API to populate a sqlite database at regular intervals. Consider this your warm-up for the semester! "
      ]
    },
    {
      "cell_type": "code",
      "metadata": {
        "id": "E0f86amjGRZP"
      },
      "source": [
        "import sqlite3 # this is how we will import the sqlite3 functionality needed to proceed"
      ],
      "execution_count": null,
      "outputs": []
    },
    {
      "cell_type": "markdown",
      "metadata": {
        "id": "Aa3Tfe4CGRZU"
      },
      "source": [
        "[SQLite](https://www.sqlite.org/index.html) is a library that allows us to create, populate, and call upon a SQL Database. It's also serverless, meaning we don't need to access a separate server where we're storing our data – instead, we can directly access our databse. We can even store that database as a file in our Colab environment and call upon it. "
      ]
    },
    {
      "cell_type": "code",
      "metadata": {
        "id": "a3zYnkWGGRZU"
      },
      "source": [
        "con = sqlite3.connect('citibikeData2022+class1.db') # this is how we are going to create our database, \n",
        "                                         # calling it 'citibikeData2022+class1.db'\n",
        "\n",
        "                                         # note that if the db doesn't exist, this will create it; Otherwise, it will connect\n",
        "\n",
        "# \"con\" stands for \"connection\" – this is telling SQLite what database to use\n"
      ],
      "execution_count": null,
      "outputs": []
    },
    {
      "cell_type": "markdown",
      "source": [
        "It's important to note that the databse we just created was created _inside this Colab environment_ which will be reset when we log off. \n",
        "\n",
        "Thus, when you're done with your databse, I recommend downloading it directly to your machine. \n",
        "\n",
        "You can see the databse by clicking on the file icon on the far-left side of the window. "
      ],
      "metadata": {
        "id": "QRC3pkzbYJXi"
      }
    },
    {
      "cell_type": "markdown",
      "metadata": {
        "id": "33DohT-QYxlN"
      },
      "source": [
        "---"
      ]
    },
    {
      "cell_type": "markdown",
      "metadata": {
        "id": "FDVksU7VYiKj"
      },
      "source": [
        "# ⭕ **QUESTIONS?**"
      ]
    },
    {
      "cell_type": "markdown",
      "metadata": {
        "id": "ioq4AQ8kGRZZ"
      },
      "source": [
        "---"
      ]
    },
    {
      "cell_type": "markdown",
      "metadata": {
        "id": "uW5lbjOnGRZY"
      },
      "source": [
        "Let's check out the API we'll be working with: http://gbfs.citibikenyc.com/gbfs/gbfs.json"
      ]
    },
    {
      "cell_type": "markdown",
      "metadata": {
        "id": "ivoAw0TDGRZZ"
      },
      "source": [
        "First, we'll request the first json from the CitiBike API URL and just print it out to get a quick glimpse"
      ]
    },
    {
      "cell_type": "code",
      "metadata": {
        "id": "rtXpoI3RGRZa"
      },
      "source": [
        "import json \n",
        "import urllib.request # https://docs.python.org/3/library/urllib.request.html\n",
        "\n",
        "with urllib.request.urlopen(\"https://gbfs.citibikenyc.com/gbfs/en/station_information.json\") as url:\n",
        "    station_info = json.loads(url.read().decode())\n",
        "    print(station_info)"
      ],
      "execution_count": null,
      "outputs": []
    },
    {
      "cell_type": "markdown",
      "metadata": {
        "id": "l5BPWrFzGRZe"
      },
      "source": [
        "As you can see, the json is a dictionary of lists and other dictionaries containing information about CitiBike stations across New York City. "
      ]
    },
    {
      "cell_type": "code",
      "metadata": {
        "id": "3Qyc_e1_KcIX"
      },
      "source": [
        "for key,value in station_info.items(): # we begin by unpacking this dictionary\n",
        "    print(\"key: {0} | value: {1}\".format(key, value))"
      ],
      "execution_count": null,
      "outputs": []
    },
    {
      "cell_type": "code",
      "metadata": {
        "id": "d3TCtvySN-CB"
      },
      "source": [
        "station_info_values_list = list(station_info.values())"
      ],
      "execution_count": null,
      "outputs": []
    },
    {
      "cell_type": "code",
      "metadata": {
        "id": "j29CAwAXPyI-"
      },
      "source": [
        "station_info_values_list"
      ],
      "execution_count": null,
      "outputs": []
    },
    {
      "cell_type": "code",
      "metadata": {
        "id": "iSsTli19OBC-"
      },
      "source": [
        "clean_station_info = station_info_values_list[0]['stations']"
      ],
      "execution_count": null,
      "outputs": []
    },
    {
      "cell_type": "code",
      "source": [
        "clean_station_info[0]"
      ],
      "metadata": {
        "id": "mPE5hxR3Nsy4"
      },
      "execution_count": null,
      "outputs": []
    },
    {
      "cell_type": "markdown",
      "source": [
        "Now let's do the same for the second API that contains some additional information on these stations."
      ],
      "metadata": {
        "id": "hHeqNRToI5H2"
      }
    },
    {
      "cell_type": "code",
      "source": [
        "import json \n",
        "import urllib.request # https://docs.python.org/3/library/urllib.request.html\n",
        "\n",
        "with urllib.request.urlopen(\"https://gbfs.citibikenyc.com/gbfs/en/station_status.json\") as url:\n",
        "    station_status = json.loads(url.read().decode())\n",
        "    print(station_status)"
      ],
      "metadata": {
        "id": "68t-xT2rG1Jk"
      },
      "execution_count": null,
      "outputs": []
    },
    {
      "cell_type": "code",
      "source": [
        "for key,value in station_status.items():\n",
        "    print(\"key: {0} | value: {1}\".format(key, value))"
      ],
      "metadata": {
        "id": "c_3f-IwtG1NP"
      },
      "execution_count": null,
      "outputs": []
    },
    {
      "cell_type": "code",
      "source": [
        "station_status_values_list = list(station_status.values())"
      ],
      "metadata": {
        "id": "j1z0pb2NG1P2"
      },
      "execution_count": null,
      "outputs": []
    },
    {
      "cell_type": "code",
      "source": [
        "station_status_values_list[0]"
      ],
      "metadata": {
        "id": "T1wlMVMBG1Sd"
      },
      "execution_count": null,
      "outputs": []
    },
    {
      "cell_type": "code",
      "source": [
        "clean_station_status = station_status_values_list[0]['stations']"
      ],
      "metadata": {
        "id": "R4Zlb-gcG1U0"
      },
      "execution_count": null,
      "outputs": []
    },
    {
      "cell_type": "code",
      "source": [
        "clean_station_status[0]"
      ],
      "metadata": {
        "id": "29nlKjyUG1Xd"
      },
      "execution_count": null,
      "outputs": []
    },
    {
      "cell_type": "markdown",
      "metadata": {
        "id": "oj_cgiAMaAcB"
      },
      "source": [
        "---"
      ]
    },
    {
      "cell_type": "markdown",
      "source": [
        "# ⭕ **QUESTIONS?**"
      ],
      "metadata": {
        "id": "Mcd0z-tHaAcB"
      }
    },
    {
      "cell_type": "markdown",
      "metadata": {
        "id": "n9j7fmXYaAcB"
      },
      "source": [
        "---"
      ]
    },
    {
      "cell_type": "code",
      "metadata": {
        "id": "8r4-_WcAGRZi"
      },
      "source": [
        "import pandas as pd # we'll use pandas just to visualize our data, NOT to query it\n",
        "\n",
        "df_station_info = pd.DataFrame(clean_station_info) # create a new dataframe called 'df_stations' \n",
        "df_station_info.head() # check the first five station entries"
      ],
      "execution_count": null,
      "outputs": []
    },
    {
      "cell_type": "code",
      "source": [
        "import pandas as pd # we'll use pandas just to visualize our data, NOT to query it\n",
        "\n",
        "df_station_status = pd.DataFrame(clean_station_status) # create a new dataframe called 'df_stations' \n",
        "df_station_status.head() # check the first five station entries"
      ],
      "metadata": {
        "id": "DZZmhEZ2ITfm"
      },
      "execution_count": null,
      "outputs": []
    },
    {
      "cell_type": "markdown",
      "metadata": {
        "id": "WtFe7mNUaBTu"
      },
      "source": [
        "---"
      ]
    },
    {
      "cell_type": "markdown",
      "source": [
        "# ⭕ **QUESTIONS?**"
      ],
      "metadata": {
        "id": "8SREkpPNaBTx"
      }
    },
    {
      "cell_type": "markdown",
      "metadata": {
        "id": "csHeJCs7aBTx"
      },
      "source": [
        "---"
      ]
    },
    {
      "cell_type": "markdown",
      "metadata": {
        "id": "a6aZV9QBGRZo"
      },
      "source": [
        "So, we have our data from the CitiBike feed, and it looks pretty good! Now we need to create two tables within our database (the one we named citibikeData.db). We do that using the 'CREATE TABLE IF NOT EXISTS' statement seen below. \n",
        "\n",
        "In that statement, the 'IF NOT EXISTS' makes clear that we are going to create the table called 'StationsData' only once. That way, if we run that cell again, it's not going to overwrite the work we've previously done. \n",
        "\n",
        "Note that at this point we aren't adding any data to our table. All we're doing is telling SQLite that we want to create a new table, and providing it with a) the column names and b) the data type those columns should be expecting."
      ]
    },
    {
      "cell_type": "code",
      "metadata": {
        "id": "hdSCIt70GRZp"
      },
      "source": [
        "sql = \"CREATE TABLE IF NOT EXISTS AllStationData (capacity INTEGER, lat BLOB, lon BLOB, name TEXT, region_id INTEGER, station_type TEXT, is_installed INTEGER, is_renting INTEGER, is_returning INTEGER, num_bikes_available INTEGER, num_bikes_disabled INTEGER, num_docks_available INTEGER, num_docks_disabled INTEGER, num_ebikes_available INTEGER, station_id INTEGER, station_status TEXT );\" \n",
        "\n",
        "con.execute(sql)\n",
        "con.commit()"
      ],
      "execution_count": null,
      "outputs": []
    },
    {
      "cell_type": "markdown",
      "metadata": {
        "id": "NB2u3V2LGRZr"
      },
      "source": [
        "Now that we have our database and our table, we want to insert our data. \n",
        "\n",
        "Below, we create a \"query template\" where we \"INSERT OR IGNORE INTO\" our table the values associated with each of our columns. \n",
        "\n",
        "We define those values by parsing through the CitiBike json we got earlier, and for each \"row\" of that json, we create a new row in our SQLite table. "
      ]
    },
    {
      "cell_type": "markdown",
      "source": [
        "First, we have to do some complicated work with 'zips'..."
      ],
      "metadata": {
        "id": "h-wGye4k4R_A"
      }
    },
    {
      "cell_type": "code",
      "source": [
        "list1 = [0,2,4,6,8,10]\n",
        "list2 = [1,3,5,7,9]\n",
        "\n",
        "for a,b in zip(list1, list2): \n",
        "  print(\"a: \", a , \"; b: \", b)"
      ],
      "metadata": {
        "id": "jWwh4zk4xeas"
      },
      "execution_count": null,
      "outputs": []
    },
    {
      "cell_type": "code",
      "source": [
        "zipped = zip(list1,list2)\n",
        "\n",
        "list(zipped)"
      ],
      "metadata": {
        "id": "QVZXuVYC0L7i"
      },
      "execution_count": null,
      "outputs": []
    },
    {
      "cell_type": "code",
      "source": [
        "AllStationData = zip(clean_station_info, clean_station_status)\n",
        "\n",
        "list(AllStationData)[0]"
      ],
      "metadata": {
        "id": "qQh6Tl3wYNyk"
      },
      "execution_count": null,
      "outputs": []
    },
    {
      "cell_type": "code",
      "source": [
        "for info, status in zip(clean_station_info,clean_station_status):\n",
        "  print(info,status)\n",
        "  break"
      ],
      "metadata": {
        "id": "O6VDAzIX2uNI"
      },
      "execution_count": null,
      "outputs": []
    },
    {
      "cell_type": "code",
      "source": [
        "for info, status in zip(clean_station_info,clean_station_status):\n",
        "  print(info['lon'],status['is_installed'])\n",
        "  break"
      ],
      "metadata": {
        "id": "Dra5N5ef3lJo"
      },
      "execution_count": null,
      "outputs": []
    },
    {
      "cell_type": "code",
      "source": [
        "query_template = \"\"\"INSERT OR IGNORE INTO AllStationData (capacity, lat, lon, name, station_type, is_installed, is_renting, is_returning, num_bikes_available, num_bikes_disabled, num_docks_available, num_docks_disabled, num_ebikes_available, station_id, station_status)\n",
        "VALUES (?, ?, ?, ?, ?, ?, ?, ?, ?, ?, ?, ?, ?, ?, ?);\"\"\"\n",
        "\n",
        "for info, status in zip(clean_station_info,clean_station_status):\n",
        "\n",
        "      capacity = info['capacity']\n",
        "      lat = info['lat']\n",
        "      lon = info['lon']\n",
        "      name = info['name']\n",
        "      station_type = info['station_type']\n",
        "      is_installed = status['is_installed']\n",
        "      is_renting = status['is_renting'] \n",
        "      is_returning = status['is_returning']\n",
        "      num_bikes_available = status['num_bikes_available'] \n",
        "      num_bikes_disabled = status['num_bikes_disabled']\n",
        "      num_docks_available = status['num_docks_available']\n",
        "      num_docks_disabled = status['num_docks_disabled'] \n",
        "      num_ebikes_available = status['num_ebikes_available']\n",
        "      station_id = info['station_id']\n",
        "      station_status = status['station_status']\n",
        "                           \n",
        "      print(\"Inserting Station:\", capacity, lat, lon, name, station_type, is_installed, is_renting, is_returning, num_bikes_available, num_bikes_disabled, num_docks_available, num_docks_disabled, num_ebikes_available, station_id, station_status) \n",
        "\n",
        "      query_parameters = (capacity, lat, lon, name, station_type,is_installed, is_renting, is_returning, num_bikes_available, num_bikes_disabled, num_docks_available, num_docks_disabled, num_ebikes_available, station_id, station_status) \n",
        "    \n",
        "      con.execute(query_template, query_parameters)\n",
        "    \n",
        "con.commit()"
      ],
      "metadata": {
        "id": "yjW8KRnzOvJx"
      },
      "execution_count": null,
      "outputs": []
    },
    {
      "cell_type": "markdown",
      "metadata": {
        "id": "gAVN7kGqGRZv"
      },
      "source": [
        "Now, we can use [pd.read_sql](https://pandas.pydata.org/pandas-docs/stable/reference/api/pandas.read_sql.html) to check that we are properly connected to our database, and the StationsData table within that database:"
      ]
    },
    {
      "cell_type": "code",
      "source": [
        "check = pd.read_sql(\"SELECT * FROM AllStationData LIMIT 5\", con=con)\n",
        "check"
      ],
      "metadata": {
        "id": "y7_Cj6t4RfJ_"
      },
      "execution_count": null,
      "outputs": []
    },
    {
      "cell_type": "markdown",
      "metadata": {
        "id": "sdI6lu5NaGg0"
      },
      "source": [
        "---"
      ]
    },
    {
      "cell_type": "markdown",
      "source": [
        "# ⭕ **QUESTIONS?**"
      ],
      "metadata": {
        "id": "eBVLLfBxaGg9"
      }
    },
    {
      "cell_type": "markdown",
      "metadata": {
        "id": "SlUpN1A6aGg9"
      },
      "source": [
        "---"
      ]
    },
    {
      "cell_type": "markdown",
      "metadata": {
        "id": "pNBv8DFaGRZy"
      },
      "source": [
        "Looks good! Last but not least, let's set things up so that our database automatically updates every 15 seconds. "
      ]
    },
    {
      "cell_type": "code",
      "metadata": {
        "id": "xHUeCi00GRZz"
      },
      "source": [
        "import time \n",
        "import json \n",
        "import urllib.request\n",
        "from datetime import datetime\n",
        "\n",
        "while True:\n",
        "  \n",
        "    with urllib.request.urlopen(\"https://gbfs.citibikenyc.com/gbfs/en/station_information.json\") as url:\n",
        "        station_info = json.loads(url.read().decode())\n",
        "        station_info_values_list = list(station_info.values())\n",
        "        clean_station_info = station_info_values_list[0]['stations']\n",
        "\n",
        "    with urllib.request.urlopen(\"https://gbfs.citibikenyc.com/gbfs/en/station_status.json\") as url:\n",
        "        station_status = json.loads(url.read().decode())\n",
        "        station_status_values_list = list(station_status.values())\n",
        "        clean_station_status = station_status_values_list[0]['stations']\n",
        "    \n",
        "    query_template = \"\"\"INSERT OR IGNORE INTO AllStationData (capacity, lat, lon, name, station_type, is_installed, is_renting, is_returning, num_bikes_available, num_bikes_disabled, num_docks_available, num_docks_disabled, num_ebikes_available, station_id, station_status)\n",
        "VALUES (?, ?, ?, ?, ?, ?, ?, ?, ?, ?, ?, ?, ?, ?, ?);\"\"\"\n",
        "\n",
        "    for info, status in zip(clean_station_info,clean_station_status):\n",
        "\n",
        "      capacity = info['capacity']\n",
        "      lat = info['lat']\n",
        "      lon = info['lon']\n",
        "      name = info['name']\n",
        "      station_type = info['station_type']\n",
        "      is_installed = status['is_installed']\n",
        "      is_renting = status['is_renting'] \n",
        "      is_returning = status['is_returning']\n",
        "      num_bikes_available = status['num_bikes_available'] \n",
        "      num_bikes_disabled = status['num_bikes_disabled']\n",
        "      num_docks_available = status['num_docks_available']\n",
        "      num_docks_disabled = status['num_docks_disabled'] \n",
        "      num_ebikes_available = status['num_ebikes_available']\n",
        "      station_id = info['station_id']\n",
        "      station_status = status['station_status']\n",
        "                           \n",
        "      print(\"Inserting Station:\", capacity, lat, lon, name, station_type, is_installed, is_renting, is_returning, num_bikes_available, num_bikes_disabled, num_docks_available, num_docks_disabled, num_ebikes_available, station_id, station_status) \n",
        "\n",
        "      query_parameters = (capacity, lat, lon, name, station_type,is_installed, is_renting, is_returning, num_bikes_available, num_bikes_disabled, num_docks_available, num_docks_disabled, num_ebikes_available, station_id, station_status) \n",
        "    \n",
        "      con.execute(query_template, query_parameters)\n",
        "    \n",
        "    con.commit()\n",
        "        \n",
        "time.sleep(15)"
      ],
      "execution_count": null,
      "outputs": []
    },
    {
      "cell_type": "markdown",
      "metadata": {
        "id": "sIVlJs5TGRZ2"
      },
      "source": [
        "---"
      ]
    },
    {
      "cell_type": "markdown",
      "metadata": {
        "id": "KU6F9cKtGRZ2"
      },
      "source": [
        "I hope this has helped you find your programming legs! Next week we'll get back to descriptive analytics using Python and Pandas. For now, take time to refresh yourself on the content covered in \"Introduction to Programming\". "
      ]
    }
  ]
}