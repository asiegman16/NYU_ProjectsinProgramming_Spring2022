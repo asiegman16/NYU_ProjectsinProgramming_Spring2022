{
  "nbformat": 4,
  "nbformat_minor": 0,
  "metadata": {
    "kernelspec": {
      "display_name": "Python 3",
      "language": "python",
      "name": "python3"
    },
    "language_info": {
      "codemirror_mode": {
        "name": "ipython",
        "version": 3
      },
      "file_extension": ".py",
      "mimetype": "text/x-python",
      "name": "python",
      "nbconvert_exporter": "python",
      "pygments_lexer": "ipython3",
      "version": "3.7.3"
    },
    "colab": {
      "name": "Class4_solved.ipynb",
      "provenance": []
    }
  },
  "cells": [
    {
      "cell_type": "markdown",
      "metadata": {
        "id": "e4Xq6EF7V9DS"
      },
      "source": [
        "# Regular Expressions"
      ]
    },
    {
      "cell_type": "markdown",
      "metadata": {
        "id": "hhbBWuDjV9DU"
      },
      "source": [
        "Regular expressions (regex's) are like pattern matchers. They allow us to match certain texts within a larger block of text. Unlike a Command+F search, regular expressions allow you to be flexible. \n",
        "\n",
        "To best understand, let's delve right into an example. \n",
        "\n",
        "The code below from Panos Ipeirotis is written in Python to replicate the behavior of grep, a UNIX utility. Grep (Global Search with Regular Expression and Printing Matching Lines) searches the named input files for lines containing a match to the given pattern. \n",
        "\n",
        "By default, grep prints the matching lines."
      ]
    },
    {
      "cell_type": "code",
      "metadata": {
        "id": "A8KlHzsmV9DV"
      },
      "source": [
        "import re # https://docs.python.org/3/library/re.html\n",
        "\n",
        "def printMatches(text, regex_expression):\n",
        "    BACKGROUND_YELLOW = '\\x1b[43m'\n",
        "    COLOR_RESET  = \"\\x1b[0m\"\n",
        "    regex= re.compile(regex_expression)\n",
        "    matches = regex.finditer(text)\n",
        "    for m in matches:\n",
        "        highlighted  = text[:m.start()] # the string before the regex match\n",
        "        highlighted += BACKGROUND_YELLOW + text[m.start():m.end()] + COLOR_RESET \n",
        "        highlighted += text[m.end():] # the string after the regex match\n",
        "        print(highlighted)\n",
        "        print('\\n')\n",
        "\n",
        "def grep(regex_expression, file_name):\n",
        "    f = open(file_name, \"r\")\n",
        "    content = f.read()\n",
        "    f.close()\n",
        "    for line in content.split(\"\\n\"):\n",
        "        printMatches(line, regex_expression)"
      ],
      "execution_count": null,
      "outputs": []
    },
    {
      "cell_type": "markdown",
      "metadata": {
        "id": "psVzgosSV9DZ"
      },
      "source": [
        "For today's class, we'll be taking a look at  the [\"Capital Project Tracker\" from NYC Open Data.](https://data.cityofnewyork.us/Recreation/Capital-Project-Tracker/qiwj-i2jk)\n",
        "\n",
        "One of the first things you may want to do is search for a literal – simply match the exact text in the document in question. For instance, if we want to find any mention of the word, \"Highway\"...\n",
        "\n",
        "_As always, upload the \"ParkProjects.txt\" file directly into our Colab instance so that we can search it._ "
      ]
    },
    {
      "cell_type": "markdown",
      "source": [
        "Let's begin with the simplest search: verbatim."
      ],
      "metadata": {
        "id": "5vv5LywcsJO8"
      }
    },
    {
      "cell_type": "code",
      "metadata": {
        "id": "02TJY7Z_V9DZ"
      },
      "source": [
        "grep('Highway', './ParkProjects.txt') # searches for the word \"Highway\", character by character"
      ],
      "execution_count": null,
      "outputs": []
    },
    {
      "cell_type": "markdown",
      "metadata": {
        "id": "RClBerKOV9Dc"
      },
      "source": [
        "That's all fine and well, but the goal here is to leverage the power and flexibility of regular expressions. That's where atoms come into play. \n",
        "\n",
        "The simplest regular expressions are a sequence of \"atoms\"."
      ]
    },
    {
      "cell_type": "markdown",
      "metadata": {
        "id": "gNXYULGsV9Dd"
      },
      "source": [
        "## The dot (.) atom \n",
        "\n",
        "Matches any single character other than \\n (newline) "
      ]
    },
    {
      "cell_type": "code",
      "metadata": {
        "id": "Gq_ufGT0V9De"
      },
      "source": [
        "grep('Avenue . and', './ParkProjects.txt') # searches for \"Avenue\" followed by any character, followed by the word \"and\""
      ],
      "execution_count": null,
      "outputs": []
    },
    {
      "cell_type": "code",
      "metadata": {
        "id": "kLme6mZTV9Dh"
      },
      "source": [
        "grep('Avenue . and Avenue .', './ParkProjects.txt') # searches for \"Avenue\", any character, \"and\", then the word \"Avenue\" again"
      ],
      "execution_count": null,
      "outputs": []
    },
    {
      "cell_type": "markdown",
      "metadata": {
        "id": "0WkATaVjHZBK"
      },
      "source": [
        "---"
      ]
    },
    {
      "cell_type": "markdown",
      "source": [
        "# ⭕ **QUESTIONS?**"
      ],
      "metadata": {
        "id": "KV8q8ylgq41u"
      }
    },
    {
      "cell_type": "markdown",
      "metadata": {
        "id": "c64sUvGUq41v"
      },
      "source": [
        "---"
      ]
    },
    {
      "cell_type": "markdown",
      "metadata": {
        "id": "07-gsA9QV9Dj"
      },
      "source": [
        "## The bracket expression \n",
        "\n",
        "Defines a set of characters of which **only one** needs to be matched "
      ]
    },
    {
      "cell_type": "code",
      "metadata": {
        "id": "1ySnQyFgV9Dk"
      },
      "source": [
        "grep('Avenue [FG]', './ParkProjects.txt') # searches for \"Avenue F\" or \"Avenuge G\""
      ],
      "execution_count": null,
      "outputs": []
    },
    {
      "cell_type": "code",
      "metadata": {
        "id": "lGQaGb75V9Dn"
      },
      "source": [
        "grep('[Pp]layground', './ParkProjects.txt') # searches for \"Playground\" or \"playground\""
      ],
      "execution_count": null,
      "outputs": []
    },
    {
      "cell_type": "markdown",
      "metadata": {
        "id": "OJO7A7eXV9Dq"
      },
      "source": [
        "You can also incorporate ranges into your brackets. For instance, we want the word \"East\" followed by any three numbers:"
      ]
    },
    {
      "cell_type": "code",
      "metadata": {
        "id": "xIqiDnEHV9Dr"
      },
      "source": [
        "grep('East [0-9][0-9][0-9]', './ParkProjects.txt') # searches for \"East\" follosed by any three digits"
      ],
      "execution_count": null,
      "outputs": []
    },
    {
      "cell_type": "markdown",
      "metadata": {
        "id": "QlN28QkqV9Dw"
      },
      "source": [
        "## Anchors \n",
        "\n",
        "Anchors are atoms used to define the location of a regex within a line :\n",
        "\n",
        "- the '^' anchor specifies the beginning of the line \n",
        "- the '$' anchor specifies the end of a line\n",
        "- the '\\b' anchor specifies a word boundry "
      ]
    },
    {
      "cell_type": "code",
      "metadata": {
        "id": "VBXfDutzV9Dx"
      },
      "source": [
        "grep('^Summary This project will reconstruct', './ParkProjects.txt') # searches for the string starting a line"
      ],
      "execution_count": null,
      "outputs": []
    },
    {
      "cell_type": "code",
      "source": [
        "# note that this will show nothing...\n",
        "\n",
        "grep('^This project will reconstruct', './ParkProjects.txt') # searches for the string starting a line"
      ],
      "metadata": {
        "id": "Qn0oYaTBLe8_"
      },
      "execution_count": null,
      "outputs": []
    },
    {
      "cell_type": "code",
      "metadata": {
        "id": "KEqhFBHcV9Dz"
      },
      "source": [
        "grep('^Summary This project will construct', './ParkProjects.txt') # searches for the string starting the line"
      ],
      "execution_count": null,
      "outputs": []
    },
    {
      "cell_type": "markdown",
      "metadata": {
        "id": "idDxXLViV9D3"
      },
      "source": [
        "## Some more basic patterns and metacharacters' \n",
        "\n",
        "- . (dot) matches any character except \\n (newline) \n",
        "- \\t matches a tab\n",
        "- \\n matches a newline \n",
        "- \\r matches return \n",
        "- ^ matches the start of a string\n",
        "- $ matches the end of a string"
      ]
    },
    {
      "cell_type": "markdown",
      "metadata": {
        "id": "hozDbdOwV9D4"
      },
      "source": [
        "## Metacharacters \n",
        "\n",
        "Include \"  \\ ^ $ . | ? * + ( ) [ ] and \\\n",
        "\n",
        "These metacharacters help us match various, non-literal components of a sentence. In order to 'escape' them (aka, to search for that symbol itself) you need to proceed it with a backslash \\(\\\\\\)"
      ]
    },
    {
      "cell_type": "markdown",
      "metadata": {
        "id": "esifktzwvH2b"
      },
      "source": [
        "---"
      ]
    },
    {
      "cell_type": "markdown",
      "source": [
        "# ⭕ **QUESTIONS?**"
      ],
      "metadata": {
        "id": "58Snu3ujvH2c"
      }
    },
    {
      "cell_type": "markdown",
      "metadata": {
        "id": "LbZcKJVZvH2c"
      },
      "source": [
        "---"
      ]
    },
    {
      "cell_type": "markdown",
      "metadata": {
        "id": "eFXYJ5PfV9D5"
      },
      "source": [
        "To gain insight into what your regular expression is doing at any time, I highly recommend using regexper.com (https://regexper.com/) which will allow you to see exactly what a given search is doing. \n",
        "\n",
        "For instance, check out https://regexper.com/#%5EMy to see what we just did with '^My'\n",
        "\n",
        "Here is a good cheat sheet for all the special characters, too, From Emma Wedekind: https://dev.to/emmawedekind/regex-cheat-sheet-2j2a\n",
        "\n",
        "Finally, I'd also recommend RegEx101, a handy debugger for regular expressions: https://regex101.com/"
      ]
    },
    {
      "cell_type": "markdown",
      "metadata": {
        "id": "b4WIdmBmtG_C"
      },
      "source": [
        "---"
      ]
    },
    {
      "cell_type": "markdown",
      "source": [
        "# ⭕ **QUESTIONS?**"
      ],
      "metadata": {
        "id": "WofuorqBtG_C"
      }
    },
    {
      "cell_type": "markdown",
      "metadata": {
        "id": "LRbutcyftG_D"
      },
      "source": [
        "---"
      ]
    },
    {
      "cell_type": "markdown",
      "metadata": {
        "id": "WfmBHrhHV9D6"
      },
      "source": [
        "## Shortcuts: \n",
        "\n",
        "- \\d: matches digits 0-9\n",
        "- \\D matches anything but \\d\n",
        "- \\w matches any alphanumeric character plus underscore \n",
        "- \\W matches anything but \\w \n",
        "- \\s matches any \"whitespace character (space, tab, newline) \n",
        "- \\S matches anything but \\s"
      ]
    },
    {
      "cell_type": "markdown",
      "metadata": {
        "id": "E_rjBWQ1tZaS"
      },
      "source": [
        "---"
      ]
    },
    {
      "cell_type": "markdown",
      "metadata": {
        "id": "OdqjE-h2V9D7"
      },
      "source": [
        "## Operators:"
      ]
    },
    {
      "cell_type": "markdown",
      "metadata": {
        "id": "_oWXGYm-V9D7"
      },
      "source": [
        "## `'alternation' operator`\n",
        "\n",
        "Defines one or more alternatives that need to be true to return a match:"
      ]
    },
    {
      "cell_type": "code",
      "metadata": {
        "id": "wwMEJ-C7V9D8"
      },
      "source": [
        "grep('^Summary This project will (partially|expand)', './ParkProjects.txt') # searches for \"Summary This project will partially\" or \"Summary This project will expand\""
      ],
      "execution_count": null,
      "outputs": []
    },
    {
      "cell_type": "markdown",
      "metadata": {
        "id": "Pp6C2C9yV9D_"
      },
      "source": [
        "## `Repetition operator `\n",
        "\n",
        "Specifies that the symbol to be matched may be repeated:"
      ]
    },
    {
      "cell_type": "markdown",
      "metadata": {
        "id": "kKZqCwaiV9D_"
      },
      "source": [
        "Repetition Shortcuts: \n",
        "\n",
        "\\* = {0,} The * character means match the previous atom zero or more times\n",
        "\n",
        "\\+ = {1,} The + character means match the previous atom one or more times\n",
        "\n",
        "? = {0,1} The ? character means match the previous atom zero or one times"
      ]
    },
    {
      "cell_type": "code",
      "metadata": {
        "id": "2g1TpgO7V9EA"
      },
      "source": [
        "# note that you need the comma after 400...\n",
        "\n",
        "grep('Summary .{400,}$', './ParkProjects.txt') # searches for \"Summary\" followed by any 400+ characters before the end of the line."
      ],
      "execution_count": null,
      "outputs": []
    },
    {
      "cell_type": "markdown",
      "metadata": {
        "id": "WTaiaP1UV9EC"
      },
      "source": [
        "## `Group Operator`\n",
        "\n",
        "In the group operator, when a group of characters is inclused in parantehses, the next operator applies to the whole group, not only the previous characters"
      ]
    },
    {
      "cell_type": "code",
      "metadata": {
        "id": "Y6vWL5ezV9ED"
      },
      "source": [
        "grep('name.* (\\d){3,} .*', './ParkProjects.txt') # searches for \"name\" followed by any character, any number of times, followed by any 3+ digit number, followed by any character any number of times\"\n",
        "\n",
        "# note that technically you don't need the parantheses around \\d because it is shortcut, but in all other instances you would need it because the operator only applies to the character directly before it. "
      ],
      "execution_count": null,
      "outputs": []
    },
    {
      "cell_type": "markdown",
      "metadata": {
        "id": "90pTz13tV9EG"
      },
      "source": [
        "---"
      ]
    },
    {
      "cell_type": "markdown",
      "metadata": {
        "id": "oD1rYuWnV9EG"
      },
      "source": [
        "# Exercise 1: What do these regex's match? "
      ]
    },
    {
      "cell_type": "code",
      "metadata": {
        "id": "zmYvKnhdV9EH"
      },
      "source": [
        "# grep('^Summary .* Street.$', './ParkProjects.txt')\n",
        "# grep('East (\\d){2,}st', './ParkProjects.txt')\n",
        "# grep('Lenox .* (Pl\\.|Place)', './ParkProjects.txt')"
      ],
      "execution_count": null,
      "outputs": []
    },
    {
      "cell_type": "markdown",
      "metadata": {
        "id": "jW4wYGSYV9EJ"
      },
      "source": [
        "# Solution"
      ]
    },
    {
      "cell_type": "code",
      "metadata": {
        "id": "h8uxwh0eV9EK"
      },
      "source": [
        "grep('^Summary .* Street.$', './ParkProjects.txt')"
      ],
      "execution_count": null,
      "outputs": []
    },
    {
      "cell_type": "code",
      "metadata": {
        "scrolled": true,
        "id": "QuNWcvRWV9EM"
      },
      "source": [
        "grep('East (\\d){2,}st', './ParkProjects.txt')"
      ],
      "execution_count": null,
      "outputs": []
    },
    {
      "cell_type": "code",
      "metadata": {
        "id": "4KAnZG6SV9EO"
      },
      "source": [
        "grep('Lenox .* (Pl\\.|Place)', './ParkProjects.txt')"
      ],
      "execution_count": null,
      "outputs": []
    },
    {
      "cell_type": "markdown",
      "metadata": {
        "id": "NiieK0hFt9PH"
      },
      "source": [
        "---"
      ]
    },
    {
      "cell_type": "markdown",
      "source": [
        "# ⭕ **QUESTIONS?**"
      ],
      "metadata": {
        "id": "Y0MAmRmJt9PP"
      }
    },
    {
      "cell_type": "markdown",
      "metadata": {
        "id": "PvgwjnR_t9PP"
      },
      "source": [
        "---"
      ]
    },
    {
      "cell_type": "markdown",
      "metadata": {
        "id": "tPLQ9mB7V9EZ"
      },
      "source": [
        "# [Python's re Regular Expression Library](https://docs.python.org/3/library/re.html)\n",
        "\n",
        "We are going to move away from using Panos's Grep function now and focus on Python's Regular Expression Library (re). To be clear, the regular expressions remain the same, but how we call for them and summon them is different. \n",
        "\n",
        "A quick note on match groups, too. [_Documentation_](https://docs.python.org/2/library/re.html)\n",
        "\n",
        "`group([group1, ...]) returns one or more subgroups of the match. If there is a single argument, the result is a single string; if there are multiple arguments, the result is a tuple with one item per argument. Without arguments, group1 defaults to zero (the whole match is returned). If a groupN argument is zero, the corresponding return value is the entire matching string; if it is in the inclusive range [1..99], it is the string matching the corresponding parenthesized group. If a group number is negative or larger than the number of groups defined in the pattern, an IndexError exception is raised. If a group is contained in a part of the pattern that did not match, the corresponding result is None. If a group is contained in a part of the pattern that matched multiple times, the last match is returned.`\n",
        "\n",
        "For example: \n",
        "```python \n",
        ">>> m = re.match(r\"(\\w+) (\\w+)\", \"Isaac Newton, physicist\")\n",
        ">>> m.group(0)       # The entire match\n",
        "'Isaac Newton'\n",
        ">>> m.group(1)       # The first parenthesized subgroup.\n",
        "'Isaac'\n",
        ">>> m.group(2)       # The second parenthesized subgroup.\n",
        "'Newton'\n",
        ">>> m.group(1, 2)    # Multiple arguments give us a tuple.\n",
        "('Isaac', 'Newton')\n",
        "```"
      ]
    },
    {
      "cell_type": "code",
      "metadata": {
        "id": "n5-nWvcLV9Ea"
      },
      "source": [
        "text = \"Hello, my name is Alex Siegman. Please call me back at 212 555-9583 or email me at as13815@nyu.edu at your \\\n",
        "earliest convenience. Thank you.\""
      ],
      "execution_count": null,
      "outputs": []
    },
    {
      "cell_type": "code",
      "metadata": {
        "id": "CBOKuyIsV9Ec"
      },
      "source": [
        "import re\n",
        "from re import search "
      ],
      "execution_count": null,
      "outputs": []
    },
    {
      "cell_type": "code",
      "metadata": {
        "id": "U_jCCZAiV9Ee"
      },
      "source": [
        "regex = re.compile(r'[Aa]lex')\n",
        "matches = regex.finditer(text)\n",
        "\n",
        "for match in matches: \n",
        "    print(match.group())"
      ],
      "execution_count": null,
      "outputs": []
    },
    {
      "cell_type": "markdown",
      "metadata": {
        "id": "nQNuXIe7V9Eg"
      },
      "source": [
        "Let's try and match for an email address:"
      ]
    },
    {
      "cell_type": "code",
      "metadata": {
        "id": "y2cic-noV9Eg"
      },
      "source": [
        "regex = re.compile(r'\\w+@\\w+\\..{3}')\n",
        "\n",
        "matches = regex.finditer(text)\n",
        "\n",
        "for match in matches: \n",
        "    print(match.group())                 "
      ],
      "execution_count": null,
      "outputs": []
    },
    {
      "cell_type": "markdown",
      "metadata": {
        "id": "eDLtfwLYV9Ei"
      },
      "source": [
        "How about for a phone number? "
      ]
    },
    {
      "cell_type": "code",
      "metadata": {
        "id": "40wlEmWoV9Ej"
      },
      "source": [
        "regex = re.compile(r'\\d{3} \\d{3}-\\d{4}')\n",
        "\n",
        "matches = regex.finditer(text)\n",
        "\n",
        "for match in matches: \n",
        "    print(match.group()) "
      ],
      "execution_count": null,
      "outputs": []
    },
    {
      "cell_type": "markdown",
      "metadata": {
        "id": "dFw1fGQvV9El"
      },
      "source": [
        "And what if you have multiple matches in the same string? "
      ]
    },
    {
      "cell_type": "code",
      "metadata": {
        "id": "Wf7dg0GSV9Em"
      },
      "source": [
        "text = \"Hello, my name is Alex Siegman. Please call me back at 212 555-9583 or 314 935-9981 or email me at as13815@nyu.edu at your \\\n",
        "earliest convenience. Thank you.\""
      ],
      "execution_count": null,
      "outputs": []
    },
    {
      "cell_type": "code",
      "metadata": {
        "id": "E4oOXOTpV9Eo"
      },
      "source": [
        "# we can use 'finditer' that returns a collection of MatchObject items\n",
        "\n",
        "regex = re.compile(r'\\d{3} \\d{3}-\\d{4}')\n",
        "\n",
        "matches = regex.finditer(text)\n",
        "for i, match in enumerate(matches): # enumerate() is going to return two values, a count, and the value itself\n",
        "    print(i+1, \"==>\", match.group())\n",
        "    \n",
        "# FYI the 'search' term only returns the first MatchObject item"
      ],
      "execution_count": null,
      "outputs": []
    },
    {
      "cell_type": "markdown",
      "metadata": {
        "id": "wtcxxqTtV9EQ"
      },
      "source": [
        "# Exercise 2: Imagine you have a file with telephone numbers in different formats: \n",
        "\n",
        "- 679-397-5255\n",
        "- 2126660921\n",
        "- 212-998-0902\n",
        "- 888-888-2222\n",
        "- 800-555-1211\n",
        "- 800 555 1212\n",
        "- 800.555.1213\n",
        "- (800) 555-1214\n",
        "- 1-800-555-1215\n",
        "- 1(800)555-1216\n",
        "- 800-555-1212-1234\n",
        "- 800-555-1212x1234\n",
        "- 800-555-1212 ext. 1234\n",
        "- work 1-(800) 555.1212 #1234\n",
        "\n",
        "# Your goal is to standardize everything in the form (xxx)-xxx-xxx.\n",
        "\n",
        "To make the process interactive, go to http://regex101.com/?#python, copy and paste the numbers above in the text area called \"Text String\", and then try to write the regular expression above. "
      ]
    },
    {
      "cell_type": "code",
      "metadata": {
        "id": "uAd8I0MYV9ER"
      },
      "source": [
        "TextString = \"\"\"\n",
        "\n",
        "679-397-5255\n",
        "2126660921\n",
        "212-998-0902\n",
        "888-888-2222\n",
        "800-555-1211\n",
        "800 555 1212\n",
        "800.555.1213\n",
        "(800) 555-1214\n",
        "1-800-555-1215\n",
        "1(800)555-1216\n",
        "800-555-1212-1234\n",
        "800-555-1212x1234\n",
        "800-555-1212 ext. 1234\n",
        "work 1-(800) 555.1212 #1234\n",
        "\n",
        "\"\"\"\n",
        "\n",
        "# your code here"
      ],
      "execution_count": null,
      "outputs": []
    },
    {
      "cell_type": "markdown",
      "metadata": {
        "id": "PchoFHqLV9ET"
      },
      "source": [
        "# Solution"
      ]
    },
    {
      "cell_type": "code",
      "metadata": {
        "id": "fFgPGvVuV9ET"
      },
      "source": [
        "TextString = \"\"\"\n",
        "\n",
        "679-397-5255\n",
        "2126660921\n",
        "212-998-0902\n",
        "888-888-2222\n",
        "800-555-1211\n",
        "800 555 1212\n",
        "800.555.1213\n",
        "(800) 555-1214\n",
        "1-800-555-1215\n",
        "1(800)555-1216\n",
        "800-555-1212-1234\n",
        "800-555-1212x1234\n",
        "800-555-1212 ext. 1234\n",
        "work 1-(800) 555.1212 #1234\n",
        "\n",
        "\"\"\"\n",
        "\n",
        "# Notice now that each part of the phone is included in parentheses allowing us to grab individual part of the \n",
        "# phone number\n",
        "\n",
        "regex = re.compile(r'(\\d{3})\\D*(\\d{3})\\D*(\\d{4})')\n",
        "matches = regex.finditer(TextString)\n",
        "\n",
        "phones = list()\n",
        "for m in matches:\n",
        "    area_code = m.group(1)\n",
        "    first_three_digits = m.group(2)\n",
        "    last_four_digits =  m.group(3)\n",
        "    \n",
        "    phone = \"(\" + area_code + \")\" + first_three_digits + \"-\" + last_four_digits\n",
        "            \n",
        "    phones.append(phone)\n",
        "\n",
        "# Notice that our list does not include numbers with invalid area codes (e.g., 124, 125)\n",
        "phones"
      ],
      "execution_count": null,
      "outputs": []
    },
    {
      "cell_type": "markdown",
      "metadata": {
        "id": "GwOQ59UrwRra"
      },
      "source": [
        "---"
      ]
    },
    {
      "cell_type": "markdown",
      "source": [
        "# ⭕ **QUESTIONS?**"
      ],
      "metadata": {
        "id": "tm2D-WNywRra"
      }
    },
    {
      "cell_type": "markdown",
      "metadata": {
        "id": "sfNd-P8HwRra"
      },
      "source": [
        "---"
      ]
    },
    {
      "cell_type": "markdown",
      "metadata": {
        "id": "6_IeN4WNV9Eq"
      },
      "source": [
        "## Data Extraction \n",
        "\n",
        "It's awesome that we can return our matches here in our notebook, but what we really want to do is select the strings that match our regex and return them to a program to be processed. For example: "
      ]
    },
    {
      "cell_type": "code",
      "metadata": {
        "id": "anQNNQl_V9Eq"
      },
      "source": [
        "regex = re.compile(r\"\"\"(\\d{3}) # the area code\n",
        "                       \\D* # zero or more non-digits\n",
        "                       (\\d{3}) # three digits\n",
        "                       \\D* # zero or more non-digits\n",
        "                       (\\d{4}) # four digits\n",
        "                    \"\"\", re.VERBOSE) # VERBOSE means the whitespace is ignored, allowing us to go over lines\n",
        "\n",
        "matches = regex.finditer(text)\n",
        "for match in matches:\n",
        "    print(match.group())\n",
        "    print(\"Formatted:\", match.group(1),\"-\", match.group(2), \"-\", match.group(3))\n",
        "    print(\"===========\")"
      ],
      "execution_count": null,
      "outputs": []
    },
    {
      "cell_type": "markdown",
      "metadata": {
        "id": "sc-UCgalV9Es"
      },
      "source": [
        "What about our large 'file' of ill-formatted phone numbers from earlier? "
      ]
    },
    {
      "cell_type": "code",
      "metadata": {
        "id": "bC5LNE7HV9Et"
      },
      "source": [
        "TextString = \"\"\"\n",
        "\n",
        "679-397-5255\n",
        "2126660921\n",
        "212-998-0902\n",
        "888-888-2222\n",
        "800-555-1211\n",
        "800 555 1212\n",
        "800.555.1213\n",
        "(800) 555-1214\n",
        "1-800-555-1215\n",
        "1(800)555-1216\n",
        "800-555-1212-1234\n",
        "800-555-1212x1234\n",
        "800-555-1212 ext. 1234\n",
        "work 1-(800) 555.1212 #1234\n",
        "\n",
        "\"\"\""
      ],
      "execution_count": null,
      "outputs": []
    },
    {
      "cell_type": "code",
      "metadata": {
        "id": "iVb_E0JgV9Ev"
      },
      "source": [
        "regex = re.compile(r'(\\d{3})\\D*(\\d{3})\\D*(\\d{4})')\n",
        "matches = regex.finditer(TextString)\n",
        "\n",
        "phones = list()\n",
        "\n",
        "for m in matches:\n",
        "    area_code = m.group(1)\n",
        "    first_three_digits = m.group(2)\n",
        "    last_four_digits =  m.group(3)\n",
        "    \n",
        "    phone = \"(\" + area_code + \")\" + first_three_digits + \"-\" + last_four_digits\n",
        "            \n",
        "    phones.append(phone)\n",
        "\n",
        "phones"
      ],
      "execution_count": null,
      "outputs": []
    },
    {
      "cell_type": "markdown",
      "metadata": {
        "id": "T0YQym9wV9Ex"
      },
      "source": [
        "## String Replacement\n",
        "\n",
        "String Replacement (.sub()) allows us to return a version of our text where all instances that matched have been substituted with a replacement. For instance, if we want to mask phone numbers in a document: "
      ]
    },
    {
      "cell_type": "code",
      "metadata": {
        "id": "9ZqK-la3V9Ex"
      },
      "source": [
        "regex = re.compile('(\\d{3})\\D*(\\d{3})\\D*(\\d{4})')\n",
        "\n",
        "newstring = re.sub(regex, \"XXX-XXX-XXXX\", TextString)\n",
        "\n",
        "print(newstring)"
      ],
      "execution_count": null,
      "outputs": []
    },
    {
      "cell_type": "markdown",
      "metadata": {
        "id": "sW-WLPLNwhl4"
      },
      "source": [
        "---"
      ]
    },
    {
      "cell_type": "markdown",
      "source": [
        "# ⭕ **QUESTIONS?**"
      ],
      "metadata": {
        "id": "Cl5dInjNwhl_"
      }
    },
    {
      "cell_type": "markdown",
      "metadata": {
        "id": "MvmEFNfPwhmA"
      },
      "source": [
        "---"
      ]
    }
  ]
}