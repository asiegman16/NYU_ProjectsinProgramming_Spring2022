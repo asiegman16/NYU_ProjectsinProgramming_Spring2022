{
  "cells": [
    {
      "cell_type": "markdown",
      "metadata": {
        "id": "E0odeRpxSuTH"
      },
      "source": [
        "# Data Analysis with Python and Pandas "
      ]
    },
    {
      "cell_type": "markdown",
      "source": [
        "Pandas is a Python package that [\"allows for fast, flexible, and expressive data structures designed to make working with 'relational' or 'labeled' data both easy and intuitive.](https://pandas.pydata.org/pandas-docs/stable/getting_started/overview.html)"
      ],
      "metadata": {
        "id": "OqVIr8w0dpze"
      }
    },
    {
      "cell_type": "code",
      "metadata": {
        "id": "F7ebCLi_SuTJ"
      },
      "source": [
        "# import pandas"
      ],
      "execution_count": null,
      "outputs": []
    },
    {
      "cell_type": "markdown",
      "source": [
        "In this course, we will be using Pandas to do _a lot_. Today, we will use it for some preliminary data analysis. "
      ],
      "metadata": {
        "id": "OXOrHMXmd4vz"
      }
    },
    {
      "cell_type": "markdown",
      "metadata": {
        "id": "_O-WZw-JSuTN"
      },
      "source": [
        "# Data Upload\n",
        "\n",
        "The first step of data analysis is to actually get your data in the right place. Remember that using Colab is like borrowing someone else's computer. So, in order to upload our csv (called \"SternTechUserData.csv\") we need to: \n",
        "\n",
        "1. *Download the .zip file from Brightspace to your own computer,*\n",
        "\n",
        "2. *In Colab, click on the file icon on the left-hand side of the screen, then on the upload icon below \"Files\" again on the left-hand side of the screen.*\n",
        "\n",
        "3. *Upload the unzipped SternTechUserData.csv file.*"
      ]
    },
    {
      "cell_type": "markdown",
      "metadata": {
        "id": "ooYkrvKtSuTO"
      },
      "source": [
        "This dataset contains fake data that I created randomly to illustrate the basic tenants of data analysis using Python and Pandas. \n",
        "\n",
        "In order to read this dataset using Pandas, below we are setting our dataset equal to the variable 'df' (a commonplace variable name, standing for 'data frame'):"
      ]
    },
    {
      "cell_type": "code",
      "metadata": {
        "id": "q2KSgr5SSuTP"
      },
      "source": [
        "# read in the csv"
      ],
      "execution_count": null,
      "outputs": []
    },
    {
      "cell_type": "markdown",
      "metadata": {
        "id": "Uy06siIeGRZM"
      },
      "source": [
        "---"
      ]
    },
    {
      "cell_type": "markdown",
      "source": [
        "# ⭕ **QUESTIONS?**"
      ],
      "metadata": {
        "id": "4GZojYnLW3O4"
      }
    },
    {
      "cell_type": "markdown",
      "metadata": {
        "id": "Bv9DsLKxUy5i"
      },
      "source": [
        "---"
      ]
    },
    {
      "cell_type": "markdown",
      "metadata": {
        "id": "oEnTuqitSuTR"
      },
      "source": [
        "# Primary Analysis of our Data"
      ]
    },
    {
      "cell_type": "code",
      "metadata": {
        "id": "ObdJvu2PSuTS"
      },
      "source": [
        "pd.options.display.max_rows = 2000 \n",
        "    \n",
        "pd.options.display.max_columns = 50"
      ],
      "execution_count": null,
      "outputs": []
    },
    {
      "cell_type": "markdown",
      "metadata": {
        "id": "jJ-mJHNLSuTV"
      },
      "source": [
        "### `df.head()` \n",
        "will give us the first five rows of our data frame \n",
        "\n",
        "### `df.tail()` \n",
        "will give us the last five rows \n",
        "\n",
        "### `df.head(15)` \n",
        "will give us the first fifteen rows <br>"
      ]
    },
    {
      "cell_type": "code",
      "metadata": {
        "id": "oNEpTyitSuTV"
      },
      "source": [
        "# df.head()"
      ],
      "execution_count": null,
      "outputs": []
    },
    {
      "cell_type": "code",
      "source": [
        "# df.tail()"
      ],
      "metadata": {
        "id": "cm4zHA67GAfS"
      },
      "execution_count": null,
      "outputs": []
    },
    {
      "cell_type": "code",
      "source": [
        "# df.head(15)"
      ],
      "metadata": {
        "id": "WDyXDbvtGBal"
      },
      "execution_count": null,
      "outputs": []
    },
    {
      "cell_type": "markdown",
      "metadata": {
        "id": "HY_qhgFVSuTY"
      },
      "source": [
        "### `df.columns` \n",
        "will give us a list of all the column names in our data frame"
      ]
    },
    {
      "cell_type": "code",
      "metadata": {
        "id": "tCU-IcRBSuTY"
      },
      "source": [
        "# df.columns"
      ],
      "execution_count": null,
      "outputs": []
    },
    {
      "cell_type": "markdown",
      "metadata": {
        "id": "mJg-yATuSuTa"
      },
      "source": [
        "### `df.dtypes` \n",
        "is going to tell us how the computer is interpreting our data (for instance, as a string, integer, float, et. cetera). Please note that in Pandas, \"object\" is, for all intents and purposes, the same as a \"string\" in Python."
      ]
    },
    {
      "cell_type": "code",
      "metadata": {
        "id": "qMnC4u1uSuTb"
      },
      "source": [
        "# df.dtypes "
      ],
      "execution_count": null,
      "outputs": []
    },
    {
      "cell_type": "markdown",
      "metadata": {
        "id": "Yeu0RgamSuTe"
      },
      "source": [
        "Let's drop that \"unnamed\" column because it's not going to do us any good."
      ]
    },
    {
      "cell_type": "code",
      "metadata": {
        "id": "ibQxOWIESuTe"
      },
      "source": [
        "# drop unnamed column"
      ],
      "execution_count": null,
      "outputs": []
    },
    {
      "cell_type": "markdown",
      "metadata": {
        "id": "I-uIABteSuTh"
      },
      "source": [
        "### `df.describe` \n",
        "is going to give us the basic statistical metrics for our data frame"
      ]
    },
    {
      "cell_type": "code",
      "metadata": {
        "id": "1vH2QwLASuTh"
      },
      "source": [
        "# df.describe"
      ],
      "execution_count": null,
      "outputs": []
    },
    {
      "cell_type": "markdown",
      "metadata": {
        "id": "YlvZScvVSuTl"
      },
      "source": [
        "### `df.count()` \n",
        "is going to give us a count of the non-null cells in each column"
      ]
    },
    {
      "cell_type": "code",
      "metadata": {
        "id": "S4-IzictSuTl"
      },
      "source": [
        "# df.count()"
      ],
      "execution_count": null,
      "outputs": []
    },
    {
      "cell_type": "markdown",
      "metadata": {
        "id": "3Sxwh9AYSuTp"
      },
      "source": [
        "If we want to see the count of non-null cells for a particular column, we can use column indexing as such:"
      ]
    },
    {
      "cell_type": "code",
      "metadata": {
        "id": "z32udslTSuTq",
        "scrolled": true
      },
      "source": [
        "# value_counts()"
      ],
      "execution_count": null,
      "outputs": []
    },
    {
      "cell_type": "markdown",
      "metadata": {
        "id": "pCKdIkCkfRks"
      },
      "source": [
        "---"
      ]
    },
    {
      "cell_type": "markdown",
      "source": [
        "# ⭕ **QUESTIONS?**"
      ],
      "metadata": {
        "id": "silw_sdCfRks"
      }
    },
    {
      "cell_type": "markdown",
      "metadata": {
        "id": "NeTMQIIAfRkt"
      },
      "source": [
        "---"
      ]
    },
    {
      "cell_type": "markdown",
      "metadata": {
        "id": "5RUGtQrMSuTs"
      },
      "source": [
        "# A Note on Timestamps\n",
        "\n",
        "Now, looking back at our `df.dtypes` result, we see that our timestamp values are being stored as 'non-null object's' and not as timestamps, as we'd like. \n",
        "\n",
        "Remember, in Python, how your data is being perceived (the dtype) determines what you can do with it. If we want to do any sort of timeseries analysis in the future, we're going to need to convert our time data from object to timestamp. So, let's change that using `pd.to_datetime`"
      ]
    },
    {
      "cell_type": "code",
      "source": [
        "# df.dtypes"
      ],
      "metadata": {
        "id": "6GrUPXKGd6t7"
      },
      "execution_count": null,
      "outputs": []
    },
    {
      "cell_type": "code",
      "metadata": {
        "id": "CEDrMxpKSuTu"
      },
      "source": [
        "# to datetime"
      ],
      "execution_count": null,
      "outputs": []
    },
    {
      "cell_type": "code",
      "metadata": {
        "id": "k0poE68bSuTw"
      },
      "source": [
        "# df.head() # "
      ],
      "execution_count": null,
      "outputs": []
    },
    {
      "cell_type": "code",
      "source": [
        "# df.dtypes"
      ],
      "metadata": {
        "id": "9RapnR4gd76W"
      },
      "execution_count": null,
      "outputs": []
    },
    {
      "cell_type": "markdown",
      "metadata": {
        "id": "D76A4EzJgkCe"
      },
      "source": [
        "---"
      ]
    },
    {
      "cell_type": "markdown",
      "source": [
        "# ⭕ **QUESTIONS?**"
      ],
      "metadata": {
        "id": "KJy7ZhU9gkCm"
      }
    },
    {
      "cell_type": "markdown",
      "metadata": {
        "id": "qMm_Jdi6gkCn"
      },
      "source": [
        "---"
      ]
    },
    {
      "cell_type": "markdown",
      "metadata": {
        "id": "VTxxpM-dSuTy"
      },
      "source": [
        "# Primary Analysis, Continued"
      ]
    },
    {
      "cell_type": "markdown",
      "metadata": {
        "id": "2YNjfek0SuTz"
      },
      "source": [
        "### `df.sample()` \n",
        "is going to give us a random row from our data frame"
      ]
    },
    {
      "cell_type": "code",
      "metadata": {
        "id": "fwLT34LBSuTz"
      },
      "source": [
        "# df.sample()"
      ],
      "execution_count": null,
      "outputs": []
    },
    {
      "cell_type": "markdown",
      "metadata": {
        "id": "4EsQGcbzSuT2"
      },
      "source": [
        "# Indexing\n",
        "\n",
        "To select a single column from our data frame, we can use column indexing again. "
      ]
    },
    {
      "cell_type": "code",
      "metadata": {
        "id": "mPCrqtUnSuT2"
      },
      "source": [
        "# column index"
      ],
      "execution_count": null,
      "outputs": []
    },
    {
      "cell_type": "markdown",
      "metadata": {
        "id": "J87yBtOVSuT4"
      },
      "source": [
        "# .loc\n",
        "\n",
        "To select multiple columns, we can use `.loc` notation. \n",
        "\n",
        "_Note that `.loc` notation is used when you're sorting by column names, whereas `.iloc` is used when you're sorting by index number. For instance:_"
      ]
    },
    {
      "cell_type": "code",
      "metadata": {
        "id": "fOjd0EQZSuT5"
      },
      "source": [
        "# .loc"
      ],
      "execution_count": null,
      "outputs": []
    },
    {
      "cell_type": "code",
      "metadata": {
        "id": "xumunvW6SuT7"
      },
      "source": [
        "# .iloc"
      ],
      "execution_count": null,
      "outputs": []
    },
    {
      "cell_type": "code",
      "metadata": {
        "id": "EU-mwCdrSuT8"
      },
      "source": [
        "# .iloc[x,y]"
      ],
      "execution_count": null,
      "outputs": []
    },
    {
      "cell_type": "markdown",
      "metadata": {
        "id": "5AjUjljLg6dB"
      },
      "source": [
        "---"
      ]
    },
    {
      "cell_type": "markdown",
      "source": [
        "# ⭕ **QUESTIONS?**"
      ],
      "metadata": {
        "id": "N6IjnQzjg6dB"
      }
    },
    {
      "cell_type": "markdown",
      "metadata": {
        "id": "GPbU102dg6dB"
      },
      "source": [
        "---"
      ]
    },
    {
      "cell_type": "markdown",
      "metadata": {
        "id": "lcJ18O10SuT_"
      },
      "source": [
        "# `.mean()`"
      ]
    },
    {
      "cell_type": "code",
      "metadata": {
        "id": "KclLhn4ISuT_"
      },
      "source": [
        "# .mean()"
      ],
      "execution_count": null,
      "outputs": []
    },
    {
      "cell_type": "markdown",
      "metadata": {
        "id": "Li77xhEfSuUB"
      },
      "source": [
        "# `df.sort_values(by=...)`"
      ]
    },
    {
      "cell_type": "code",
      "metadata": {
        "id": "3OoVFGqUSuUC"
      },
      "source": [
        "# sort_values(by=)\n"
      ],
      "execution_count": null,
      "outputs": []
    },
    {
      "cell_type": "markdown",
      "metadata": {
        "id": "ILdla22ySuUE"
      },
      "source": [
        "# Conditional Indexing"
      ]
    },
    {
      "cell_type": "code",
      "metadata": {
        "id": "YF1T67H_SuUE",
        "scrolled": true
      },
      "source": [
        "# conditional"
      ],
      "execution_count": null,
      "outputs": []
    },
    {
      "cell_type": "markdown",
      "metadata": {
        "id": "qmVlwTgCfTU4"
      },
      "source": [
        "---"
      ]
    },
    {
      "cell_type": "markdown",
      "source": [
        "# ⭕ **QUESTIONS?**"
      ],
      "metadata": {
        "id": "1bhWnINRfTU5"
      }
    },
    {
      "cell_type": "markdown",
      "metadata": {
        "id": "wLoQNGf7fTU5"
      },
      "source": [
        "---"
      ]
    },
    {
      "cell_type": "markdown",
      "metadata": {
        "id": "LrOE9qqoSuUH"
      },
      "source": [
        "# Exercise 1: How many 21 year-olds were served Culinary ads?"
      ]
    },
    {
      "cell_type": "code",
      "metadata": {
        "id": "J-OCImonSuUI"
      },
      "source": [
        "# your code here"
      ],
      "execution_count": null,
      "outputs": []
    },
    {
      "cell_type": "markdown",
      "metadata": {
        "id": "wfFBYbt6SuUK"
      },
      "source": [
        "# Solution"
      ]
    },
    {
      "cell_type": "code",
      "metadata": {
        "id": "1CtqaKXISuUL",
        "scrolled": true
      },
      "source": [
        ""
      ],
      "execution_count": null,
      "outputs": []
    },
    {
      "cell_type": "markdown",
      "metadata": {
        "id": "w77l4daZSuUN"
      },
      "source": [
        "---"
      ]
    },
    {
      "cell_type": "markdown",
      "metadata": {
        "id": "htNGiENrSuUO"
      },
      "source": [
        "# Exercise 2: What is the most common company size in the SouthEast?"
      ]
    },
    {
      "cell_type": "code",
      "metadata": {
        "id": "2sHgI0HFSuUO"
      },
      "source": [
        "# your code here"
      ],
      "execution_count": null,
      "outputs": []
    },
    {
      "cell_type": "markdown",
      "metadata": {
        "id": "-1Kk9uG3SuUQ"
      },
      "source": [
        "# Solution"
      ]
    },
    {
      "cell_type": "code",
      "metadata": {
        "id": "RtOeLbhWSuUQ"
      },
      "source": [
        ""
      ],
      "execution_count": null,
      "outputs": []
    },
    {
      "cell_type": "code",
      "metadata": {
        "id": "n9RAuek4SuUS"
      },
      "source": [
        ""
      ],
      "execution_count": null,
      "outputs": []
    },
    {
      "cell_type": "markdown",
      "metadata": {
        "id": "Ap9lOQyffUgo"
      },
      "source": [
        "---"
      ]
    },
    {
      "cell_type": "markdown",
      "source": [
        "# ⭕ **QUESTIONS?**"
      ],
      "metadata": {
        "id": "qUY-m2ZNfUgp"
      }
    },
    {
      "cell_type": "markdown",
      "metadata": {
        "id": "Zu5phv-jfUgp"
      },
      "source": [
        "---"
      ]
    },
    {
      "cell_type": "markdown",
      "metadata": {
        "id": "yfiPYLVpSuUU"
      },
      "source": [
        "# Working with More JSON\n",
        "\n",
        "Moving on, let's look at a larger data set from https://data.cityofnewyork.us/Health/New-York-City-Leading-Causes-of-Death/jb7j-dtam that details the leading causes of dath in NYC."
      ]
    },
    {
      "cell_type": "code",
      "metadata": {
        "id": "b7Og5gONSuUV"
      },
      "source": [
        "import requests\n",
        "\n",
        "url = 'http://data.cityofnewyork.us/api/views/jb7j-dtam/rows.json'\n",
        "results = requests.get(url).json() # reading in the json just as we did with our citibike info last week"
      ],
      "execution_count": null,
      "outputs": []
    },
    {
      "cell_type": "markdown",
      "metadata": {
        "id": "EWhTEgLxSuUX"
      },
      "source": [
        "Again, we're going to use the requests library to read the json from the given URL. You'll note that there are two main fields returned in the json – the \"meta\" that just describes the actual metadata, and the data itself. "
      ]
    },
    {
      "cell_type": "code",
      "source": [
        "# results"
      ],
      "metadata": {
        "id": "hulAuqbleUSk"
      },
      "execution_count": null,
      "outputs": []
    },
    {
      "cell_type": "code",
      "metadata": {
        "id": "FJIUUeECSuUX"
      },
      "source": [
        "# keys"
      ],
      "execution_count": null,
      "outputs": []
    },
    {
      "cell_type": "code",
      "metadata": {
        "id": "6pBA60vZSuUZ"
      },
      "source": [
        "# data"
      ],
      "execution_count": null,
      "outputs": []
    },
    {
      "cell_type": "markdown",
      "metadata": {
        "id": "UnFj5gSjSuUb"
      },
      "source": [
        "Now we'll create a DataFrame from our JSON again..."
      ]
    },
    {
      "cell_type": "code",
      "metadata": {
        "id": "vdh7K4v7SuUc"
      },
      "source": [
        "# create df"
      ],
      "execution_count": null,
      "outputs": []
    },
    {
      "cell_type": "markdown",
      "metadata": {
        "id": "MpVyQrHsSuUe"
      },
      "source": [
        "# Adding Column Names"
      ]
    },
    {
      "cell_type": "code",
      "metadata": {
        "id": "cuFWyB5sSuUe"
      },
      "source": [
        ""
      ],
      "execution_count": null,
      "outputs": []
    },
    {
      "cell_type": "code",
      "metadata": {
        "id": "8eYFTUk3SuUh"
      },
      "source": [
        ""
      ],
      "execution_count": null,
      "outputs": []
    },
    {
      "cell_type": "code",
      "metadata": {
        "id": "UxODyvwqSuUj"
      },
      "source": [
        ""
      ],
      "execution_count": null,
      "outputs": []
    },
    {
      "cell_type": "markdown",
      "metadata": {
        "id": "Pn_tPDHTSuUl"
      },
      "source": [
        "# Dropping Data\n",
        "\n",
        "There's a lot of extraneous information in this dataframe, so we can drop a few of them. \n",
        "\n",
        "Note that here we are passing in a list of columns that we'd like to drop, and specifying that we want to drop the columns themselves. If we said \"axis=index\" we would be dropping the rows themselves. \n",
        "\n",
        "Also note that \"inplace=True\" specifies that instead of creating a new dataframe, we want to replace it with the current one (the one with fewer columns). This means that the new, smaller dataframe will persist across our entire notebook – aka, it implies that we want the change to be permanent. "
      ]
    },
    {
      "cell_type": "code",
      "metadata": {
        "id": "EvAGICPDSuUm"
      },
      "source": [
        "# df.drop"
      ],
      "execution_count": null,
      "outputs": []
    },
    {
      "cell_type": "markdown",
      "metadata": {
        "id": "8gxNVV2ySuUo"
      },
      "source": [
        "It looks like our last three rows appear to be metadata and not actual data, so let's drop those rows as well."
      ]
    },
    {
      "cell_type": "code",
      "metadata": {
        "id": "dG47O_bzSuUo"
      },
      "source": [
        "# df.drop"
      ],
      "execution_count": null,
      "outputs": []
    },
    {
      "cell_type": "markdown",
      "metadata": {
        "id": "HCzMCHHnSuUr"
      },
      "source": [
        "It's important to note that we can always rename our columns using a dictionary:"
      ]
    },
    {
      "cell_type": "code",
      "metadata": {
        "id": "-4W7tdQJSuUs"
      },
      "source": [
        "# renaming_dict"
      ],
      "execution_count": null,
      "outputs": []
    },
    {
      "cell_type": "markdown",
      "metadata": {
        "id": "kFjMAAKafXj6"
      },
      "source": [
        "---"
      ]
    },
    {
      "cell_type": "markdown",
      "source": [
        "# ⭕ **QUESTIONS?**"
      ],
      "metadata": {
        "id": "3WpPeiGMfXj7"
      }
    },
    {
      "cell_type": "markdown",
      "metadata": {
        "id": "X0lAImCZfXj7"
      },
      "source": [
        "---"
      ]
    },
    {
      "cell_type": "markdown",
      "metadata": {
        "id": "FFKTiyACSuUu"
      },
      "source": [
        "# Datatypes\n",
        "\n",
        "We've spoken a bit about datatypes, and why it's important that our computer is viewing data as we need it to; for instance, a string as a string, an integer as an integer.  \n",
        "\n",
        "Remember that 'object' is a string in this case..."
      ]
    },
    {
      "cell_type": "code",
      "metadata": {
        "id": "b0X-xVD9SuUv"
      },
      "source": [
        "# df.dtypes"
      ],
      "execution_count": null,
      "outputs": []
    },
    {
      "cell_type": "markdown",
      "metadata": {
        "id": "Hv_j2EtFSuUx"
      },
      "source": [
        "Let's change 'year' to an integer that way we can sort by year using `pd.to_numeric`:"
      ]
    },
    {
      "cell_type": "code",
      "metadata": {
        "id": "z5Zqj3zZSuUy"
      },
      "source": [
        "# to_numeric"
      ],
      "execution_count": null,
      "outputs": []
    },
    {
      "cell_type": "markdown",
      "metadata": {
        "id": "rtt5dDRqSuU0"
      },
      "source": [
        "# Errors\n",
        "\n",
        "We can also pass the `errors` command to specify what should happen if we anticipate Pandas is going to object to one of our changes. From the [documentation of to_numeric](http://pandas.pydata.org/pandas-docs/stable/generated/pandas.to_numeric.html), we get:\n",
        "\n",
        "* If ‘raise’, then invalid parsing will raise an exception\n",
        "* If ‘coerce’, then invalid parsing will be set as NaN\n",
        "* If ‘ignore’, then invalid parsing will return the input"
      ]
    },
    {
      "cell_type": "code",
      "metadata": {
        "id": "Zhrdw8_fSuU0"
      },
      "source": [
        "# coercions"
      ],
      "execution_count": null,
      "outputs": []
    },
    {
      "cell_type": "markdown",
      "metadata": {
        "id": "WhEXc0CYSuU3"
      },
      "source": [
        "# Categorical Variables\n",
        "\n",
        "Last but not least, we can also mark some variables as categorical"
      ]
    },
    {
      "cell_type": "code",
      "metadata": {
        "id": "zTQBIJlsSuU4"
      },
      "source": [
        "# categorical variables"
      ],
      "execution_count": null,
      "outputs": []
    },
    {
      "cell_type": "markdown",
      "metadata": {
        "id": "5te3K103fYnm"
      },
      "source": [
        "---"
      ]
    },
    {
      "cell_type": "markdown",
      "source": [
        "# ⭕ **QUESTIONS?**"
      ],
      "metadata": {
        "id": "ZE06_JUEfYnm"
      }
    },
    {
      "cell_type": "markdown",
      "metadata": {
        "id": "TtR2czSdSuU5"
      },
      "source": [
        "---"
      ]
    },
    {
      "cell_type": "markdown",
      "metadata": {
        "id": "1H6faRcpSuU6"
      },
      "source": [
        "# Exercise 3: What was the leading cause of death in 2014?"
      ]
    },
    {
      "cell_type": "code",
      "metadata": {
        "id": "k5f6JnbHSuU7"
      },
      "source": [
        "# your code here"
      ],
      "execution_count": null,
      "outputs": []
    },
    {
      "cell_type": "markdown",
      "metadata": {
        "id": "JmTmM0XqSuU-"
      },
      "source": [
        "# Solution"
      ]
    },
    {
      "cell_type": "code",
      "metadata": {
        "id": "GH8EmgrFSuU-"
      },
      "source": [
        ""
      ],
      "execution_count": null,
      "outputs": []
    },
    {
      "cell_type": "code",
      "metadata": {
        "id": "nyvA25DpSuVC"
      },
      "source": [
        ""
      ],
      "execution_count": null,
      "outputs": []
    },
    {
      "cell_type": "markdown",
      "metadata": {
        "id": "elaZcu_ASuVF"
      },
      "source": [
        "---"
      ]
    },
    {
      "cell_type": "markdown",
      "metadata": {
        "id": "fBRCc5NSSuVG"
      },
      "source": [
        "# Exercise 4: How many different causes of death were recorded in 2011?"
      ]
    },
    {
      "cell_type": "code",
      "metadata": {
        "id": "wInb91OPSuVG"
      },
      "source": [
        "# your code here"
      ],
      "execution_count": null,
      "outputs": []
    },
    {
      "cell_type": "markdown",
      "metadata": {
        "id": "kAlTQsQ4SuVI"
      },
      "source": [
        "# Solution"
      ]
    },
    {
      "cell_type": "code",
      "metadata": {
        "id": "VM4_-zcZSuVI"
      },
      "source": [
        ""
      ],
      "execution_count": null,
      "outputs": []
    },
    {
      "cell_type": "markdown",
      "metadata": {
        "id": "AnNEPOCdSuVM"
      },
      "source": [
        "---"
      ]
    }
  ],
  "metadata": {
    "colab": {
      "name": "Class2_unsolved.ipynb",
      "provenance": []
    },
    "kernelspec": {
      "display_name": "Python 3",
      "language": "python",
      "name": "python3"
    },
    "language_info": {
      "codemirror_mode": {
        "name": "ipython",
        "version": 3
      },
      "file_extension": ".py",
      "mimetype": "text/x-python",
      "name": "python",
      "nbconvert_exporter": "python",
      "pygments_lexer": "ipython3",
      "version": "3.7.3"
    }
  },
  "nbformat": 4,
  "nbformat_minor": 0
}